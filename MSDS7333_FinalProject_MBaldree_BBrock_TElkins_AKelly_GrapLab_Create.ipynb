{
 "cells": [
  {
   "cell_type": "markdown",
   "metadata": {},
   "source": [
    "<a id=toc></a>\n",
    "# MSDS 7333 - Final Project: Analyzing Airline Flight Delays Using Graphlab Create\n",
    "\n",
    "### Investigators\n",
    "- [Matt Baldree](mailto:mbaldree@smu.edu?subject=lab14)\n",
    "- [Ben Brock](bbrock@smu.edu?subject=lab14)\n",
    "- [Tom Elkins](telkins@smu.edu?subject=lab14)\n",
    "- [Austin Kelly](ajkelly@smu.edu?subject=lab14)\n",
    "\n",
    "\n",
    "<div style='margin-left:10%;margin-right:10%;margin-top:15px;background-color:#d3d3d3;padding:5px;'>\n",
    "    <h3>Instructions</h3>\n",
    "    <p>Work with the airline data set (use R or Python to manage out-of-core).</p>\n",
    "     <p>Answer the following questions by using the split-apply-combine technique</p>\n",
    "    <ol>\n",
    "        <li>Which airports are most likely to be delayed flying out of or into?</li>\n",
    "        <li>Which flights with same origin and destination are most likely to be delayed?</li>\n",
    "        <li>Can you regress how delayed a flight will be before it is delayed?</li>\n",
    "        <li>What are the most important features for this regression?\n",
    "            <ul>\n",
    "            <li>Remember to properly cross-validate models.\n",
    "            <li>Use meaningful evaluation criteria.\n",
    "            <li>Create at least one new feature variable for the regression.\n",
    "            </ul>\n",
    "            \n",
    "    </ol> \n",
    "            \n",
    "\n",
    "    <p>Report Sections:</p>\n",
    "    <ol>\n",
    "        <li>[Introduction](#introduction) <b>(5 points)</b></li>\n",
    "        <li>[Background](#background) <b>(10 points)</b></li>\n",
    "        <li>[Methods](#methods) <b>(30 points)</b></li>\n",
    "        <li>[Results](#results) <b>(30 points)</b></li>\n",
    "        <li>[Conclusion](#conclusion) <b>(5 points)</b></li>\n",
    "        <li>[Bibliography and Citation](#biblio) <b>(5 points)</b></li>\n",
    "        <li>[Code](#code) <b>(5 points)</b></li>\n",
    "    </ol>\n",
    "     <p>Other Grading Criterium:</p>\n",
    "    <ol>\n",
    "        <li>Grammar and Organization <b>(10 points)</b></li>\n",
    "    </ol>\n",
    "</div>"
   ]
  },
  {
   "cell_type": "markdown",
   "metadata": {},
   "source": [
    "<a id='introduction'></a>\n",
    "## 1 - Introduction\n",
    "<div style='margin-left:10%;margin-right:10%;margin-top:15px;background-color:#d3d3d3;padding:10px;'>\n",
    "<h3>Introduction (<b>5 points total</b>)</h3>\n",
    "</div>"
   ]
  },
  {
   "cell_type": "markdown",
   "metadata": {},
   "source": [
    "<div style=\"color:red\">\n",
    "<h3><b>Talk about how we are expanding upon the third question from the most recent case study&darr;</b></h3>\n",
    "</div>"
   ]
  },
  {
   "cell_type": "markdown",
   "metadata": {},
   "source": [
    "For this case study, we are tasked with acquiring and combining airline data from 22 separate years of airline history. Once the data is downloaded, it will be parsed and appended to a data frame in which we will be able to determine the statistics of said data. With such a large amount of data, it will be notably difficult to be able to use conventional methods to aggregate and perform calculations with conventional methods. \n",
    "\n",
    "The data in question totals just over 123.5 Million records and sizes up to be about 14 Gigabytes **uncompressed** of just csv data. \n",
    "\n",
    "That's a lot of data.\n",
    "\n",
    "In order to be able to not only handle the data but also perform calculations over the dataframe, we will need to utilize more than just a single core of the (current) 4-core processors embedded within our machines. When more than a single processor core is utilized, we venture into the realm of parallel computing. As we parse and sift through the data, parallel computig allows for a rather novel idea: break the data down into even parts and process all three parts at the same time. Many titans of industry use platforms such as Hadoop Distributed File System (HDFS) to manage massive amounts of data relatively quickly with clusters of commodity servers. When a massive datafile comes through (in our case, 12-14 Gb), instead of just using a single core to process all of the data, we will use three cores to process 4-5 Gb of data _each_, leaving a spare core (the master) to manage all three cores.\n",
    "\n",
    "For this case study, we were met with many roadblocks such as software compatibility with hardware along with version control. We found it was quite difficult to manage older versions of R alongside the newest version of Python, all in the same Jupyter notebook. To minimize these roadblocks, our team utilized the Python 3.4 package [Dask](https://dask.pydata.org/en/latest/) along with Python 2.7's [Graphlab-Create](https://turi.com/). Once these processes were executed in their entirety, we decided to cross-validate our findings by generating an equivalent Javascript environment to independently test our findings. "
   ]
  },
  {
   "cell_type": "markdown",
   "metadata": {},
   "source": [
    "[&uarr; ToC](#toc)"
   ]
  },
  {
   "cell_type": "markdown",
   "metadata": {},
   "source": [
    "<a id=\"background\"></a>\n",
    "## 2 - Background\n",
    "\n",
    "<div style='margin-left:10%;margin-right:10%;margin-top:15px;background-color:#d3d3d3;padding:10px;'>\n",
    "<h3>Background (<b>10 points total</b>)</h3>\n",
    "</div>"
   ]
  },
  {
   "cell_type": "markdown",
   "metadata": {},
   "source": [
    "<div style=\"color:red\">\n",
    "<h3><b>Reiterate and rephrase this section.&darr;</b></h3>\n",
    "</div>"
   ]
  },
  {
   "cell_type": "markdown",
   "metadata": {},
   "source": [
    "The dataset our group acquired was comprised of just over 123 Million records with 29 attributes. The attributes are described in this table:"
   ]
  },
  {
   "cell_type": "markdown",
   "metadata": {},
   "source": [
    "### Variable descriptions of original data set\n",
    "|Item|Name|Description|\n",
    "|:--:|:--|:--|\n",
    "|1|\tYear\t|1987-2008|\n",
    "|2|\tMonth\t|1-12|\n",
    "|3|\tDayofMonth\t|1-31|\n",
    "|4|\tDayOfWeek\t|1 (Monday) - 7 (Sunday)|\n",
    "|5|\tDepTime\t|actual departure time (local, hhmm)|\n",
    "|6|\tCRSDepTime\t|scheduled departure time (local, hhmm)|\n",
    "|7|\tArrTime\tactual |arrival time (local, hhmm)|\n",
    "|8|\tCRSArrTime\t|scheduled arrival time (local, hhmm)|\n",
    "|9|\tUniqueCarrier\t|unique carrier code|\n",
    "|10|\tFlightNum\t|flight number|\n",
    "|11|\tTailNum\tplane |tail number|\n",
    "|12|\tActualElapsedTime\t|in minutes|\n",
    "|13|\tCRSElapsedTime\t|in minutes|\n",
    "|14|\tAirTime\t|in minutes|\n",
    "|15|\tArrDelay\t|arrival delay, in minutes|\n",
    "|16|\tDepDelay\t|departure delay, in minutes|\n",
    "|17|\tOrigin\t|origin IATA airport code|\n",
    "|18|\tDest\t|destination IATA airport code|\n",
    "|19|\tDistance\t|in miles|\n",
    "|20|\tTaxiIn\t|taxi in time, in minutes|\n",
    "|21|\tTaxiOut\t|taxi out time in minutes|\n",
    "|22|\tCancelled\t|was the flight cancelled?|\n",
    "|23|\tCancellationCode\t|reason for cancellation (A = carrier, B = weather, C = NAS, D = security)|\n",
    "|24|\tDiverted\t|1 = yes, 0 = no|\n",
    "|25|\tCarrierDelay\t|in minutes|\n",
    "|26|\tWeatherDelay\t|in minutes|\n",
    "|27|\tNASDelay\t|in minutes|\n",
    "|28|\tSecurityDelay\t|in minutes|\n",
    "|29|\tLateAircraftDelay\t|in minutes|"
   ]
  },
  {
   "cell_type": "markdown",
   "metadata": {},
   "source": [
    "The three most-important (and required) questions are:\n",
    "\n",
    "(click on each question to navigate to the section of the notebook)"
   ]
  },
  {
   "cell_type": "markdown",
   "metadata": {},
   "source": [
    "<div style=\"color:red\">\n",
    "<h3><b>Determine which  links we need and which we don't&darr;</b></h3>\n",
    "</div>"
   ]
  },
  {
   "cell_type": "markdown",
   "metadata": {},
   "source": [
    "<li>[Q1.What airports have the most delayed departures and arrivals?](#Question1)</li> \n",
    "<li>[Q2. What flights are most frequently delayed with same origin and destination?](#Question2)</li>\n",
    "<li>[Q3. Can you predict a flight's delayed time in minutes?](#Question3)</li>"
   ]
  },
  {
   "cell_type": "markdown",
   "metadata": {},
   "source": [
    "While these questions seem obvious to us, it is important to clearly identify our intent of what we are looking to explore in order to discover an appropriate answer to the proper questions. \n",
    "\n",
    "First and foremost, we will want to investigate (using the basic aggregation functions) just which airports are the main culprits for delayed departures and which are subject to the late arrivals. It must be declared a flight is considered to be delayed if it leaves or arrives more than 15 minutes from it's scheduled time. Something to be investigated at a later date (when adequate resources are available) is whether or not the late departures influence the late arrivals more than the late arrivals affect the late departures.\n",
    "\n",
    "The second question begs investigation into whether or not there is a specific route plagued with said delays. With so many unique routes, it will be interesting to see whether or not one route really sticks out over the rest. Since our analysis is limited to our data, we will not be seeing many \"entire\" routes. This is attributed to the simple fact that many entire routes (e.g. New York to Los Angeles) are _typically_ comprised of multiple sub-routes. Thus, we will be focusing on the routes which comprise the longer routes. This does not mean that the longer routes are not included, however (we will see an example of this later). \n",
    "\n",
    "With all of the data we have at our disposal, we will explore the possibility of being able to predict just _how_ delayed a flight will be based on the many factors involved. While we do have numerous factors to possibly influence the outcome of our predictions, there are also several factors outside of the scope of this study that will be considered to be confounding variables. One such variable is the weather of the locations involved. As difficult as it may be to predict the delay of a particular flight based on the day of the week coupled with the carrier, it will be far more difficult to predict exact snowfall along with wind speed for the area in question, ultimately grounding unsuspecting travelers. "
   ]
  },
  {
   "cell_type": "markdown",
   "metadata": {},
   "source": [
    "[&uarr; ToC](#toc)"
   ]
  },
  {
   "cell_type": "markdown",
   "metadata": {},
   "source": [
    "<a id=\"methods\"></a>\n",
    "## 3 - Methods\n",
    "\n",
    "<div style='margin-left:10%;margin-right:10%;margin-top:15px;background-color:#d3d3d3;padding:10px;'>\n",
    "<h3>Methods (<b>30 points total</b>)</h3>"
   ]
  },
  {
   "cell_type": "markdown",
   "metadata": {},
   "source": [
    "<div style=\"color:red\">\n",
    "<h3><b>Rephrase this section and add links to each of the different models &darr;</b></h3>\n",
    "</div>"
   ]
  },
  {
   "cell_type": "markdown",
   "metadata": {},
   "source": [
    "<a id=Question3></a>\n",
    "## Q3. Can you predict a flight's delayed time in minutes?\n",
    "\n",
    "The goal of this section is to create a model we will be able to use with relative success in predicting these flight delays. Some confounding variables which will not be able to be added are variables such as the weather. It is well-known the weather (at this time) cannot be accurately predicted further out than a week. Of course, there are multiple underlying variables when we say \"weather\" such as the average windspeed for the day for the region or even the specific precipitation experienced. Until mankind is able to accurately predict the weather, we will never have a perfect model. \n",
    "\n",
    "However, there are some variables not explicitly included in the data which are highly influential, one being the holidays and the days which surround them. To better utilize the effect this variable has on delays, we will create a variable named `hdays` to indicate how many days lie between the flight event date and the nearest holiday(s). This is only one variable of potentially many which would serve our purpose well, but more time would be needed to adequately explore these other options. "
   ]
  },
  {
   "cell_type": "markdown",
   "metadata": {},
   "source": [
    "<h2>Predicting Airline On-Time Performance using Turi's GraphLab Create</h2>\n",
    "\n",
    "Here, we used the work done by Prof Larson discussed in the Split_Apply_Combine in R and Python.ipynb.  \n",
    "\n",
    "- one hot encoded data set - airline_encoded_data SFrame </li>\n",
    "\n"
   ]
  },
  {
   "cell_type": "code",
   "execution_count": 1,
   "metadata": {
    "collapsed": true
   },
   "outputs": [],
   "source": [
    "import graphlab\n",
    "import graphlab as gl"
   ]
  },
  {
   "cell_type": "markdown",
   "metadata": {},
   "source": [
    "## Get an airline_encoded_data SFRAME for all of the alirline data from 1988 to 2008\n",
    "\n",
    "#### Note: It takes about 4 min and 30 seconds to execute the code below."
   ]
  },
  {
   "cell_type": "code",
   "execution_count": 2,
   "metadata": {},
   "outputs": [
    {
     "name": "stdout",
     "output_type": "stream",
     "text": [
      "This non-commercial license of GraphLab Create for academic use is assigned to bbrock@smu.edu and will expire on August 02, 2018.\n"
     ]
    },
    {
     "name": "stderr",
     "output_type": "stream",
     "text": [
      "[INFO] graphlab.cython.cy_server: GraphLab Create v2.1 started. Logging: C:\\Users\\BENBRO~1\\AppData\\Local\\Temp\\graphlab_server_1502419640.log.0\n"
     ]
    },
    {
     "data": {
      "text/html": [
       "<pre>Finished parsing file G:\\Geek Squad Data Back Up\\Documents\\GitHub\\tutorials\\notebooks\\data\\AirlineDataAll.csv</pre>"
      ],
      "text/plain": [
       "Finished parsing file G:\\Geek Squad Data Back Up\\Documents\\GitHub\\tutorials\\notebooks\\data\\AirlineDataAll.csv"
      ]
     },
     "metadata": {},
     "output_type": "display_data"
    },
    {
     "data": {
      "text/html": [
       "<pre>Parsing completed. Parsed 100 lines in 1.03196 secs.</pre>"
      ],
      "text/plain": [
       "Parsing completed. Parsed 100 lines in 1.03196 secs."
      ]
     },
     "metadata": {},
     "output_type": "display_data"
    },
    {
     "name": "stdout",
     "output_type": "stream",
     "text": [
      "------------------------------------------------------\n",
      "Inferred types from first 100 line(s) of file as \n",
      "column_type_hints=[long,long,long,long,long,long,long,long,long,long,long,long,long,str,long,long,long,long,long,str,str,long,long,long,str,str,str,str,str]\n",
      "If parsing fails due to incorrect types, you can correct\n",
      "the inferred type list above and pass it to read_csv in\n",
      "the column_type_hints argument\n",
      "------------------------------------------------------\n"
     ]
    },
    {
     "data": {
      "text/html": [
       "<pre>Read 535527 lines. Lines per second: 287094</pre>"
      ],
      "text/plain": [
       "Read 535527 lines. Lines per second: 287094"
      ]
     },
     "metadata": {},
     "output_type": "display_data"
    },
    {
     "data": {
      "text/html": [
       "<pre>Read 3231890 lines. Lines per second: 437137</pre>"
      ],
      "text/plain": [
       "Read 3231890 lines. Lines per second: 437137"
      ]
     },
     "metadata": {},
     "output_type": "display_data"
    },
    {
     "data": {
      "text/html": [
       "<pre>Read 5926155 lines. Lines per second: 456729</pre>"
      ],
      "text/plain": [
       "Read 5926155 lines. Lines per second: 456729"
      ]
     },
     "metadata": {},
     "output_type": "display_data"
    },
    {
     "data": {
      "text/html": [
       "<pre>Read 8617751 lines. Lines per second: 466410</pre>"
      ],
      "text/plain": [
       "Read 8617751 lines. Lines per second: 466410"
      ]
     },
     "metadata": {},
     "output_type": "display_data"
    },
    {
     "data": {
      "text/html": [
       "<pre>Read 11305731 lines. Lines per second: 473206</pre>"
      ],
      "text/plain": [
       "Read 11305731 lines. Lines per second: 473206"
      ]
     },
     "metadata": {},
     "output_type": "display_data"
    },
    {
     "data": {
      "text/html": [
       "<pre>Read 13999232 lines. Lines per second: 473165</pre>"
      ],
      "text/plain": [
       "Read 13999232 lines. Lines per second: 473165"
      ]
     },
     "metadata": {},
     "output_type": "display_data"
    },
    {
     "data": {
      "text/html": [
       "<pre>Read 16681635 lines. Lines per second: 473708</pre>"
      ],
      "text/plain": [
       "Read 16681635 lines. Lines per second: 473708"
      ]
     },
     "metadata": {},
     "output_type": "display_data"
    },
    {
     "data": {
      "text/html": [
       "<pre>Read 19373692 lines. Lines per second: 473493</pre>"
      ],
      "text/plain": [
       "Read 19373692 lines. Lines per second: 473493"
      ]
     },
     "metadata": {},
     "output_type": "display_data"
    },
    {
     "data": {
      "text/html": [
       "<pre>Read 22055262 lines. Lines per second: 474499</pre>"
      ],
      "text/plain": [
       "Read 22055262 lines. Lines per second: 474499"
      ]
     },
     "metadata": {},
     "output_type": "display_data"
    },
    {
     "data": {
      "text/html": [
       "<pre>Read 24749174 lines. Lines per second: 476231</pre>"
      ],
      "text/plain": [
       "Read 24749174 lines. Lines per second: 476231"
      ]
     },
     "metadata": {},
     "output_type": "display_data"
    },
    {
     "data": {
      "text/html": [
       "<pre>Read 27427697 lines. Lines per second: 476690</pre>"
      ],
      "text/plain": [
       "Read 27427697 lines. Lines per second: 476690"
      ]
     },
     "metadata": {},
     "output_type": "display_data"
    },
    {
     "data": {
      "text/html": [
       "<pre>Read 30119475 lines. Lines per second: 478549</pre>"
      ],
      "text/plain": [
       "Read 30119475 lines. Lines per second: 478549"
      ]
     },
     "metadata": {},
     "output_type": "display_data"
    },
    {
     "data": {
      "text/html": [
       "<pre>Read 32796715 lines. Lines per second: 479995</pre>"
      ],
      "text/plain": [
       "Read 32796715 lines. Lines per second: 479995"
      ]
     },
     "metadata": {},
     "output_type": "display_data"
    },
    {
     "data": {
      "text/html": [
       "<pre>Read 35485936 lines. Lines per second: 480779</pre>"
      ],
      "text/plain": [
       "Read 35485936 lines. Lines per second: 480779"
      ]
     },
     "metadata": {},
     "output_type": "display_data"
    },
    {
     "data": {
      "text/html": [
       "<pre>Read 38167980 lines. Lines per second: 482131</pre>"
      ],
      "text/plain": [
       "Read 38167980 lines. Lines per second: 482131"
      ]
     },
     "metadata": {},
     "output_type": "display_data"
    },
    {
     "data": {
      "text/html": [
       "<pre>Read 40876846 lines. Lines per second: 483538</pre>"
      ],
      "text/plain": [
       "Read 40876846 lines. Lines per second: 483538"
      ]
     },
     "metadata": {},
     "output_type": "display_data"
    },
    {
     "data": {
      "text/html": [
       "<pre>Read 43575636 lines. Lines per second: 484752</pre>"
      ],
      "text/plain": [
       "Read 43575636 lines. Lines per second: 484752"
      ]
     },
     "metadata": {},
     "output_type": "display_data"
    },
    {
     "data": {
      "text/html": [
       "<pre>Read 46279310 lines. Lines per second: 485477</pre>"
      ],
      "text/plain": [
       "Read 46279310 lines. Lines per second: 485477"
      ]
     },
     "metadata": {},
     "output_type": "display_data"
    },
    {
     "data": {
      "text/html": [
       "<pre>Read 48971539 lines. Lines per second: 486452</pre>"
      ],
      "text/plain": [
       "Read 48971539 lines. Lines per second: 486452"
      ]
     },
     "metadata": {},
     "output_type": "display_data"
    },
    {
     "data": {
      "text/html": [
       "<pre>Read 51672909 lines. Lines per second: 486958</pre>"
      ],
      "text/plain": [
       "Read 51672909 lines. Lines per second: 486958"
      ]
     },
     "metadata": {},
     "output_type": "display_data"
    },
    {
     "data": {
      "text/html": [
       "<pre>Read 54363732 lines. Lines per second: 487622</pre>"
      ],
      "text/plain": [
       "Read 54363732 lines. Lines per second: 487622"
      ]
     },
     "metadata": {},
     "output_type": "display_data"
    },
    {
     "data": {
      "text/html": [
       "<pre>Read 57062236 lines. Lines per second: 488463</pre>"
      ],
      "text/plain": [
       "Read 57062236 lines. Lines per second: 488463"
      ]
     },
     "metadata": {},
     "output_type": "display_data"
    },
    {
     "data": {
      "text/html": [
       "<pre>Read 59746767 lines. Lines per second: 489119</pre>"
      ],
      "text/plain": [
       "Read 59746767 lines. Lines per second: 489119"
      ]
     },
     "metadata": {},
     "output_type": "display_data"
    },
    {
     "data": {
      "text/html": [
       "<pre>Read 62445564 lines. Lines per second: 490038</pre>"
      ],
      "text/plain": [
       "Read 62445564 lines. Lines per second: 490038"
      ]
     },
     "metadata": {},
     "output_type": "display_data"
    },
    {
     "data": {
      "text/html": [
       "<pre>Read 65129168 lines. Lines per second: 490556</pre>"
      ],
      "text/plain": [
       "Read 65129168 lines. Lines per second: 490556"
      ]
     },
     "metadata": {},
     "output_type": "display_data"
    },
    {
     "data": {
      "text/html": [
       "<pre>Read 67820046 lines. Lines per second: 491014</pre>"
      ],
      "text/plain": [
       "Read 67820046 lines. Lines per second: 491014"
      ]
     },
     "metadata": {},
     "output_type": "display_data"
    },
    {
     "data": {
      "text/html": [
       "<pre>Read 70496178 lines. Lines per second: 491631</pre>"
      ],
      "text/plain": [
       "Read 70496178 lines. Lines per second: 491631"
      ]
     },
     "metadata": {},
     "output_type": "display_data"
    },
    {
     "data": {
      "text/html": [
       "<pre>Read 73187782 lines. Lines per second: 492001</pre>"
      ],
      "text/plain": [
       "Read 73187782 lines. Lines per second: 492001"
      ]
     },
     "metadata": {},
     "output_type": "display_data"
    },
    {
     "data": {
      "text/html": [
       "<pre>Read 75865960 lines. Lines per second: 492557</pre>"
      ],
      "text/plain": [
       "Read 75865960 lines. Lines per second: 492557"
      ]
     },
     "metadata": {},
     "output_type": "display_data"
    },
    {
     "data": {
      "text/html": [
       "<pre>Read 78548242 lines. Lines per second: 492464</pre>"
      ],
      "text/plain": [
       "Read 78548242 lines. Lines per second: 492464"
      ]
     },
     "metadata": {},
     "output_type": "display_data"
    },
    {
     "data": {
      "text/html": [
       "<pre>Read 81214128 lines. Lines per second: 492731</pre>"
      ],
      "text/plain": [
       "Read 81214128 lines. Lines per second: 492731"
      ]
     },
     "metadata": {},
     "output_type": "display_data"
    },
    {
     "data": {
      "text/html": [
       "<pre>Read 83899499 lines. Lines per second: 491914</pre>"
      ],
      "text/plain": [
       "Read 83899499 lines. Lines per second: 491914"
      ]
     },
     "metadata": {},
     "output_type": "display_data"
    },
    {
     "data": {
      "text/html": [
       "<pre>Read 86156538 lines. Lines per second: 490213</pre>"
      ],
      "text/plain": [
       "Read 86156538 lines. Lines per second: 490213"
      ]
     },
     "metadata": {},
     "output_type": "display_data"
    },
    {
     "data": {
      "text/html": [
       "<pre>Read 88395912 lines. Lines per second: 488829</pre>"
      ],
      "text/plain": [
       "Read 88395912 lines. Lines per second: 488829"
      ]
     },
     "metadata": {},
     "output_type": "display_data"
    },
    {
     "data": {
      "text/html": [
       "<pre>Read 91211027 lines. Lines per second: 487882</pre>"
      ],
      "text/plain": [
       "Read 91211027 lines. Lines per second: 487882"
      ]
     },
     "metadata": {},
     "output_type": "display_data"
    },
    {
     "data": {
      "text/html": [
       "<pre>Read 93463564 lines. Lines per second: 486678</pre>"
      ],
      "text/plain": [
       "Read 93463564 lines. Lines per second: 486678"
      ]
     },
     "metadata": {},
     "output_type": "display_data"
    },
    {
     "data": {
      "text/html": [
       "<pre>Read 95704158 lines. Lines per second: 485569</pre>"
      ],
      "text/plain": [
       "Read 95704158 lines. Lines per second: 485569"
      ]
     },
     "metadata": {},
     "output_type": "display_data"
    },
    {
     "data": {
      "text/html": [
       "<pre>Read 98522588 lines. Lines per second: 484690</pre>"
      ],
      "text/plain": [
       "Read 98522588 lines. Lines per second: 484690"
      ]
     },
     "metadata": {},
     "output_type": "display_data"
    },
    {
     "data": {
      "text/html": [
       "<pre>Read 100768481 lines. Lines per second: 483618</pre>"
      ],
      "text/plain": [
       "Read 100768481 lines. Lines per second: 483618"
      ]
     },
     "metadata": {},
     "output_type": "display_data"
    },
    {
     "data": {
      "text/html": [
       "<pre>Read 103007149 lines. Lines per second: 482894</pre>"
      ],
      "text/plain": [
       "Read 103007149 lines. Lines per second: 482894"
      ]
     },
     "metadata": {},
     "output_type": "display_data"
    },
    {
     "data": {
      "text/html": [
       "<pre>Read 105259984 lines. Lines per second: 481900</pre>"
      ],
      "text/plain": [
       "Read 105259984 lines. Lines per second: 481900"
      ]
     },
     "metadata": {},
     "output_type": "display_data"
    },
    {
     "data": {
      "text/html": [
       "<pre>Read 107507415 lines. Lines per second: 481012</pre>"
      ],
      "text/plain": [
       "Read 107507415 lines. Lines per second: 481012"
      ]
     },
     "metadata": {},
     "output_type": "display_data"
    },
    {
     "data": {
      "text/html": [
       "<pre>Read 110301363 lines. Lines per second: 480367</pre>"
      ],
      "text/plain": [
       "Read 110301363 lines. Lines per second: 480367"
      ]
     },
     "metadata": {},
     "output_type": "display_data"
    },
    {
     "data": {
      "text/html": [
       "<pre>Read 112552384 lines. Lines per second: 479586</pre>"
      ],
      "text/plain": [
       "Read 112552384 lines. Lines per second: 479586"
      ]
     },
     "metadata": {},
     "output_type": "display_data"
    },
    {
     "data": {
      "text/html": [
       "<pre>Read 115354955 lines. Lines per second: 478647</pre>"
      ],
      "text/plain": [
       "Read 115354955 lines. Lines per second: 478647"
      ]
     },
     "metadata": {},
     "output_type": "display_data"
    },
    {
     "data": {
      "text/html": [
       "<pre>Read 118088023 lines. Lines per second: 478561</pre>"
      ],
      "text/plain": [
       "Read 118088023 lines. Lines per second: 478561"
      ]
     },
     "metadata": {},
     "output_type": "display_data"
    },
    {
     "data": {
      "text/html": [
       "<pre>Read 120783286 lines. Lines per second: 478961</pre>"
      ],
      "text/plain": [
       "Read 120783286 lines. Lines per second: 478961"
      ]
     },
     "metadata": {},
     "output_type": "display_data"
    },
    {
     "data": {
      "text/html": [
       "<pre>Read 123457687 lines. Lines per second: 479836</pre>"
      ],
      "text/plain": [
       "Read 123457687 lines. Lines per second: 479836"
      ]
     },
     "metadata": {},
     "output_type": "display_data"
    },
    {
     "data": {
      "text/html": [
       "<pre>Finished parsing file G:\\Geek Squad Data Back Up\\Documents\\GitHub\\tutorials\\notebooks\\data\\AirlineDataAll.csv</pre>"
      ],
      "text/plain": [
       "Finished parsing file G:\\Geek Squad Data Back Up\\Documents\\GitHub\\tutorials\\notebooks\\data\\AirlineDataAll.csv"
      ]
     },
     "metadata": {},
     "output_type": "display_data"
    },
    {
     "data": {
      "text/html": [
       "<pre>Parsing completed. Parsed 123534969 lines in 257.481 secs.</pre>"
      ],
      "text/plain": [
       "Parsing completed. Parsed 123534969 lines in 257.481 secs."
      ]
     },
     "metadata": {},
     "output_type": "display_data"
    },
    {
     "name": "stdout",
     "output_type": "stream",
     "text": [
      "Wall time: 4min 51s\n"
     ]
    },
    {
     "data": {
      "text/plain": [
       "(123534969, 29)"
      ]
     },
     "execution_count": 2,
     "metadata": {},
     "output_type": "execute_result"
    }
   ],
   "source": [
    "%time airline_encoded_data = gl.SFrame('data/'+ 'AirlineDataAll.csv')\n",
    "airline_encoded_data.shape"
   ]
  },
  {
   "cell_type": "code",
   "execution_count": 3,
   "metadata": {},
   "outputs": [
    {
     "data": {
      "text/plain": [
       "(123534969, 29)"
      ]
     },
     "execution_count": 3,
     "metadata": {},
     "output_type": "execute_result"
    }
   ],
   "source": [
    "airline_encoded_data.shape"
   ]
  },
  {
   "cell_type": "code",
   "execution_count": 4,
   "metadata": {},
   "outputs": [
    {
     "name": "stdout",
     "output_type": "stream",
     "text": [
      "Wall time: 398 ms\n"
     ]
    },
    {
     "data": {
      "text/html": [
       "<div style=\"max-height:1000px;max-width:1500px;overflow:auto;\"><table frame=\"box\" rules=\"cols\">\n",
       "    <tr>\n",
       "        <th style=\"padding-left: 1em; padding-right: 1em; text-align: center\">Year</th>\n",
       "        <th style=\"padding-left: 1em; padding-right: 1em; text-align: center\">Month</th>\n",
       "        <th style=\"padding-left: 1em; padding-right: 1em; text-align: center\">DayofMonth</th>\n",
       "        <th style=\"padding-left: 1em; padding-right: 1em; text-align: center\">DayOfWeek</th>\n",
       "        <th style=\"padding-left: 1em; padding-right: 1em; text-align: center\">DepTime</th>\n",
       "        <th style=\"padding-left: 1em; padding-right: 1em; text-align: center\">CRSDepTime</th>\n",
       "        <th style=\"padding-left: 1em; padding-right: 1em; text-align: center\">ArrTime</th>\n",
       "        <th style=\"padding-left: 1em; padding-right: 1em; text-align: center\">CRSArrTime</th>\n",
       "        <th style=\"padding-left: 1em; padding-right: 1em; text-align: center\">UniqueCarrier</th>\n",
       "        <th style=\"padding-left: 1em; padding-right: 1em; text-align: center\">FlightNum</th>\n",
       "        <th style=\"padding-left: 1em; padding-right: 1em; text-align: center\">TailNum</th>\n",
       "    </tr>\n",
       "    <tr>\n",
       "        <td style=\"padding-left: 1em; padding-right: 1em; text-align: center; vertical-align: top\">1987</td>\n",
       "        <td style=\"padding-left: 1em; padding-right: 1em; text-align: center; vertical-align: top\">10</td>\n",
       "        <td style=\"padding-left: 1em; padding-right: 1em; text-align: center; vertical-align: top\">14</td>\n",
       "        <td style=\"padding-left: 1em; padding-right: 1em; text-align: center; vertical-align: top\">3</td>\n",
       "        <td style=\"padding-left: 1em; padding-right: 1em; text-align: center; vertical-align: top\">741</td>\n",
       "        <td style=\"padding-left: 1em; padding-right: 1em; text-align: center; vertical-align: top\">730</td>\n",
       "        <td style=\"padding-left: 1em; padding-right: 1em; text-align: center; vertical-align: top\">912</td>\n",
       "        <td style=\"padding-left: 1em; padding-right: 1em; text-align: center; vertical-align: top\">849</td>\n",
       "        <td style=\"padding-left: 1em; padding-right: 1em; text-align: center; vertical-align: top\">7</td>\n",
       "        <td style=\"padding-left: 1em; padding-right: 1em; text-align: center; vertical-align: top\">1451</td>\n",
       "        <td style=\"padding-left: 1em; padding-right: 1em; text-align: center; vertical-align: top\">9722</td>\n",
       "    </tr>\n",
       "    <tr>\n",
       "        <td style=\"padding-left: 1em; padding-right: 1em; text-align: center; vertical-align: top\">1987</td>\n",
       "        <td style=\"padding-left: 1em; padding-right: 1em; text-align: center; vertical-align: top\">10</td>\n",
       "        <td style=\"padding-left: 1em; padding-right: 1em; text-align: center; vertical-align: top\">15</td>\n",
       "        <td style=\"padding-left: 1em; padding-right: 1em; text-align: center; vertical-align: top\">4</td>\n",
       "        <td style=\"padding-left: 1em; padding-right: 1em; text-align: center; vertical-align: top\">729</td>\n",
       "        <td style=\"padding-left: 1em; padding-right: 1em; text-align: center; vertical-align: top\">730</td>\n",
       "        <td style=\"padding-left: 1em; padding-right: 1em; text-align: center; vertical-align: top\">903</td>\n",
       "        <td style=\"padding-left: 1em; padding-right: 1em; text-align: center; vertical-align: top\">849</td>\n",
       "        <td style=\"padding-left: 1em; padding-right: 1em; text-align: center; vertical-align: top\">7</td>\n",
       "        <td style=\"padding-left: 1em; padding-right: 1em; text-align: center; vertical-align: top\">1451</td>\n",
       "        <td style=\"padding-left: 1em; padding-right: 1em; text-align: center; vertical-align: top\">9722</td>\n",
       "    </tr>\n",
       "    <tr>\n",
       "        <td style=\"padding-left: 1em; padding-right: 1em; text-align: center; vertical-align: top\">1987</td>\n",
       "        <td style=\"padding-left: 1em; padding-right: 1em; text-align: center; vertical-align: top\">10</td>\n",
       "        <td style=\"padding-left: 1em; padding-right: 1em; text-align: center; vertical-align: top\">17</td>\n",
       "        <td style=\"padding-left: 1em; padding-right: 1em; text-align: center; vertical-align: top\">6</td>\n",
       "        <td style=\"padding-left: 1em; padding-right: 1em; text-align: center; vertical-align: top\">741</td>\n",
       "        <td style=\"padding-left: 1em; padding-right: 1em; text-align: center; vertical-align: top\">730</td>\n",
       "        <td style=\"padding-left: 1em; padding-right: 1em; text-align: center; vertical-align: top\">918</td>\n",
       "        <td style=\"padding-left: 1em; padding-right: 1em; text-align: center; vertical-align: top\">849</td>\n",
       "        <td style=\"padding-left: 1em; padding-right: 1em; text-align: center; vertical-align: top\">7</td>\n",
       "        <td style=\"padding-left: 1em; padding-right: 1em; text-align: center; vertical-align: top\">1451</td>\n",
       "        <td style=\"padding-left: 1em; padding-right: 1em; text-align: center; vertical-align: top\">9722</td>\n",
       "    </tr>\n",
       "    <tr>\n",
       "        <td style=\"padding-left: 1em; padding-right: 1em; text-align: center; vertical-align: top\">1987</td>\n",
       "        <td style=\"padding-left: 1em; padding-right: 1em; text-align: center; vertical-align: top\">10</td>\n",
       "        <td style=\"padding-left: 1em; padding-right: 1em; text-align: center; vertical-align: top\">18</td>\n",
       "        <td style=\"padding-left: 1em; padding-right: 1em; text-align: center; vertical-align: top\">7</td>\n",
       "        <td style=\"padding-left: 1em; padding-right: 1em; text-align: center; vertical-align: top\">729</td>\n",
       "        <td style=\"padding-left: 1em; padding-right: 1em; text-align: center; vertical-align: top\">730</td>\n",
       "        <td style=\"padding-left: 1em; padding-right: 1em; text-align: center; vertical-align: top\">847</td>\n",
       "        <td style=\"padding-left: 1em; padding-right: 1em; text-align: center; vertical-align: top\">849</td>\n",
       "        <td style=\"padding-left: 1em; padding-right: 1em; text-align: center; vertical-align: top\">7</td>\n",
       "        <td style=\"padding-left: 1em; padding-right: 1em; text-align: center; vertical-align: top\">1451</td>\n",
       "        <td style=\"padding-left: 1em; padding-right: 1em; text-align: center; vertical-align: top\">9722</td>\n",
       "    </tr>\n",
       "    <tr>\n",
       "        <td style=\"padding-left: 1em; padding-right: 1em; text-align: center; vertical-align: top\">1987</td>\n",
       "        <td style=\"padding-left: 1em; padding-right: 1em; text-align: center; vertical-align: top\">10</td>\n",
       "        <td style=\"padding-left: 1em; padding-right: 1em; text-align: center; vertical-align: top\">19</td>\n",
       "        <td style=\"padding-left: 1em; padding-right: 1em; text-align: center; vertical-align: top\">1</td>\n",
       "        <td style=\"padding-left: 1em; padding-right: 1em; text-align: center; vertical-align: top\">749</td>\n",
       "        <td style=\"padding-left: 1em; padding-right: 1em; text-align: center; vertical-align: top\">730</td>\n",
       "        <td style=\"padding-left: 1em; padding-right: 1em; text-align: center; vertical-align: top\">922</td>\n",
       "        <td style=\"padding-left: 1em; padding-right: 1em; text-align: center; vertical-align: top\">849</td>\n",
       "        <td style=\"padding-left: 1em; padding-right: 1em; text-align: center; vertical-align: top\">7</td>\n",
       "        <td style=\"padding-left: 1em; padding-right: 1em; text-align: center; vertical-align: top\">1451</td>\n",
       "        <td style=\"padding-left: 1em; padding-right: 1em; text-align: center; vertical-align: top\">9722</td>\n",
       "    </tr>\n",
       "    <tr>\n",
       "        <td style=\"padding-left: 1em; padding-right: 1em; text-align: center; vertical-align: top\">1987</td>\n",
       "        <td style=\"padding-left: 1em; padding-right: 1em; text-align: center; vertical-align: top\">10</td>\n",
       "        <td style=\"padding-left: 1em; padding-right: 1em; text-align: center; vertical-align: top\">21</td>\n",
       "        <td style=\"padding-left: 1em; padding-right: 1em; text-align: center; vertical-align: top\">3</td>\n",
       "        <td style=\"padding-left: 1em; padding-right: 1em; text-align: center; vertical-align: top\">728</td>\n",
       "        <td style=\"padding-left: 1em; padding-right: 1em; text-align: center; vertical-align: top\">730</td>\n",
       "        <td style=\"padding-left: 1em; padding-right: 1em; text-align: center; vertical-align: top\">848</td>\n",
       "        <td style=\"padding-left: 1em; padding-right: 1em; text-align: center; vertical-align: top\">849</td>\n",
       "        <td style=\"padding-left: 1em; padding-right: 1em; text-align: center; vertical-align: top\">7</td>\n",
       "        <td style=\"padding-left: 1em; padding-right: 1em; text-align: center; vertical-align: top\">1451</td>\n",
       "        <td style=\"padding-left: 1em; padding-right: 1em; text-align: center; vertical-align: top\">9722</td>\n",
       "    </tr>\n",
       "    <tr>\n",
       "        <td style=\"padding-left: 1em; padding-right: 1em; text-align: center; vertical-align: top\">1987</td>\n",
       "        <td style=\"padding-left: 1em; padding-right: 1em; text-align: center; vertical-align: top\">10</td>\n",
       "        <td style=\"padding-left: 1em; padding-right: 1em; text-align: center; vertical-align: top\">22</td>\n",
       "        <td style=\"padding-left: 1em; padding-right: 1em; text-align: center; vertical-align: top\">4</td>\n",
       "        <td style=\"padding-left: 1em; padding-right: 1em; text-align: center; vertical-align: top\">728</td>\n",
       "        <td style=\"padding-left: 1em; padding-right: 1em; text-align: center; vertical-align: top\">730</td>\n",
       "        <td style=\"padding-left: 1em; padding-right: 1em; text-align: center; vertical-align: top\">852</td>\n",
       "        <td style=\"padding-left: 1em; padding-right: 1em; text-align: center; vertical-align: top\">849</td>\n",
       "        <td style=\"padding-left: 1em; padding-right: 1em; text-align: center; vertical-align: top\">7</td>\n",
       "        <td style=\"padding-left: 1em; padding-right: 1em; text-align: center; vertical-align: top\">1451</td>\n",
       "        <td style=\"padding-left: 1em; padding-right: 1em; text-align: center; vertical-align: top\">9722</td>\n",
       "    </tr>\n",
       "    <tr>\n",
       "        <td style=\"padding-left: 1em; padding-right: 1em; text-align: center; vertical-align: top\">1987</td>\n",
       "        <td style=\"padding-left: 1em; padding-right: 1em; text-align: center; vertical-align: top\">10</td>\n",
       "        <td style=\"padding-left: 1em; padding-right: 1em; text-align: center; vertical-align: top\">23</td>\n",
       "        <td style=\"padding-left: 1em; padding-right: 1em; text-align: center; vertical-align: top\">5</td>\n",
       "        <td style=\"padding-left: 1em; padding-right: 1em; text-align: center; vertical-align: top\">731</td>\n",
       "        <td style=\"padding-left: 1em; padding-right: 1em; text-align: center; vertical-align: top\">730</td>\n",
       "        <td style=\"padding-left: 1em; padding-right: 1em; text-align: center; vertical-align: top\">902</td>\n",
       "        <td style=\"padding-left: 1em; padding-right: 1em; text-align: center; vertical-align: top\">849</td>\n",
       "        <td style=\"padding-left: 1em; padding-right: 1em; text-align: center; vertical-align: top\">7</td>\n",
       "        <td style=\"padding-left: 1em; padding-right: 1em; text-align: center; vertical-align: top\">1451</td>\n",
       "        <td style=\"padding-left: 1em; padding-right: 1em; text-align: center; vertical-align: top\">9722</td>\n",
       "    </tr>\n",
       "    <tr>\n",
       "        <td style=\"padding-left: 1em; padding-right: 1em; text-align: center; vertical-align: top\">1987</td>\n",
       "        <td style=\"padding-left: 1em; padding-right: 1em; text-align: center; vertical-align: top\">10</td>\n",
       "        <td style=\"padding-left: 1em; padding-right: 1em; text-align: center; vertical-align: top\">24</td>\n",
       "        <td style=\"padding-left: 1em; padding-right: 1em; text-align: center; vertical-align: top\">6</td>\n",
       "        <td style=\"padding-left: 1em; padding-right: 1em; text-align: center; vertical-align: top\">744</td>\n",
       "        <td style=\"padding-left: 1em; padding-right: 1em; text-align: center; vertical-align: top\">730</td>\n",
       "        <td style=\"padding-left: 1em; padding-right: 1em; text-align: center; vertical-align: top\">908</td>\n",
       "        <td style=\"padding-left: 1em; padding-right: 1em; text-align: center; vertical-align: top\">849</td>\n",
       "        <td style=\"padding-left: 1em; padding-right: 1em; text-align: center; vertical-align: top\">7</td>\n",
       "        <td style=\"padding-left: 1em; padding-right: 1em; text-align: center; vertical-align: top\">1451</td>\n",
       "        <td style=\"padding-left: 1em; padding-right: 1em; text-align: center; vertical-align: top\">9722</td>\n",
       "    </tr>\n",
       "    <tr>\n",
       "        <td style=\"padding-left: 1em; padding-right: 1em; text-align: center; vertical-align: top\">1987</td>\n",
       "        <td style=\"padding-left: 1em; padding-right: 1em; text-align: center; vertical-align: top\">10</td>\n",
       "        <td style=\"padding-left: 1em; padding-right: 1em; text-align: center; vertical-align: top\">25</td>\n",
       "        <td style=\"padding-left: 1em; padding-right: 1em; text-align: center; vertical-align: top\">7</td>\n",
       "        <td style=\"padding-left: 1em; padding-right: 1em; text-align: center; vertical-align: top\">729</td>\n",
       "        <td style=\"padding-left: 1em; padding-right: 1em; text-align: center; vertical-align: top\">730</td>\n",
       "        <td style=\"padding-left: 1em; padding-right: 1em; text-align: center; vertical-align: top\">851</td>\n",
       "        <td style=\"padding-left: 1em; padding-right: 1em; text-align: center; vertical-align: top\">849</td>\n",
       "        <td style=\"padding-left: 1em; padding-right: 1em; text-align: center; vertical-align: top\">7</td>\n",
       "        <td style=\"padding-left: 1em; padding-right: 1em; text-align: center; vertical-align: top\">1451</td>\n",
       "        <td style=\"padding-left: 1em; padding-right: 1em; text-align: center; vertical-align: top\">9722</td>\n",
       "    </tr>\n",
       "</table>\n",
       "<table frame=\"box\" rules=\"cols\">\n",
       "    <tr>\n",
       "        <th style=\"padding-left: 1em; padding-right: 1em; text-align: center\">ActualElapsedTime</th>\n",
       "        <th style=\"padding-left: 1em; padding-right: 1em; text-align: center\">CRSElapsedTime</th>\n",
       "        <th style=\"padding-left: 1em; padding-right: 1em; text-align: center\">AirTime</th>\n",
       "        <th style=\"padding-left: 1em; padding-right: 1em; text-align: center\">ArrDelay</th>\n",
       "        <th style=\"padding-left: 1em; padding-right: 1em; text-align: center\">DepDelay</th>\n",
       "        <th style=\"padding-left: 1em; padding-right: 1em; text-align: center\">Origin</th>\n",
       "        <th style=\"padding-left: 1em; padding-right: 1em; text-align: center\">Dest</th>\n",
       "        <th style=\"padding-left: 1em; padding-right: 1em; text-align: center\">Distance</th>\n",
       "        <th style=\"padding-left: 1em; padding-right: 1em; text-align: center\">TaxiIn</th>\n",
       "        <th style=\"padding-left: 1em; padding-right: 1em; text-align: center\">TaxiOut</th>\n",
       "        <th style=\"padding-left: 1em; padding-right: 1em; text-align: center\">Cancelled</th>\n",
       "    </tr>\n",
       "    <tr>\n",
       "        <td style=\"padding-left: 1em; padding-right: 1em; text-align: center; vertical-align: top\">91</td>\n",
       "        <td style=\"padding-left: 1em; padding-right: 1em; text-align: center; vertical-align: top\">79</td>\n",
       "        <td style=\"padding-left: 1em; padding-right: 1em; text-align: center; vertical-align: top\">None</td>\n",
       "        <td style=\"padding-left: 1em; padding-right: 1em; text-align: center; vertical-align: top\">23</td>\n",
       "        <td style=\"padding-left: 1em; padding-right: 1em; text-align: center; vertical-align: top\">11</td>\n",
       "        <td style=\"padding-left: 1em; padding-right: 1em; text-align: center; vertical-align: top\">172</td>\n",
       "        <td style=\"padding-left: 1em; padding-right: 1em; text-align: center; vertical-align: top\">202</td>\n",
       "        <td style=\"padding-left: 1em; padding-right: 1em; text-align: center; vertical-align: top\">447</td>\n",
       "        <td style=\"padding-left: 1em; padding-right: 1em; text-align: center; vertical-align: top\">None</td>\n",
       "        <td style=\"padding-left: 1em; padding-right: 1em; text-align: center; vertical-align: top\">None</td>\n",
       "        <td style=\"padding-left: 1em; padding-right: 1em; text-align: center; vertical-align: top\">0</td>\n",
       "    </tr>\n",
       "    <tr>\n",
       "        <td style=\"padding-left: 1em; padding-right: 1em; text-align: center; vertical-align: top\">94</td>\n",
       "        <td style=\"padding-left: 1em; padding-right: 1em; text-align: center; vertical-align: top\">79</td>\n",
       "        <td style=\"padding-left: 1em; padding-right: 1em; text-align: center; vertical-align: top\">None</td>\n",
       "        <td style=\"padding-left: 1em; padding-right: 1em; text-align: center; vertical-align: top\">14</td>\n",
       "        <td style=\"padding-left: 1em; padding-right: 1em; text-align: center; vertical-align: top\">-1</td>\n",
       "        <td style=\"padding-left: 1em; padding-right: 1em; text-align: center; vertical-align: top\">172</td>\n",
       "        <td style=\"padding-left: 1em; padding-right: 1em; text-align: center; vertical-align: top\">202</td>\n",
       "        <td style=\"padding-left: 1em; padding-right: 1em; text-align: center; vertical-align: top\">447</td>\n",
       "        <td style=\"padding-left: 1em; padding-right: 1em; text-align: center; vertical-align: top\">None</td>\n",
       "        <td style=\"padding-left: 1em; padding-right: 1em; text-align: center; vertical-align: top\">None</td>\n",
       "        <td style=\"padding-left: 1em; padding-right: 1em; text-align: center; vertical-align: top\">0</td>\n",
       "    </tr>\n",
       "    <tr>\n",
       "        <td style=\"padding-left: 1em; padding-right: 1em; text-align: center; vertical-align: top\">97</td>\n",
       "        <td style=\"padding-left: 1em; padding-right: 1em; text-align: center; vertical-align: top\">79</td>\n",
       "        <td style=\"padding-left: 1em; padding-right: 1em; text-align: center; vertical-align: top\">None</td>\n",
       "        <td style=\"padding-left: 1em; padding-right: 1em; text-align: center; vertical-align: top\">29</td>\n",
       "        <td style=\"padding-left: 1em; padding-right: 1em; text-align: center; vertical-align: top\">11</td>\n",
       "        <td style=\"padding-left: 1em; padding-right: 1em; text-align: center; vertical-align: top\">172</td>\n",
       "        <td style=\"padding-left: 1em; padding-right: 1em; text-align: center; vertical-align: top\">202</td>\n",
       "        <td style=\"padding-left: 1em; padding-right: 1em; text-align: center; vertical-align: top\">447</td>\n",
       "        <td style=\"padding-left: 1em; padding-right: 1em; text-align: center; vertical-align: top\">None</td>\n",
       "        <td style=\"padding-left: 1em; padding-right: 1em; text-align: center; vertical-align: top\">None</td>\n",
       "        <td style=\"padding-left: 1em; padding-right: 1em; text-align: center; vertical-align: top\">0</td>\n",
       "    </tr>\n",
       "    <tr>\n",
       "        <td style=\"padding-left: 1em; padding-right: 1em; text-align: center; vertical-align: top\">78</td>\n",
       "        <td style=\"padding-left: 1em; padding-right: 1em; text-align: center; vertical-align: top\">79</td>\n",
       "        <td style=\"padding-left: 1em; padding-right: 1em; text-align: center; vertical-align: top\">None</td>\n",
       "        <td style=\"padding-left: 1em; padding-right: 1em; text-align: center; vertical-align: top\">-2</td>\n",
       "        <td style=\"padding-left: 1em; padding-right: 1em; text-align: center; vertical-align: top\">-1</td>\n",
       "        <td style=\"padding-left: 1em; padding-right: 1em; text-align: center; vertical-align: top\">172</td>\n",
       "        <td style=\"padding-left: 1em; padding-right: 1em; text-align: center; vertical-align: top\">202</td>\n",
       "        <td style=\"padding-left: 1em; padding-right: 1em; text-align: center; vertical-align: top\">447</td>\n",
       "        <td style=\"padding-left: 1em; padding-right: 1em; text-align: center; vertical-align: top\">None</td>\n",
       "        <td style=\"padding-left: 1em; padding-right: 1em; text-align: center; vertical-align: top\">None</td>\n",
       "        <td style=\"padding-left: 1em; padding-right: 1em; text-align: center; vertical-align: top\">0</td>\n",
       "    </tr>\n",
       "    <tr>\n",
       "        <td style=\"padding-left: 1em; padding-right: 1em; text-align: center; vertical-align: top\">93</td>\n",
       "        <td style=\"padding-left: 1em; padding-right: 1em; text-align: center; vertical-align: top\">79</td>\n",
       "        <td style=\"padding-left: 1em; padding-right: 1em; text-align: center; vertical-align: top\">None</td>\n",
       "        <td style=\"padding-left: 1em; padding-right: 1em; text-align: center; vertical-align: top\">33</td>\n",
       "        <td style=\"padding-left: 1em; padding-right: 1em; text-align: center; vertical-align: top\">19</td>\n",
       "        <td style=\"padding-left: 1em; padding-right: 1em; text-align: center; vertical-align: top\">172</td>\n",
       "        <td style=\"padding-left: 1em; padding-right: 1em; text-align: center; vertical-align: top\">202</td>\n",
       "        <td style=\"padding-left: 1em; padding-right: 1em; text-align: center; vertical-align: top\">447</td>\n",
       "        <td style=\"padding-left: 1em; padding-right: 1em; text-align: center; vertical-align: top\">None</td>\n",
       "        <td style=\"padding-left: 1em; padding-right: 1em; text-align: center; vertical-align: top\">None</td>\n",
       "        <td style=\"padding-left: 1em; padding-right: 1em; text-align: center; vertical-align: top\">0</td>\n",
       "    </tr>\n",
       "    <tr>\n",
       "        <td style=\"padding-left: 1em; padding-right: 1em; text-align: center; vertical-align: top\">80</td>\n",
       "        <td style=\"padding-left: 1em; padding-right: 1em; text-align: center; vertical-align: top\">79</td>\n",
       "        <td style=\"padding-left: 1em; padding-right: 1em; text-align: center; vertical-align: top\">None</td>\n",
       "        <td style=\"padding-left: 1em; padding-right: 1em; text-align: center; vertical-align: top\">-1</td>\n",
       "        <td style=\"padding-left: 1em; padding-right: 1em; text-align: center; vertical-align: top\">-2</td>\n",
       "        <td style=\"padding-left: 1em; padding-right: 1em; text-align: center; vertical-align: top\">172</td>\n",
       "        <td style=\"padding-left: 1em; padding-right: 1em; text-align: center; vertical-align: top\">202</td>\n",
       "        <td style=\"padding-left: 1em; padding-right: 1em; text-align: center; vertical-align: top\">447</td>\n",
       "        <td style=\"padding-left: 1em; padding-right: 1em; text-align: center; vertical-align: top\">None</td>\n",
       "        <td style=\"padding-left: 1em; padding-right: 1em; text-align: center; vertical-align: top\">None</td>\n",
       "        <td style=\"padding-left: 1em; padding-right: 1em; text-align: center; vertical-align: top\">0</td>\n",
       "    </tr>\n",
       "    <tr>\n",
       "        <td style=\"padding-left: 1em; padding-right: 1em; text-align: center; vertical-align: top\">84</td>\n",
       "        <td style=\"padding-left: 1em; padding-right: 1em; text-align: center; vertical-align: top\">79</td>\n",
       "        <td style=\"padding-left: 1em; padding-right: 1em; text-align: center; vertical-align: top\">None</td>\n",
       "        <td style=\"padding-left: 1em; padding-right: 1em; text-align: center; vertical-align: top\">3</td>\n",
       "        <td style=\"padding-left: 1em; padding-right: 1em; text-align: center; vertical-align: top\">-2</td>\n",
       "        <td style=\"padding-left: 1em; padding-right: 1em; text-align: center; vertical-align: top\">172</td>\n",
       "        <td style=\"padding-left: 1em; padding-right: 1em; text-align: center; vertical-align: top\">202</td>\n",
       "        <td style=\"padding-left: 1em; padding-right: 1em; text-align: center; vertical-align: top\">447</td>\n",
       "        <td style=\"padding-left: 1em; padding-right: 1em; text-align: center; vertical-align: top\">None</td>\n",
       "        <td style=\"padding-left: 1em; padding-right: 1em; text-align: center; vertical-align: top\">None</td>\n",
       "        <td style=\"padding-left: 1em; padding-right: 1em; text-align: center; vertical-align: top\">0</td>\n",
       "    </tr>\n",
       "    <tr>\n",
       "        <td style=\"padding-left: 1em; padding-right: 1em; text-align: center; vertical-align: top\">91</td>\n",
       "        <td style=\"padding-left: 1em; padding-right: 1em; text-align: center; vertical-align: top\">79</td>\n",
       "        <td style=\"padding-left: 1em; padding-right: 1em; text-align: center; vertical-align: top\">None</td>\n",
       "        <td style=\"padding-left: 1em; padding-right: 1em; text-align: center; vertical-align: top\">13</td>\n",
       "        <td style=\"padding-left: 1em; padding-right: 1em; text-align: center; vertical-align: top\">1</td>\n",
       "        <td style=\"padding-left: 1em; padding-right: 1em; text-align: center; vertical-align: top\">172</td>\n",
       "        <td style=\"padding-left: 1em; padding-right: 1em; text-align: center; vertical-align: top\">202</td>\n",
       "        <td style=\"padding-left: 1em; padding-right: 1em; text-align: center; vertical-align: top\">447</td>\n",
       "        <td style=\"padding-left: 1em; padding-right: 1em; text-align: center; vertical-align: top\">None</td>\n",
       "        <td style=\"padding-left: 1em; padding-right: 1em; text-align: center; vertical-align: top\">None</td>\n",
       "        <td style=\"padding-left: 1em; padding-right: 1em; text-align: center; vertical-align: top\">0</td>\n",
       "    </tr>\n",
       "    <tr>\n",
       "        <td style=\"padding-left: 1em; padding-right: 1em; text-align: center; vertical-align: top\">84</td>\n",
       "        <td style=\"padding-left: 1em; padding-right: 1em; text-align: center; vertical-align: top\">79</td>\n",
       "        <td style=\"padding-left: 1em; padding-right: 1em; text-align: center; vertical-align: top\">None</td>\n",
       "        <td style=\"padding-left: 1em; padding-right: 1em; text-align: center; vertical-align: top\">19</td>\n",
       "        <td style=\"padding-left: 1em; padding-right: 1em; text-align: center; vertical-align: top\">14</td>\n",
       "        <td style=\"padding-left: 1em; padding-right: 1em; text-align: center; vertical-align: top\">172</td>\n",
       "        <td style=\"padding-left: 1em; padding-right: 1em; text-align: center; vertical-align: top\">202</td>\n",
       "        <td style=\"padding-left: 1em; padding-right: 1em; text-align: center; vertical-align: top\">447</td>\n",
       "        <td style=\"padding-left: 1em; padding-right: 1em; text-align: center; vertical-align: top\">None</td>\n",
       "        <td style=\"padding-left: 1em; padding-right: 1em; text-align: center; vertical-align: top\">None</td>\n",
       "        <td style=\"padding-left: 1em; padding-right: 1em; text-align: center; vertical-align: top\">0</td>\n",
       "    </tr>\n",
       "    <tr>\n",
       "        <td style=\"padding-left: 1em; padding-right: 1em; text-align: center; vertical-align: top\">82</td>\n",
       "        <td style=\"padding-left: 1em; padding-right: 1em; text-align: center; vertical-align: top\">79</td>\n",
       "        <td style=\"padding-left: 1em; padding-right: 1em; text-align: center; vertical-align: top\">None</td>\n",
       "        <td style=\"padding-left: 1em; padding-right: 1em; text-align: center; vertical-align: top\">2</td>\n",
       "        <td style=\"padding-left: 1em; padding-right: 1em; text-align: center; vertical-align: top\">-1</td>\n",
       "        <td style=\"padding-left: 1em; padding-right: 1em; text-align: center; vertical-align: top\">172</td>\n",
       "        <td style=\"padding-left: 1em; padding-right: 1em; text-align: center; vertical-align: top\">202</td>\n",
       "        <td style=\"padding-left: 1em; padding-right: 1em; text-align: center; vertical-align: top\">447</td>\n",
       "        <td style=\"padding-left: 1em; padding-right: 1em; text-align: center; vertical-align: top\">None</td>\n",
       "        <td style=\"padding-left: 1em; padding-right: 1em; text-align: center; vertical-align: top\">None</td>\n",
       "        <td style=\"padding-left: 1em; padding-right: 1em; text-align: center; vertical-align: top\">0</td>\n",
       "    </tr>\n",
       "</table>\n",
       "<table frame=\"box\" rules=\"cols\">\n",
       "    <tr>\n",
       "        <th style=\"padding-left: 1em; padding-right: 1em; text-align: center\">CancellationCode</th>\n",
       "        <th style=\"padding-left: 1em; padding-right: 1em; text-align: center\">Diverted</th>\n",
       "        <th style=\"padding-left: 1em; padding-right: 1em; text-align: center\">CarrierDelay</th>\n",
       "        <th style=\"padding-left: 1em; padding-right: 1em; text-align: center\">WeatherDelay</th>\n",
       "        <th style=\"padding-left: 1em; padding-right: 1em; text-align: center\">NASDelay</th>\n",
       "        <th style=\"padding-left: 1em; padding-right: 1em; text-align: center\">SecurityDelay</th>\n",
       "        <th style=\"padding-left: 1em; padding-right: 1em; text-align: center\">LateAircraftDelay</th>\n",
       "    </tr>\n",
       "    <tr>\n",
       "        <td style=\"padding-left: 1em; padding-right: 1em; text-align: center; vertical-align: top\">4</td>\n",
       "        <td style=\"padding-left: 1em; padding-right: 1em; text-align: center; vertical-align: top\">0</td>\n",
       "        <td style=\"padding-left: 1em; padding-right: 1em; text-align: center; vertical-align: top\">None</td>\n",
       "        <td style=\"padding-left: 1em; padding-right: 1em; text-align: center; vertical-align: top\">None</td>\n",
       "        <td style=\"padding-left: 1em; padding-right: 1em; text-align: center; vertical-align: top\">None</td>\n",
       "        <td style=\"padding-left: 1em; padding-right: 1em; text-align: center; vertical-align: top\">None</td>\n",
       "        <td style=\"padding-left: 1em; padding-right: 1em; text-align: center; vertical-align: top\">None</td>\n",
       "    </tr>\n",
       "    <tr>\n",
       "        <td style=\"padding-left: 1em; padding-right: 1em; text-align: center; vertical-align: top\">4</td>\n",
       "        <td style=\"padding-left: 1em; padding-right: 1em; text-align: center; vertical-align: top\">0</td>\n",
       "        <td style=\"padding-left: 1em; padding-right: 1em; text-align: center; vertical-align: top\">None</td>\n",
       "        <td style=\"padding-left: 1em; padding-right: 1em; text-align: center; vertical-align: top\">None</td>\n",
       "        <td style=\"padding-left: 1em; padding-right: 1em; text-align: center; vertical-align: top\">None</td>\n",
       "        <td style=\"padding-left: 1em; padding-right: 1em; text-align: center; vertical-align: top\">None</td>\n",
       "        <td style=\"padding-left: 1em; padding-right: 1em; text-align: center; vertical-align: top\">None</td>\n",
       "    </tr>\n",
       "    <tr>\n",
       "        <td style=\"padding-left: 1em; padding-right: 1em; text-align: center; vertical-align: top\">4</td>\n",
       "        <td style=\"padding-left: 1em; padding-right: 1em; text-align: center; vertical-align: top\">0</td>\n",
       "        <td style=\"padding-left: 1em; padding-right: 1em; text-align: center; vertical-align: top\">None</td>\n",
       "        <td style=\"padding-left: 1em; padding-right: 1em; text-align: center; vertical-align: top\">None</td>\n",
       "        <td style=\"padding-left: 1em; padding-right: 1em; text-align: center; vertical-align: top\">None</td>\n",
       "        <td style=\"padding-left: 1em; padding-right: 1em; text-align: center; vertical-align: top\">None</td>\n",
       "        <td style=\"padding-left: 1em; padding-right: 1em; text-align: center; vertical-align: top\">None</td>\n",
       "    </tr>\n",
       "    <tr>\n",
       "        <td style=\"padding-left: 1em; padding-right: 1em; text-align: center; vertical-align: top\">4</td>\n",
       "        <td style=\"padding-left: 1em; padding-right: 1em; text-align: center; vertical-align: top\">0</td>\n",
       "        <td style=\"padding-left: 1em; padding-right: 1em; text-align: center; vertical-align: top\">None</td>\n",
       "        <td style=\"padding-left: 1em; padding-right: 1em; text-align: center; vertical-align: top\">None</td>\n",
       "        <td style=\"padding-left: 1em; padding-right: 1em; text-align: center; vertical-align: top\">None</td>\n",
       "        <td style=\"padding-left: 1em; padding-right: 1em; text-align: center; vertical-align: top\">None</td>\n",
       "        <td style=\"padding-left: 1em; padding-right: 1em; text-align: center; vertical-align: top\">None</td>\n",
       "    </tr>\n",
       "    <tr>\n",
       "        <td style=\"padding-left: 1em; padding-right: 1em; text-align: center; vertical-align: top\">4</td>\n",
       "        <td style=\"padding-left: 1em; padding-right: 1em; text-align: center; vertical-align: top\">0</td>\n",
       "        <td style=\"padding-left: 1em; padding-right: 1em; text-align: center; vertical-align: top\">None</td>\n",
       "        <td style=\"padding-left: 1em; padding-right: 1em; text-align: center; vertical-align: top\">None</td>\n",
       "        <td style=\"padding-left: 1em; padding-right: 1em; text-align: center; vertical-align: top\">None</td>\n",
       "        <td style=\"padding-left: 1em; padding-right: 1em; text-align: center; vertical-align: top\">None</td>\n",
       "        <td style=\"padding-left: 1em; padding-right: 1em; text-align: center; vertical-align: top\">None</td>\n",
       "    </tr>\n",
       "    <tr>\n",
       "        <td style=\"padding-left: 1em; padding-right: 1em; text-align: center; vertical-align: top\">4</td>\n",
       "        <td style=\"padding-left: 1em; padding-right: 1em; text-align: center; vertical-align: top\">0</td>\n",
       "        <td style=\"padding-left: 1em; padding-right: 1em; text-align: center; vertical-align: top\">None</td>\n",
       "        <td style=\"padding-left: 1em; padding-right: 1em; text-align: center; vertical-align: top\">None</td>\n",
       "        <td style=\"padding-left: 1em; padding-right: 1em; text-align: center; vertical-align: top\">None</td>\n",
       "        <td style=\"padding-left: 1em; padding-right: 1em; text-align: center; vertical-align: top\">None</td>\n",
       "        <td style=\"padding-left: 1em; padding-right: 1em; text-align: center; vertical-align: top\">None</td>\n",
       "    </tr>\n",
       "    <tr>\n",
       "        <td style=\"padding-left: 1em; padding-right: 1em; text-align: center; vertical-align: top\">4</td>\n",
       "        <td style=\"padding-left: 1em; padding-right: 1em; text-align: center; vertical-align: top\">0</td>\n",
       "        <td style=\"padding-left: 1em; padding-right: 1em; text-align: center; vertical-align: top\">None</td>\n",
       "        <td style=\"padding-left: 1em; padding-right: 1em; text-align: center; vertical-align: top\">None</td>\n",
       "        <td style=\"padding-left: 1em; padding-right: 1em; text-align: center; vertical-align: top\">None</td>\n",
       "        <td style=\"padding-left: 1em; padding-right: 1em; text-align: center; vertical-align: top\">None</td>\n",
       "        <td style=\"padding-left: 1em; padding-right: 1em; text-align: center; vertical-align: top\">None</td>\n",
       "    </tr>\n",
       "    <tr>\n",
       "        <td style=\"padding-left: 1em; padding-right: 1em; text-align: center; vertical-align: top\">4</td>\n",
       "        <td style=\"padding-left: 1em; padding-right: 1em; text-align: center; vertical-align: top\">0</td>\n",
       "        <td style=\"padding-left: 1em; padding-right: 1em; text-align: center; vertical-align: top\">None</td>\n",
       "        <td style=\"padding-left: 1em; padding-right: 1em; text-align: center; vertical-align: top\">None</td>\n",
       "        <td style=\"padding-left: 1em; padding-right: 1em; text-align: center; vertical-align: top\">None</td>\n",
       "        <td style=\"padding-left: 1em; padding-right: 1em; text-align: center; vertical-align: top\">None</td>\n",
       "        <td style=\"padding-left: 1em; padding-right: 1em; text-align: center; vertical-align: top\">None</td>\n",
       "    </tr>\n",
       "    <tr>\n",
       "        <td style=\"padding-left: 1em; padding-right: 1em; text-align: center; vertical-align: top\">4</td>\n",
       "        <td style=\"padding-left: 1em; padding-right: 1em; text-align: center; vertical-align: top\">0</td>\n",
       "        <td style=\"padding-left: 1em; padding-right: 1em; text-align: center; vertical-align: top\">None</td>\n",
       "        <td style=\"padding-left: 1em; padding-right: 1em; text-align: center; vertical-align: top\">None</td>\n",
       "        <td style=\"padding-left: 1em; padding-right: 1em; text-align: center; vertical-align: top\">None</td>\n",
       "        <td style=\"padding-left: 1em; padding-right: 1em; text-align: center; vertical-align: top\">None</td>\n",
       "        <td style=\"padding-left: 1em; padding-right: 1em; text-align: center; vertical-align: top\">None</td>\n",
       "    </tr>\n",
       "    <tr>\n",
       "        <td style=\"padding-left: 1em; padding-right: 1em; text-align: center; vertical-align: top\">4</td>\n",
       "        <td style=\"padding-left: 1em; padding-right: 1em; text-align: center; vertical-align: top\">0</td>\n",
       "        <td style=\"padding-left: 1em; padding-right: 1em; text-align: center; vertical-align: top\">None</td>\n",
       "        <td style=\"padding-left: 1em; padding-right: 1em; text-align: center; vertical-align: top\">None</td>\n",
       "        <td style=\"padding-left: 1em; padding-right: 1em; text-align: center; vertical-align: top\">None</td>\n",
       "        <td style=\"padding-left: 1em; padding-right: 1em; text-align: center; vertical-align: top\">None</td>\n",
       "        <td style=\"padding-left: 1em; padding-right: 1em; text-align: center; vertical-align: top\">None</td>\n",
       "    </tr>\n",
       "</table>\n",
       "[10 rows x 29 columns]<br/>\n",
       "</div>"
      ],
      "text/plain": [
       "Columns:\n",
       "\tYear\tint\n",
       "\tMonth\tint\n",
       "\tDayofMonth\tint\n",
       "\tDayOfWeek\tint\n",
       "\tDepTime\tint\n",
       "\tCRSDepTime\tint\n",
       "\tArrTime\tint\n",
       "\tCRSArrTime\tint\n",
       "\tUniqueCarrier\tint\n",
       "\tFlightNum\tint\n",
       "\tTailNum\tint\n",
       "\tActualElapsedTime\tint\n",
       "\tCRSElapsedTime\tint\n",
       "\tAirTime\tstr\n",
       "\tArrDelay\tint\n",
       "\tDepDelay\tint\n",
       "\tOrigin\tint\n",
       "\tDest\tint\n",
       "\tDistance\tint\n",
       "\tTaxiIn\tstr\n",
       "\tTaxiOut\tstr\n",
       "\tCancelled\tint\n",
       "\tCancellationCode\tint\n",
       "\tDiverted\tint\n",
       "\tCarrierDelay\tstr\n",
       "\tWeatherDelay\tstr\n",
       "\tNASDelay\tstr\n",
       "\tSecurityDelay\tstr\n",
       "\tLateAircraftDelay\tstr\n",
       "\n",
       "Rows: 10\n",
       "\n",
       "Data:\n",
       "+------+-------+------------+-----------+---------+------------+---------+------------+\n",
       "| Year | Month | DayofMonth | DayOfWeek | DepTime | CRSDepTime | ArrTime | CRSArrTime |\n",
       "+------+-------+------------+-----------+---------+------------+---------+------------+\n",
       "| 1987 |   10  |     14     |     3     |   741   |    730     |   912   |    849     |\n",
       "| 1987 |   10  |     15     |     4     |   729   |    730     |   903   |    849     |\n",
       "| 1987 |   10  |     17     |     6     |   741   |    730     |   918   |    849     |\n",
       "| 1987 |   10  |     18     |     7     |   729   |    730     |   847   |    849     |\n",
       "| 1987 |   10  |     19     |     1     |   749   |    730     |   922   |    849     |\n",
       "| 1987 |   10  |     21     |     3     |   728   |    730     |   848   |    849     |\n",
       "| 1987 |   10  |     22     |     4     |   728   |    730     |   852   |    849     |\n",
       "| 1987 |   10  |     23     |     5     |   731   |    730     |   902   |    849     |\n",
       "| 1987 |   10  |     24     |     6     |   744   |    730     |   908   |    849     |\n",
       "| 1987 |   10  |     25     |     7     |   729   |    730     |   851   |    849     |\n",
       "+------+-------+------------+-----------+---------+------------+---------+------------+\n",
       "+---------------+-----------+---------+-------------------+----------------+\n",
       "| UniqueCarrier | FlightNum | TailNum | ActualElapsedTime | CRSElapsedTime |\n",
       "+---------------+-----------+---------+-------------------+----------------+\n",
       "|       7       |    1451   |   9722  |         91        |       79       |\n",
       "|       7       |    1451   |   9722  |         94        |       79       |\n",
       "|       7       |    1451   |   9722  |         97        |       79       |\n",
       "|       7       |    1451   |   9722  |         78        |       79       |\n",
       "|       7       |    1451   |   9722  |         93        |       79       |\n",
       "|       7       |    1451   |   9722  |         80        |       79       |\n",
       "|       7       |    1451   |   9722  |         84        |       79       |\n",
       "|       7       |    1451   |   9722  |         91        |       79       |\n",
       "|       7       |    1451   |   9722  |         84        |       79       |\n",
       "|       7       |    1451   |   9722  |         82        |       79       |\n",
       "+---------------+-----------+---------+-------------------+----------------+\n",
       "+---------+----------+----------+--------+------+----------+--------+-----+\n",
       "| AirTime | ArrDelay | DepDelay | Origin | Dest | Distance | TaxiIn | ... |\n",
       "+---------+----------+----------+--------+------+----------+--------+-----+\n",
       "|   None  |    23    |    11    |  172   | 202  |   447    |  None  | ... |\n",
       "|   None  |    14    |    -1    |  172   | 202  |   447    |  None  | ... |\n",
       "|   None  |    29    |    11    |  172   | 202  |   447    |  None  | ... |\n",
       "|   None  |    -2    |    -1    |  172   | 202  |   447    |  None  | ... |\n",
       "|   None  |    33    |    19    |  172   | 202  |   447    |  None  | ... |\n",
       "|   None  |    -1    |    -2    |  172   | 202  |   447    |  None  | ... |\n",
       "|   None  |    3     |    -2    |  172   | 202  |   447    |  None  | ... |\n",
       "|   None  |    13    |    1     |  172   | 202  |   447    |  None  | ... |\n",
       "|   None  |    19    |    14    |  172   | 202  |   447    |  None  | ... |\n",
       "|   None  |    2     |    -1    |  172   | 202  |   447    |  None  | ... |\n",
       "+---------+----------+----------+--------+------+----------+--------+-----+\n",
       "[10 rows x 29 columns]"
      ]
     },
     "execution_count": 4,
     "metadata": {},
     "output_type": "execute_result"
    }
   ],
   "source": [
    "%time airline_encoded_data.head()"
   ]
  },
  {
   "cell_type": "code",
   "execution_count": 8,
   "metadata": {
    "collapsed": true
   },
   "outputs": [],
   "source": [
    "list_of_features = ['TaxiIn', \n",
    "                    'TaxiOut', \n",
    "                    'CarrierDelay', \n",
    "                    'WeatherDelay', \n",
    "                    'NASDelay', \n",
    "                    'SecurityDelay', \n",
    "                    'LateAircraftDelay',\n",
    "                    'ActualElapsedTime']"
   ]
  },
  {
   "cell_type": "code",
   "execution_count": 9,
   "metadata": {
    "collapsed": true
   },
   "outputs": [],
   "source": [
    "airline_encoded_data = airline_encoded_data.dropna(list_of_features)"
   ]
  },
  {
   "cell_type": "code",
   "execution_count": 10,
   "metadata": {},
   "outputs": [
    {
     "data": {
      "text/plain": [
       "(33540215, 29)"
      ]
     },
     "execution_count": 10,
     "metadata": {},
     "output_type": "execute_result"
    }
   ],
   "source": [
    "airline_encoded_data.shape"
   ]
  },
  {
   "cell_type": "code",
   "execution_count": 11,
   "metadata": {},
   "outputs": [
    {
     "data": {
      "text/html": [
       "<div style=\"max-height:1000px;max-width:1500px;overflow:auto;\"><table frame=\"box\" rules=\"cols\">\n",
       "    <tr>\n",
       "        <th style=\"padding-left: 1em; padding-right: 1em; text-align: center\">Year</th>\n",
       "        <th style=\"padding-left: 1em; padding-right: 1em; text-align: center\">Month</th>\n",
       "        <th style=\"padding-left: 1em; padding-right: 1em; text-align: center\">DayofMonth</th>\n",
       "        <th style=\"padding-left: 1em; padding-right: 1em; text-align: center\">DayOfWeek</th>\n",
       "        <th style=\"padding-left: 1em; padding-right: 1em; text-align: center\">DepTime</th>\n",
       "        <th style=\"padding-left: 1em; padding-right: 1em; text-align: center\">CRSDepTime</th>\n",
       "        <th style=\"padding-left: 1em; padding-right: 1em; text-align: center\">ArrTime</th>\n",
       "        <th style=\"padding-left: 1em; padding-right: 1em; text-align: center\">CRSArrTime</th>\n",
       "        <th style=\"padding-left: 1em; padding-right: 1em; text-align: center\">UniqueCarrier</th>\n",
       "        <th style=\"padding-left: 1em; padding-right: 1em; text-align: center\">FlightNum</th>\n",
       "    </tr>\n",
       "    <tr>\n",
       "        <td style=\"padding-left: 1em; padding-right: 1em; text-align: center; vertical-align: top\">2003</td>\n",
       "        <td style=\"padding-left: 1em; padding-right: 1em; text-align: center; vertical-align: top\">6</td>\n",
       "        <td style=\"padding-left: 1em; padding-right: 1em; text-align: center; vertical-align: top\">29</td>\n",
       "        <td style=\"padding-left: 1em; padding-right: 1em; text-align: center; vertical-align: top\">7</td>\n",
       "        <td style=\"padding-left: 1em; padding-right: 1em; text-align: center; vertical-align: top\">1756</td>\n",
       "        <td style=\"padding-left: 1em; padding-right: 1em; text-align: center; vertical-align: top\">1725</td>\n",
       "        <td style=\"padding-left: 1em; padding-right: 1em; text-align: center; vertical-align: top\">1904</td>\n",
       "        <td style=\"padding-left: 1em; padding-right: 1em; text-align: center; vertical-align: top\">1838</td>\n",
       "        <td style=\"padding-left: 1em; padding-right: 1em; text-align: center; vertical-align: top\">28</td>\n",
       "        <td style=\"padding-left: 1em; padding-right: 1em; text-align: center; vertical-align: top\">781</td>\n",
       "    </tr>\n",
       "    <tr>\n",
       "        <td style=\"padding-left: 1em; padding-right: 1em; text-align: center; vertical-align: top\">2003</td>\n",
       "        <td style=\"padding-left: 1em; padding-right: 1em; text-align: center; vertical-align: top\">6</td>\n",
       "        <td style=\"padding-left: 1em; padding-right: 1em; text-align: center; vertical-align: top\">30</td>\n",
       "        <td style=\"padding-left: 1em; padding-right: 1em; text-align: center; vertical-align: top\">1</td>\n",
       "        <td style=\"padding-left: 1em; padding-right: 1em; text-align: center; vertical-align: top\">1721</td>\n",
       "        <td style=\"padding-left: 1em; padding-right: 1em; text-align: center; vertical-align: top\">1725</td>\n",
       "        <td style=\"padding-left: 1em; padding-right: 1em; text-align: center; vertical-align: top\">1827</td>\n",
       "        <td style=\"padding-left: 1em; padding-right: 1em; text-align: center; vertical-align: top\">1838</td>\n",
       "        <td style=\"padding-left: 1em; padding-right: 1em; text-align: center; vertical-align: top\">28</td>\n",
       "        <td style=\"padding-left: 1em; padding-right: 1em; text-align: center; vertical-align: top\">781</td>\n",
       "    </tr>\n",
       "    <tr>\n",
       "        <td style=\"padding-left: 1em; padding-right: 1em; text-align: center; vertical-align: top\">2003</td>\n",
       "        <td style=\"padding-left: 1em; padding-right: 1em; text-align: center; vertical-align: top\">6</td>\n",
       "        <td style=\"padding-left: 1em; padding-right: 1em; text-align: center; vertical-align: top\">1</td>\n",
       "        <td style=\"padding-left: 1em; padding-right: 1em; text-align: center; vertical-align: top\">7</td>\n",
       "        <td style=\"padding-left: 1em; padding-right: 1em; text-align: center; vertical-align: top\">736</td>\n",
       "        <td style=\"padding-left: 1em; padding-right: 1em; text-align: center; vertical-align: top\">740</td>\n",
       "        <td style=\"padding-left: 1em; padding-right: 1em; text-align: center; vertical-align: top\">1004</td>\n",
       "        <td style=\"padding-left: 1em; padding-right: 1em; text-align: center; vertical-align: top\">1001</td>\n",
       "        <td style=\"padding-left: 1em; padding-right: 1em; text-align: center; vertical-align: top\">28</td>\n",
       "        <td style=\"padding-left: 1em; padding-right: 1em; text-align: center; vertical-align: top\">782</td>\n",
       "    </tr>\n",
       "    <tr>\n",
       "        <td style=\"padding-left: 1em; padding-right: 1em; text-align: center; vertical-align: top\">2003</td>\n",
       "        <td style=\"padding-left: 1em; padding-right: 1em; text-align: center; vertical-align: top\">6</td>\n",
       "        <td style=\"padding-left: 1em; padding-right: 1em; text-align: center; vertical-align: top\">2</td>\n",
       "        <td style=\"padding-left: 1em; padding-right: 1em; text-align: center; vertical-align: top\">1</td>\n",
       "        <td style=\"padding-left: 1em; padding-right: 1em; text-align: center; vertical-align: top\">736</td>\n",
       "        <td style=\"padding-left: 1em; padding-right: 1em; text-align: center; vertical-align: top\">740</td>\n",
       "        <td style=\"padding-left: 1em; padding-right: 1em; text-align: center; vertical-align: top\">1015</td>\n",
       "        <td style=\"padding-left: 1em; padding-right: 1em; text-align: center; vertical-align: top\">1001</td>\n",
       "        <td style=\"padding-left: 1em; padding-right: 1em; text-align: center; vertical-align: top\">28</td>\n",
       "        <td style=\"padding-left: 1em; padding-right: 1em; text-align: center; vertical-align: top\">782</td>\n",
       "    </tr>\n",
       "    <tr>\n",
       "        <td style=\"padding-left: 1em; padding-right: 1em; text-align: center; vertical-align: top\">2003</td>\n",
       "        <td style=\"padding-left: 1em; padding-right: 1em; text-align: center; vertical-align: top\">6</td>\n",
       "        <td style=\"padding-left: 1em; padding-right: 1em; text-align: center; vertical-align: top\">3</td>\n",
       "        <td style=\"padding-left: 1em; padding-right: 1em; text-align: center; vertical-align: top\">2</td>\n",
       "        <td style=\"padding-left: 1em; padding-right: 1em; text-align: center; vertical-align: top\">737</td>\n",
       "        <td style=\"padding-left: 1em; padding-right: 1em; text-align: center; vertical-align: top\">740</td>\n",
       "        <td style=\"padding-left: 1em; padding-right: 1em; text-align: center; vertical-align: top\">956</td>\n",
       "        <td style=\"padding-left: 1em; padding-right: 1em; text-align: center; vertical-align: top\">1001</td>\n",
       "        <td style=\"padding-left: 1em; padding-right: 1em; text-align: center; vertical-align: top\">28</td>\n",
       "        <td style=\"padding-left: 1em; padding-right: 1em; text-align: center; vertical-align: top\">782</td>\n",
       "    </tr>\n",
       "    <tr>\n",
       "        <td style=\"padding-left: 1em; padding-right: 1em; text-align: center; vertical-align: top\">2003</td>\n",
       "        <td style=\"padding-left: 1em; padding-right: 1em; text-align: center; vertical-align: top\">6</td>\n",
       "        <td style=\"padding-left: 1em; padding-right: 1em; text-align: center; vertical-align: top\">4</td>\n",
       "        <td style=\"padding-left: 1em; padding-right: 1em; text-align: center; vertical-align: top\">3</td>\n",
       "        <td style=\"padding-left: 1em; padding-right: 1em; text-align: center; vertical-align: top\">739</td>\n",
       "        <td style=\"padding-left: 1em; padding-right: 1em; text-align: center; vertical-align: top\">740</td>\n",
       "        <td style=\"padding-left: 1em; padding-right: 1em; text-align: center; vertical-align: top\">957</td>\n",
       "        <td style=\"padding-left: 1em; padding-right: 1em; text-align: center; vertical-align: top\">1001</td>\n",
       "        <td style=\"padding-left: 1em; padding-right: 1em; text-align: center; vertical-align: top\">28</td>\n",
       "        <td style=\"padding-left: 1em; padding-right: 1em; text-align: center; vertical-align: top\">782</td>\n",
       "    </tr>\n",
       "    <tr>\n",
       "        <td style=\"padding-left: 1em; padding-right: 1em; text-align: center; vertical-align: top\">2003</td>\n",
       "        <td style=\"padding-left: 1em; padding-right: 1em; text-align: center; vertical-align: top\">6</td>\n",
       "        <td style=\"padding-left: 1em; padding-right: 1em; text-align: center; vertical-align: top\">5</td>\n",
       "        <td style=\"padding-left: 1em; padding-right: 1em; text-align: center; vertical-align: top\">4</td>\n",
       "        <td style=\"padding-left: 1em; padding-right: 1em; text-align: center; vertical-align: top\">734</td>\n",
       "        <td style=\"padding-left: 1em; padding-right: 1em; text-align: center; vertical-align: top\">740</td>\n",
       "        <td style=\"padding-left: 1em; padding-right: 1em; text-align: center; vertical-align: top\">948</td>\n",
       "        <td style=\"padding-left: 1em; padding-right: 1em; text-align: center; vertical-align: top\">1001</td>\n",
       "        <td style=\"padding-left: 1em; padding-right: 1em; text-align: center; vertical-align: top\">28</td>\n",
       "        <td style=\"padding-left: 1em; padding-right: 1em; text-align: center; vertical-align: top\">782</td>\n",
       "    </tr>\n",
       "    <tr>\n",
       "        <td style=\"padding-left: 1em; padding-right: 1em; text-align: center; vertical-align: top\">2003</td>\n",
       "        <td style=\"padding-left: 1em; padding-right: 1em; text-align: center; vertical-align: top\">6</td>\n",
       "        <td style=\"padding-left: 1em; padding-right: 1em; text-align: center; vertical-align: top\">6</td>\n",
       "        <td style=\"padding-left: 1em; padding-right: 1em; text-align: center; vertical-align: top\">5</td>\n",
       "        <td style=\"padding-left: 1em; padding-right: 1em; text-align: center; vertical-align: top\">739</td>\n",
       "        <td style=\"padding-left: 1em; padding-right: 1em; text-align: center; vertical-align: top\">740</td>\n",
       "        <td style=\"padding-left: 1em; padding-right: 1em; text-align: center; vertical-align: top\">949</td>\n",
       "        <td style=\"padding-left: 1em; padding-right: 1em; text-align: center; vertical-align: top\">1001</td>\n",
       "        <td style=\"padding-left: 1em; padding-right: 1em; text-align: center; vertical-align: top\">28</td>\n",
       "        <td style=\"padding-left: 1em; padding-right: 1em; text-align: center; vertical-align: top\">782</td>\n",
       "    </tr>\n",
       "    <tr>\n",
       "        <td style=\"padding-left: 1em; padding-right: 1em; text-align: center; vertical-align: top\">2003</td>\n",
       "        <td style=\"padding-left: 1em; padding-right: 1em; text-align: center; vertical-align: top\">6</td>\n",
       "        <td style=\"padding-left: 1em; padding-right: 1em; text-align: center; vertical-align: top\">7</td>\n",
       "        <td style=\"padding-left: 1em; padding-right: 1em; text-align: center; vertical-align: top\">6</td>\n",
       "        <td style=\"padding-left: 1em; padding-right: 1em; text-align: center; vertical-align: top\">730</td>\n",
       "        <td style=\"padding-left: 1em; padding-right: 1em; text-align: center; vertical-align: top\">740</td>\n",
       "        <td style=\"padding-left: 1em; padding-right: 1em; text-align: center; vertical-align: top\">940</td>\n",
       "        <td style=\"padding-left: 1em; padding-right: 1em; text-align: center; vertical-align: top\">1001</td>\n",
       "        <td style=\"padding-left: 1em; padding-right: 1em; text-align: center; vertical-align: top\">28</td>\n",
       "        <td style=\"padding-left: 1em; padding-right: 1em; text-align: center; vertical-align: top\">782</td>\n",
       "    </tr>\n",
       "    <tr>\n",
       "        <td style=\"padding-left: 1em; padding-right: 1em; text-align: center; vertical-align: top\">2003</td>\n",
       "        <td style=\"padding-left: 1em; padding-right: 1em; text-align: center; vertical-align: top\">6</td>\n",
       "        <td style=\"padding-left: 1em; padding-right: 1em; text-align: center; vertical-align: top\">8</td>\n",
       "        <td style=\"padding-left: 1em; padding-right: 1em; text-align: center; vertical-align: top\">7</td>\n",
       "        <td style=\"padding-left: 1em; padding-right: 1em; text-align: center; vertical-align: top\">733</td>\n",
       "        <td style=\"padding-left: 1em; padding-right: 1em; text-align: center; vertical-align: top\">740</td>\n",
       "        <td style=\"padding-left: 1em; padding-right: 1em; text-align: center; vertical-align: top\">938</td>\n",
       "        <td style=\"padding-left: 1em; padding-right: 1em; text-align: center; vertical-align: top\">1001</td>\n",
       "        <td style=\"padding-left: 1em; padding-right: 1em; text-align: center; vertical-align: top\">28</td>\n",
       "        <td style=\"padding-left: 1em; padding-right: 1em; text-align: center; vertical-align: top\">782</td>\n",
       "    </tr>\n",
       "</table>\n",
       "<table frame=\"box\" rules=\"cols\">\n",
       "    <tr>\n",
       "        <th style=\"padding-left: 1em; padding-right: 1em; text-align: center\">TailNum</th>\n",
       "        <th style=\"padding-left: 1em; padding-right: 1em; text-align: center\">ActualElapsedTime</th>\n",
       "        <th style=\"padding-left: 1em; padding-right: 1em; text-align: center\">CRSElapsedTime</th>\n",
       "        <th style=\"padding-left: 1em; padding-right: 1em; text-align: center\">AirTime</th>\n",
       "        <th style=\"padding-left: 1em; padding-right: 1em; text-align: center\">ArrDelay</th>\n",
       "        <th style=\"padding-left: 1em; padding-right: 1em; text-align: center\">DepDelay</th>\n",
       "        <th style=\"padding-left: 1em; padding-right: 1em; text-align: center\">Origin</th>\n",
       "        <th style=\"padding-left: 1em; padding-right: 1em; text-align: center\">Dest</th>\n",
       "        <th style=\"padding-left: 1em; padding-right: 1em; text-align: center\">Distance</th>\n",
       "        <th style=\"padding-left: 1em; padding-right: 1em; text-align: center\">TaxiIn</th>\n",
       "        <th style=\"padding-left: 1em; padding-right: 1em; text-align: center\">TaxiOut</th>\n",
       "    </tr>\n",
       "    <tr>\n",
       "        <td style=\"padding-left: 1em; padding-right: 1em; text-align: center; vertical-align: top\">13444</td>\n",
       "        <td style=\"padding-left: 1em; padding-right: 1em; text-align: center; vertical-align: top\">128</td>\n",
       "        <td style=\"padding-left: 1em; padding-right: 1em; text-align: center; vertical-align: top\">133</td>\n",
       "        <td style=\"padding-left: 1em; padding-right: 1em; text-align: center; vertical-align: top\">103</td>\n",
       "        <td style=\"padding-left: 1em; padding-right: 1em; text-align: center; vertical-align: top\">26</td>\n",
       "        <td style=\"padding-left: 1em; padding-right: 1em; text-align: center; vertical-align: top\">31</td>\n",
       "        <td style=\"padding-left: 1em; padding-right: 1em; text-align: center; vertical-align: top\">207</td>\n",
       "        <td style=\"padding-left: 1em; padding-right: 1em; text-align: center; vertical-align: top\">33</td>\n",
       "        <td style=\"padding-left: 1em; padding-right: 1em; text-align: center; vertical-align: top\">862</td>\n",
       "        <td style=\"padding-left: 1em; padding-right: 1em; text-align: center; vertical-align: top\">8</td>\n",
       "        <td style=\"padding-left: 1em; padding-right: 1em; text-align: center; vertical-align: top\">17</td>\n",
       "    </tr>\n",
       "    <tr>\n",
       "        <td style=\"padding-left: 1em; padding-right: 1em; text-align: center; vertical-align: top\">6483</td>\n",
       "        <td style=\"padding-left: 1em; padding-right: 1em; text-align: center; vertical-align: top\">126</td>\n",
       "        <td style=\"padding-left: 1em; padding-right: 1em; text-align: center; vertical-align: top\">133</td>\n",
       "        <td style=\"padding-left: 1em; padding-right: 1em; text-align: center; vertical-align: top\">110</td>\n",
       "        <td style=\"padding-left: 1em; padding-right: 1em; text-align: center; vertical-align: top\">-11</td>\n",
       "        <td style=\"padding-left: 1em; padding-right: 1em; text-align: center; vertical-align: top\">-4</td>\n",
       "        <td style=\"padding-left: 1em; padding-right: 1em; text-align: center; vertical-align: top\">207</td>\n",
       "        <td style=\"padding-left: 1em; padding-right: 1em; text-align: center; vertical-align: top\">33</td>\n",
       "        <td style=\"padding-left: 1em; padding-right: 1em; text-align: center; vertical-align: top\">862</td>\n",
       "        <td style=\"padding-left: 1em; padding-right: 1em; text-align: center; vertical-align: top\">4</td>\n",
       "        <td style=\"padding-left: 1em; padding-right: 1em; text-align: center; vertical-align: top\">12</td>\n",
       "    </tr>\n",
       "    <tr>\n",
       "        <td style=\"padding-left: 1em; padding-right: 1em; text-align: center; vertical-align: top\">259</td>\n",
       "        <td style=\"padding-left: 1em; padding-right: 1em; text-align: center; vertical-align: top\">148</td>\n",
       "        <td style=\"padding-left: 1em; padding-right: 1em; text-align: center; vertical-align: top\">141</td>\n",
       "        <td style=\"padding-left: 1em; padding-right: 1em; text-align: center; vertical-align: top\">126</td>\n",
       "        <td style=\"padding-left: 1em; padding-right: 1em; text-align: center; vertical-align: top\">3</td>\n",
       "        <td style=\"padding-left: 1em; padding-right: 1em; text-align: center; vertical-align: top\">-4</td>\n",
       "        <td style=\"padding-left: 1em; padding-right: 1em; text-align: center; vertical-align: top\">20</td>\n",
       "        <td style=\"padding-left: 1em; padding-right: 1em; text-align: center; vertical-align: top\">114</td>\n",
       "        <td style=\"padding-left: 1em; padding-right: 1em; text-align: center; vertical-align: top\">925</td>\n",
       "        <td style=\"padding-left: 1em; padding-right: 1em; text-align: center; vertical-align: top\">7</td>\n",
       "        <td style=\"padding-left: 1em; padding-right: 1em; text-align: center; vertical-align: top\">15</td>\n",
       "    </tr>\n",
       "    <tr>\n",
       "        <td style=\"padding-left: 1em; padding-right: 1em; text-align: center; vertical-align: top\">7997</td>\n",
       "        <td style=\"padding-left: 1em; padding-right: 1em; text-align: center; vertical-align: top\">159</td>\n",
       "        <td style=\"padding-left: 1em; padding-right: 1em; text-align: center; vertical-align: top\">141</td>\n",
       "        <td style=\"padding-left: 1em; padding-right: 1em; text-align: center; vertical-align: top\">133</td>\n",
       "        <td style=\"padding-left: 1em; padding-right: 1em; text-align: center; vertical-align: top\">14</td>\n",
       "        <td style=\"padding-left: 1em; padding-right: 1em; text-align: center; vertical-align: top\">-4</td>\n",
       "        <td style=\"padding-left: 1em; padding-right: 1em; text-align: center; vertical-align: top\">20</td>\n",
       "        <td style=\"padding-left: 1em; padding-right: 1em; text-align: center; vertical-align: top\">114</td>\n",
       "        <td style=\"padding-left: 1em; padding-right: 1em; text-align: center; vertical-align: top\">925</td>\n",
       "        <td style=\"padding-left: 1em; padding-right: 1em; text-align: center; vertical-align: top\">9</td>\n",
       "        <td style=\"padding-left: 1em; padding-right: 1em; text-align: center; vertical-align: top\">17</td>\n",
       "    </tr>\n",
       "    <tr>\n",
       "        <td style=\"padding-left: 1em; padding-right: 1em; text-align: center; vertical-align: top\">4922</td>\n",
       "        <td style=\"padding-left: 1em; padding-right: 1em; text-align: center; vertical-align: top\">139</td>\n",
       "        <td style=\"padding-left: 1em; padding-right: 1em; text-align: center; vertical-align: top\">141</td>\n",
       "        <td style=\"padding-left: 1em; padding-right: 1em; text-align: center; vertical-align: top\">120</td>\n",
       "        <td style=\"padding-left: 1em; padding-right: 1em; text-align: center; vertical-align: top\">-5</td>\n",
       "        <td style=\"padding-left: 1em; padding-right: 1em; text-align: center; vertical-align: top\">-3</td>\n",
       "        <td style=\"padding-left: 1em; padding-right: 1em; text-align: center; vertical-align: top\">20</td>\n",
       "        <td style=\"padding-left: 1em; padding-right: 1em; text-align: center; vertical-align: top\">114</td>\n",
       "        <td style=\"padding-left: 1em; padding-right: 1em; text-align: center; vertical-align: top\">925</td>\n",
       "        <td style=\"padding-left: 1em; padding-right: 1em; text-align: center; vertical-align: top\">7</td>\n",
       "        <td style=\"padding-left: 1em; padding-right: 1em; text-align: center; vertical-align: top\">12</td>\n",
       "    </tr>\n",
       "    <tr>\n",
       "        <td style=\"padding-left: 1em; padding-right: 1em; text-align: center; vertical-align: top\">5012</td>\n",
       "        <td style=\"padding-left: 1em; padding-right: 1em; text-align: center; vertical-align: top\">138</td>\n",
       "        <td style=\"padding-left: 1em; padding-right: 1em; text-align: center; vertical-align: top\">141</td>\n",
       "        <td style=\"padding-left: 1em; padding-right: 1em; text-align: center; vertical-align: top\">116</td>\n",
       "        <td style=\"padding-left: 1em; padding-right: 1em; text-align: center; vertical-align: top\">-4</td>\n",
       "        <td style=\"padding-left: 1em; padding-right: 1em; text-align: center; vertical-align: top\">-1</td>\n",
       "        <td style=\"padding-left: 1em; padding-right: 1em; text-align: center; vertical-align: top\">20</td>\n",
       "        <td style=\"padding-left: 1em; padding-right: 1em; text-align: center; vertical-align: top\">114</td>\n",
       "        <td style=\"padding-left: 1em; padding-right: 1em; text-align: center; vertical-align: top\">925</td>\n",
       "        <td style=\"padding-left: 1em; padding-right: 1em; text-align: center; vertical-align: top\">7</td>\n",
       "        <td style=\"padding-left: 1em; padding-right: 1em; text-align: center; vertical-align: top\">15</td>\n",
       "    </tr>\n",
       "    <tr>\n",
       "        <td style=\"padding-left: 1em; padding-right: 1em; text-align: center; vertical-align: top\">10881</td>\n",
       "        <td style=\"padding-left: 1em; padding-right: 1em; text-align: center; vertical-align: top\">134</td>\n",
       "        <td style=\"padding-left: 1em; padding-right: 1em; text-align: center; vertical-align: top\">141</td>\n",
       "        <td style=\"padding-left: 1em; padding-right: 1em; text-align: center; vertical-align: top\">115</td>\n",
       "        <td style=\"padding-left: 1em; padding-right: 1em; text-align: center; vertical-align: top\">-13</td>\n",
       "        <td style=\"padding-left: 1em; padding-right: 1em; text-align: center; vertical-align: top\">-6</td>\n",
       "        <td style=\"padding-left: 1em; padding-right: 1em; text-align: center; vertical-align: top\">20</td>\n",
       "        <td style=\"padding-left: 1em; padding-right: 1em; text-align: center; vertical-align: top\">114</td>\n",
       "        <td style=\"padding-left: 1em; padding-right: 1em; text-align: center; vertical-align: top\">925</td>\n",
       "        <td style=\"padding-left: 1em; padding-right: 1em; text-align: center; vertical-align: top\">4</td>\n",
       "        <td style=\"padding-left: 1em; padding-right: 1em; text-align: center; vertical-align: top\">15</td>\n",
       "    </tr>\n",
       "    <tr>\n",
       "        <td style=\"padding-left: 1em; padding-right: 1em; text-align: center; vertical-align: top\">5493</td>\n",
       "        <td style=\"padding-left: 1em; padding-right: 1em; text-align: center; vertical-align: top\">130</td>\n",
       "        <td style=\"padding-left: 1em; padding-right: 1em; text-align: center; vertical-align: top\">141</td>\n",
       "        <td style=\"padding-left: 1em; padding-right: 1em; text-align: center; vertical-align: top\">115</td>\n",
       "        <td style=\"padding-left: 1em; padding-right: 1em; text-align: center; vertical-align: top\">-12</td>\n",
       "        <td style=\"padding-left: 1em; padding-right: 1em; text-align: center; vertical-align: top\">-1</td>\n",
       "        <td style=\"padding-left: 1em; padding-right: 1em; text-align: center; vertical-align: top\">20</td>\n",
       "        <td style=\"padding-left: 1em; padding-right: 1em; text-align: center; vertical-align: top\">114</td>\n",
       "        <td style=\"padding-left: 1em; padding-right: 1em; text-align: center; vertical-align: top\">925</td>\n",
       "        <td style=\"padding-left: 1em; padding-right: 1em; text-align: center; vertical-align: top\">5</td>\n",
       "        <td style=\"padding-left: 1em; padding-right: 1em; text-align: center; vertical-align: top\">10</td>\n",
       "    </tr>\n",
       "    <tr>\n",
       "        <td style=\"padding-left: 1em; padding-right: 1em; text-align: center; vertical-align: top\">7295</td>\n",
       "        <td style=\"padding-left: 1em; padding-right: 1em; text-align: center; vertical-align: top\">130</td>\n",
       "        <td style=\"padding-left: 1em; padding-right: 1em; text-align: center; vertical-align: top\">141</td>\n",
       "        <td style=\"padding-left: 1em; padding-right: 1em; text-align: center; vertical-align: top\">113</td>\n",
       "        <td style=\"padding-left: 1em; padding-right: 1em; text-align: center; vertical-align: top\">-21</td>\n",
       "        <td style=\"padding-left: 1em; padding-right: 1em; text-align: center; vertical-align: top\">-10</td>\n",
       "        <td style=\"padding-left: 1em; padding-right: 1em; text-align: center; vertical-align: top\">20</td>\n",
       "        <td style=\"padding-left: 1em; padding-right: 1em; text-align: center; vertical-align: top\">114</td>\n",
       "        <td style=\"padding-left: 1em; padding-right: 1em; text-align: center; vertical-align: top\">925</td>\n",
       "        <td style=\"padding-left: 1em; padding-right: 1em; text-align: center; vertical-align: top\">6</td>\n",
       "        <td style=\"padding-left: 1em; padding-right: 1em; text-align: center; vertical-align: top\">11</td>\n",
       "    </tr>\n",
       "    <tr>\n",
       "        <td style=\"padding-left: 1em; padding-right: 1em; text-align: center; vertical-align: top\">11413</td>\n",
       "        <td style=\"padding-left: 1em; padding-right: 1em; text-align: center; vertical-align: top\">125</td>\n",
       "        <td style=\"padding-left: 1em; padding-right: 1em; text-align: center; vertical-align: top\">141</td>\n",
       "        <td style=\"padding-left: 1em; padding-right: 1em; text-align: center; vertical-align: top\">115</td>\n",
       "        <td style=\"padding-left: 1em; padding-right: 1em; text-align: center; vertical-align: top\">-23</td>\n",
       "        <td style=\"padding-left: 1em; padding-right: 1em; text-align: center; vertical-align: top\">-7</td>\n",
       "        <td style=\"padding-left: 1em; padding-right: 1em; text-align: center; vertical-align: top\">20</td>\n",
       "        <td style=\"padding-left: 1em; padding-right: 1em; text-align: center; vertical-align: top\">114</td>\n",
       "        <td style=\"padding-left: 1em; padding-right: 1em; text-align: center; vertical-align: top\">925</td>\n",
       "        <td style=\"padding-left: 1em; padding-right: 1em; text-align: center; vertical-align: top\">2</td>\n",
       "        <td style=\"padding-left: 1em; padding-right: 1em; text-align: center; vertical-align: top\">8</td>\n",
       "    </tr>\n",
       "</table>\n",
       "<table frame=\"box\" rules=\"cols\">\n",
       "    <tr>\n",
       "        <th style=\"padding-left: 1em; padding-right: 1em; text-align: center\">Cancelled</th>\n",
       "        <th style=\"padding-left: 1em; padding-right: 1em; text-align: center\">CancellationCode</th>\n",
       "        <th style=\"padding-left: 1em; padding-right: 1em; text-align: center\">Diverted</th>\n",
       "        <th style=\"padding-left: 1em; padding-right: 1em; text-align: center\">CarrierDelay</th>\n",
       "        <th style=\"padding-left: 1em; padding-right: 1em; text-align: center\">WeatherDelay</th>\n",
       "        <th style=\"padding-left: 1em; padding-right: 1em; text-align: center\">NASDelay</th>\n",
       "        <th style=\"padding-left: 1em; padding-right: 1em; text-align: center\">SecurityDelay</th>\n",
       "        <th style=\"padding-left: 1em; padding-right: 1em; text-align: center\">LateAircraftDelay</th>\n",
       "    </tr>\n",
       "    <tr>\n",
       "        <td style=\"padding-left: 1em; padding-right: 1em; text-align: center; vertical-align: top\">0</td>\n",
       "        <td style=\"padding-left: 1em; padding-right: 1em; text-align: center; vertical-align: top\">4</td>\n",
       "        <td style=\"padding-left: 1em; padding-right: 1em; text-align: center; vertical-align: top\">0</td>\n",
       "        <td style=\"padding-left: 1em; padding-right: 1em; text-align: center; vertical-align: top\">0</td>\n",
       "        <td style=\"padding-left: 1em; padding-right: 1em; text-align: center; vertical-align: top\">26</td>\n",
       "        <td style=\"padding-left: 1em; padding-right: 1em; text-align: center; vertical-align: top\">0</td>\n",
       "        <td style=\"padding-left: 1em; padding-right: 1em; text-align: center; vertical-align: top\">0</td>\n",
       "        <td style=\"padding-left: 1em; padding-right: 1em; text-align: center; vertical-align: top\">0</td>\n",
       "    </tr>\n",
       "    <tr>\n",
       "        <td style=\"padding-left: 1em; padding-right: 1em; text-align: center; vertical-align: top\">0</td>\n",
       "        <td style=\"padding-left: 1em; padding-right: 1em; text-align: center; vertical-align: top\">4</td>\n",
       "        <td style=\"padding-left: 1em; padding-right: 1em; text-align: center; vertical-align: top\">0</td>\n",
       "        <td style=\"padding-left: 1em; padding-right: 1em; text-align: center; vertical-align: top\">0</td>\n",
       "        <td style=\"padding-left: 1em; padding-right: 1em; text-align: center; vertical-align: top\">0</td>\n",
       "        <td style=\"padding-left: 1em; padding-right: 1em; text-align: center; vertical-align: top\">0</td>\n",
       "        <td style=\"padding-left: 1em; padding-right: 1em; text-align: center; vertical-align: top\">0</td>\n",
       "        <td style=\"padding-left: 1em; padding-right: 1em; text-align: center; vertical-align: top\">0</td>\n",
       "    </tr>\n",
       "    <tr>\n",
       "        <td style=\"padding-left: 1em; padding-right: 1em; text-align: center; vertical-align: top\">0</td>\n",
       "        <td style=\"padding-left: 1em; padding-right: 1em; text-align: center; vertical-align: top\">4</td>\n",
       "        <td style=\"padding-left: 1em; padding-right: 1em; text-align: center; vertical-align: top\">0</td>\n",
       "        <td style=\"padding-left: 1em; padding-right: 1em; text-align: center; vertical-align: top\">0</td>\n",
       "        <td style=\"padding-left: 1em; padding-right: 1em; text-align: center; vertical-align: top\">0</td>\n",
       "        <td style=\"padding-left: 1em; padding-right: 1em; text-align: center; vertical-align: top\">0</td>\n",
       "        <td style=\"padding-left: 1em; padding-right: 1em; text-align: center; vertical-align: top\">0</td>\n",
       "        <td style=\"padding-left: 1em; padding-right: 1em; text-align: center; vertical-align: top\">0</td>\n",
       "    </tr>\n",
       "    <tr>\n",
       "        <td style=\"padding-left: 1em; padding-right: 1em; text-align: center; vertical-align: top\">0</td>\n",
       "        <td style=\"padding-left: 1em; padding-right: 1em; text-align: center; vertical-align: top\">4</td>\n",
       "        <td style=\"padding-left: 1em; padding-right: 1em; text-align: center; vertical-align: top\">0</td>\n",
       "        <td style=\"padding-left: 1em; padding-right: 1em; text-align: center; vertical-align: top\">0</td>\n",
       "        <td style=\"padding-left: 1em; padding-right: 1em; text-align: center; vertical-align: top\">0</td>\n",
       "        <td style=\"padding-left: 1em; padding-right: 1em; text-align: center; vertical-align: top\">0</td>\n",
       "        <td style=\"padding-left: 1em; padding-right: 1em; text-align: center; vertical-align: top\">0</td>\n",
       "        <td style=\"padding-left: 1em; padding-right: 1em; text-align: center; vertical-align: top\">0</td>\n",
       "    </tr>\n",
       "    <tr>\n",
       "        <td style=\"padding-left: 1em; padding-right: 1em; text-align: center; vertical-align: top\">0</td>\n",
       "        <td style=\"padding-left: 1em; padding-right: 1em; text-align: center; vertical-align: top\">4</td>\n",
       "        <td style=\"padding-left: 1em; padding-right: 1em; text-align: center; vertical-align: top\">0</td>\n",
       "        <td style=\"padding-left: 1em; padding-right: 1em; text-align: center; vertical-align: top\">0</td>\n",
       "        <td style=\"padding-left: 1em; padding-right: 1em; text-align: center; vertical-align: top\">0</td>\n",
       "        <td style=\"padding-left: 1em; padding-right: 1em; text-align: center; vertical-align: top\">0</td>\n",
       "        <td style=\"padding-left: 1em; padding-right: 1em; text-align: center; vertical-align: top\">0</td>\n",
       "        <td style=\"padding-left: 1em; padding-right: 1em; text-align: center; vertical-align: top\">0</td>\n",
       "    </tr>\n",
       "    <tr>\n",
       "        <td style=\"padding-left: 1em; padding-right: 1em; text-align: center; vertical-align: top\">0</td>\n",
       "        <td style=\"padding-left: 1em; padding-right: 1em; text-align: center; vertical-align: top\">4</td>\n",
       "        <td style=\"padding-left: 1em; padding-right: 1em; text-align: center; vertical-align: top\">0</td>\n",
       "        <td style=\"padding-left: 1em; padding-right: 1em; text-align: center; vertical-align: top\">0</td>\n",
       "        <td style=\"padding-left: 1em; padding-right: 1em; text-align: center; vertical-align: top\">0</td>\n",
       "        <td style=\"padding-left: 1em; padding-right: 1em; text-align: center; vertical-align: top\">0</td>\n",
       "        <td style=\"padding-left: 1em; padding-right: 1em; text-align: center; vertical-align: top\">0</td>\n",
       "        <td style=\"padding-left: 1em; padding-right: 1em; text-align: center; vertical-align: top\">0</td>\n",
       "    </tr>\n",
       "    <tr>\n",
       "        <td style=\"padding-left: 1em; padding-right: 1em; text-align: center; vertical-align: top\">0</td>\n",
       "        <td style=\"padding-left: 1em; padding-right: 1em; text-align: center; vertical-align: top\">4</td>\n",
       "        <td style=\"padding-left: 1em; padding-right: 1em; text-align: center; vertical-align: top\">0</td>\n",
       "        <td style=\"padding-left: 1em; padding-right: 1em; text-align: center; vertical-align: top\">0</td>\n",
       "        <td style=\"padding-left: 1em; padding-right: 1em; text-align: center; vertical-align: top\">0</td>\n",
       "        <td style=\"padding-left: 1em; padding-right: 1em; text-align: center; vertical-align: top\">0</td>\n",
       "        <td style=\"padding-left: 1em; padding-right: 1em; text-align: center; vertical-align: top\">0</td>\n",
       "        <td style=\"padding-left: 1em; padding-right: 1em; text-align: center; vertical-align: top\">0</td>\n",
       "    </tr>\n",
       "    <tr>\n",
       "        <td style=\"padding-left: 1em; padding-right: 1em; text-align: center; vertical-align: top\">0</td>\n",
       "        <td style=\"padding-left: 1em; padding-right: 1em; text-align: center; vertical-align: top\">4</td>\n",
       "        <td style=\"padding-left: 1em; padding-right: 1em; text-align: center; vertical-align: top\">0</td>\n",
       "        <td style=\"padding-left: 1em; padding-right: 1em; text-align: center; vertical-align: top\">0</td>\n",
       "        <td style=\"padding-left: 1em; padding-right: 1em; text-align: center; vertical-align: top\">0</td>\n",
       "        <td style=\"padding-left: 1em; padding-right: 1em; text-align: center; vertical-align: top\">0</td>\n",
       "        <td style=\"padding-left: 1em; padding-right: 1em; text-align: center; vertical-align: top\">0</td>\n",
       "        <td style=\"padding-left: 1em; padding-right: 1em; text-align: center; vertical-align: top\">0</td>\n",
       "    </tr>\n",
       "    <tr>\n",
       "        <td style=\"padding-left: 1em; padding-right: 1em; text-align: center; vertical-align: top\">0</td>\n",
       "        <td style=\"padding-left: 1em; padding-right: 1em; text-align: center; vertical-align: top\">4</td>\n",
       "        <td style=\"padding-left: 1em; padding-right: 1em; text-align: center; vertical-align: top\">0</td>\n",
       "        <td style=\"padding-left: 1em; padding-right: 1em; text-align: center; vertical-align: top\">0</td>\n",
       "        <td style=\"padding-left: 1em; padding-right: 1em; text-align: center; vertical-align: top\">0</td>\n",
       "        <td style=\"padding-left: 1em; padding-right: 1em; text-align: center; vertical-align: top\">0</td>\n",
       "        <td style=\"padding-left: 1em; padding-right: 1em; text-align: center; vertical-align: top\">0</td>\n",
       "        <td style=\"padding-left: 1em; padding-right: 1em; text-align: center; vertical-align: top\">0</td>\n",
       "    </tr>\n",
       "    <tr>\n",
       "        <td style=\"padding-left: 1em; padding-right: 1em; text-align: center; vertical-align: top\">0</td>\n",
       "        <td style=\"padding-left: 1em; padding-right: 1em; text-align: center; vertical-align: top\">4</td>\n",
       "        <td style=\"padding-left: 1em; padding-right: 1em; text-align: center; vertical-align: top\">0</td>\n",
       "        <td style=\"padding-left: 1em; padding-right: 1em; text-align: center; vertical-align: top\">0</td>\n",
       "        <td style=\"padding-left: 1em; padding-right: 1em; text-align: center; vertical-align: top\">0</td>\n",
       "        <td style=\"padding-left: 1em; padding-right: 1em; text-align: center; vertical-align: top\">0</td>\n",
       "        <td style=\"padding-left: 1em; padding-right: 1em; text-align: center; vertical-align: top\">0</td>\n",
       "        <td style=\"padding-left: 1em; padding-right: 1em; text-align: center; vertical-align: top\">0</td>\n",
       "    </tr>\n",
       "</table>\n",
       "[10 rows x 29 columns]<br/>\n",
       "</div>"
      ],
      "text/plain": [
       "Columns:\n",
       "\tYear\tint\n",
       "\tMonth\tint\n",
       "\tDayofMonth\tint\n",
       "\tDayOfWeek\tint\n",
       "\tDepTime\tint\n",
       "\tCRSDepTime\tint\n",
       "\tArrTime\tint\n",
       "\tCRSArrTime\tint\n",
       "\tUniqueCarrier\tint\n",
       "\tFlightNum\tint\n",
       "\tTailNum\tint\n",
       "\tActualElapsedTime\tint\n",
       "\tCRSElapsedTime\tint\n",
       "\tAirTime\tstr\n",
       "\tArrDelay\tint\n",
       "\tDepDelay\tint\n",
       "\tOrigin\tint\n",
       "\tDest\tint\n",
       "\tDistance\tint\n",
       "\tTaxiIn\tstr\n",
       "\tTaxiOut\tstr\n",
       "\tCancelled\tint\n",
       "\tCancellationCode\tint\n",
       "\tDiverted\tint\n",
       "\tCarrierDelay\tstr\n",
       "\tWeatherDelay\tstr\n",
       "\tNASDelay\tstr\n",
       "\tSecurityDelay\tstr\n",
       "\tLateAircraftDelay\tstr\n",
       "\n",
       "Rows: 10\n",
       "\n",
       "Data:\n",
       "+------+-------+------------+-----------+---------+------------+---------+------------+\n",
       "| Year | Month | DayofMonth | DayOfWeek | DepTime | CRSDepTime | ArrTime | CRSArrTime |\n",
       "+------+-------+------------+-----------+---------+------------+---------+------------+\n",
       "| 2003 |   6   |     29     |     7     |   1756  |    1725    |   1904  |    1838    |\n",
       "| 2003 |   6   |     30     |     1     |   1721  |    1725    |   1827  |    1838    |\n",
       "| 2003 |   6   |     1      |     7     |   736   |    740     |   1004  |    1001    |\n",
       "| 2003 |   6   |     2      |     1     |   736   |    740     |   1015  |    1001    |\n",
       "| 2003 |   6   |     3      |     2     |   737   |    740     |   956   |    1001    |\n",
       "| 2003 |   6   |     4      |     3     |   739   |    740     |   957   |    1001    |\n",
       "| 2003 |   6   |     5      |     4     |   734   |    740     |   948   |    1001    |\n",
       "| 2003 |   6   |     6      |     5     |   739   |    740     |   949   |    1001    |\n",
       "| 2003 |   6   |     7      |     6     |   730   |    740     |   940   |    1001    |\n",
       "| 2003 |   6   |     8      |     7     |   733   |    740     |   938   |    1001    |\n",
       "+------+-------+------------+-----------+---------+------------+---------+------------+\n",
       "+---------------+-----------+---------+-------------------+----------------+---------+\n",
       "| UniqueCarrier | FlightNum | TailNum | ActualElapsedTime | CRSElapsedTime | AirTime |\n",
       "+---------------+-----------+---------+-------------------+----------------+---------+\n",
       "|       28      |    781    |  13444  |        128        |      133       |   103   |\n",
       "|       28      |    781    |   6483  |        126        |      133       |   110   |\n",
       "|       28      |    782    |   259   |        148        |      141       |   126   |\n",
       "|       28      |    782    |   7997  |        159        |      141       |   133   |\n",
       "|       28      |    782    |   4922  |        139        |      141       |   120   |\n",
       "|       28      |    782    |   5012  |        138        |      141       |   116   |\n",
       "|       28      |    782    |  10881  |        134        |      141       |   115   |\n",
       "|       28      |    782    |   5493  |        130        |      141       |   115   |\n",
       "|       28      |    782    |   7295  |        130        |      141       |   113   |\n",
       "|       28      |    782    |  11413  |        125        |      141       |   115   |\n",
       "+---------------+-----------+---------+-------------------+----------------+---------+\n",
       "+----------+----------+--------+------+----------+--------+-----+\n",
       "| ArrDelay | DepDelay | Origin | Dest | Distance | TaxiIn | ... |\n",
       "+----------+----------+--------+------+----------+--------+-----+\n",
       "|    26    |    31    |  207   |  33  |   862    |   8    | ... |\n",
       "|   -11    |    -4    |  207   |  33  |   862    |   4    | ... |\n",
       "|    3     |    -4    |   20   | 114  |   925    |   7    | ... |\n",
       "|    14    |    -4    |   20   | 114  |   925    |   9    | ... |\n",
       "|    -5    |    -3    |   20   | 114  |   925    |   7    | ... |\n",
       "|    -4    |    -1    |   20   | 114  |   925    |   7    | ... |\n",
       "|   -13    |    -6    |   20   | 114  |   925    |   4    | ... |\n",
       "|   -12    |    -1    |   20   | 114  |   925    |   5    | ... |\n",
       "|   -21    |   -10    |   20   | 114  |   925    |   6    | ... |\n",
       "|   -23    |    -7    |   20   | 114  |   925    |   2    | ... |\n",
       "+----------+----------+--------+------+----------+--------+-----+\n",
       "[10 rows x 29 columns]"
      ]
     },
     "execution_count": 11,
     "metadata": {},
     "output_type": "execute_result"
    }
   ],
   "source": [
    "airline_encoded_data.head()"
   ]
  },
  {
   "cell_type": "markdown",
   "metadata": {},
   "source": [
    "<div style=\"color:red\">\n",
    "<h3><b>Discuss why these are important &darr;</b></h3>\n",
    "</div>"
   ]
  },
  {
   "cell_type": "markdown",
   "metadata": {},
   "source": [
    "# Create New Feature 'IS_DELAYED'\n",
    "\n",
    "Our goal here was to make this variable a categorical output variable.   Using Turi's GraphLab Create models, one must set the target variable.  This is why the new output categorical variable was created on the airline_encoded_data SFRAME;\n",
    "\n",
    "- airline_encoded_data['is_delayed'].\n",
    "\n",
    "We know the an arriving flight is considered delayed if is more 15 minutes late or if a departing flight is considered delayed it if delayed more than 15 minutes.   Hence, either one of the choices would create the proper categorical variable declaration to achieve the proper handling of this case.\n",
    "\n",
    "First, let's construct a binary target variable. In this example, we will predict if an airline flight is delayed or not, with 1 (or True) indicating the flight is delayed or with 0 (or False) indicating the flight is not delayed. We will use the following features.\n",
    "\n",
    "In our case, to make the airline_encoded_data['is_delayed'] binary, we will execute either one of the following statements:\n",
    "\n",
    "- airline_encoded_data['is_delayed'] = airline_encoded_data['ArrDelay'] > 15, or\n",
    "- airline_encoded_data['is_delayed'] = airline_encoded_data['DepDelay'] > 15\n"
   ]
  },
  {
   "cell_type": "markdown",
   "metadata": {},
   "source": [
    "<div style=\"color:red\">\n",
    "<h3><b>Discuss why these are important &uarr;</b></h3>\n",
    "</div>"
   ]
  },
  {
   "cell_type": "code",
   "execution_count": null,
   "metadata": {
    "collapsed": true
   },
   "outputs": [],
   "source": [
    "# Make sure the target is discrete\n",
    "airline_encoded_data['is_delayed'] = airline_encoded_data['ArrDelay'] > 15\n",
    "airline_encoded_data['is_delayed'] = airline_encoded_data['DepDelay'] > 15"
   ]
  },
  {
   "cell_type": "markdown",
   "metadata": {},
   "source": [
    "We split the data into training and test subsets. "
   ]
  },
  {
   "cell_type": "code",
   "execution_count": 23,
   "metadata": {
    "collapsed": true
   },
   "outputs": [],
   "source": [
    "# split the data randomly, keeping 80% for training and the rest for validation\n",
    "(train, test) = airline_encoded_data.random_split(0.8)"
   ]
  },
  {
   "cell_type": "markdown",
   "metadata": {},
   "source": [
    "## Baseline approach: Linear Regression Modeling"
   ]
  },
  {
   "cell_type": "markdown",
   "metadata": {},
   "source": [
    "## Select the custom_airline_features\n",
    "\n",
    "Based on the investigators knowledge of the subject matter, the custom airling features which are believed to be significant to the test are the following:\n",
    "\n",
    "- Month\n",
    "- Days of Month\n",
    "- Day of Week\n",
    "- Departure Time\n",
    "- CSR Departure Time\n",
    "- Arrival Time\n",
    "- CRS Arrival Time\n",
    "- Unique Carrier\n",
    "- Flight Number\n",
    "- Tail Number"
   ]
  },
  {
   "cell_type": "code",
   "execution_count": 21,
   "metadata": {
    "collapsed": true
   },
   "outputs": [],
   "source": [
    "custom_airline_features = ['Month',\n",
    "                           'DayofMonth', \n",
    "                           'DayOfWeek', \n",
    "                           'DepTime', \n",
    "                           'CRSDepTime', \n",
    "                           'ArrTime', \n",
    "                           'CRSArrTime', \n",
    "                           'UniqueCarrier', \n",
    "                           'FlightNum', \n",
    "                           'TailNum']"
   ]
  },
  {
   "cell_type": "markdown",
   "metadata": {},
   "source": [
    "# Linear Regression\n",
    "\n",
    "\n",
    "### Note:  https://turi.com/learn/userguide/supervised-learning/linear-regression.html\n",
    "\n",
    "Austin use this as an guide in the write up.  I will add more tommorrow.   This is a place holder for now.\n",
    "\n",
    "\n",
    "Per Matt Baldree's comments\n",
    "Since the target variable, airline_encoded_data['is_delayed'] is a dependent categorical variable or a dependent binary categorical variable with values of '0' or '1', the OLS (ordinary least squares) can no longer produce the best linear unbiased estimator; that it is, OLS is biased and inefficient.   In this case, airline_encoded_data['is_delayed'] is a binary response variable, where we would use Logistic Regression to model the probabilities to predict if the flight will be delayed or not. Using Turi's GraphLab Create API, we will use the graphlab.logistic_classifier model to predict if the flight is delayed.\n",
    "\n",
    "\n",
    "- https://turi.com/products/create/docs/generated/graphlab.logistic_classifier.LogisticClassifier.html\n",
    "- https://onlinecourses.science.psu.edu/stat504/node/149\n",
    "- https://onlinecourses.science.psu.edu/stat501/node/374\n",
    "\n",
    "\n",
    "**I propose that we delete approach 1.**\n",
    "\n",
    "\n",
    "<div style=\"color:red\">\n",
    "<h3><b>Linear Regression is not applicable ONLY Logistic Regression is! &uarr;</b></h3>\n",
    "</div>"
   ]
  },
  {
   "cell_type": "code",
   "execution_count": 71,
   "metadata": {},
   "outputs": [
    {
     "name": "stdout",
     "output_type": "stream",
     "text": [
      "PROGRESS: Creating a validation set from 5 percent of training data. This may take a while.\n",
      "          You can set ``validation_set=None`` to disable validation tracking.\n",
      "\n"
     ]
    },
    {
     "data": {
      "text/html": [
       "<pre>Linear regression:</pre>"
      ],
      "text/plain": [
       "Linear regression:"
      ]
     },
     "metadata": {},
     "output_type": "display_data"
    },
    {
     "data": {
      "text/html": [
       "<pre>--------------------------------------------------------</pre>"
      ],
      "text/plain": [
       "--------------------------------------------------------"
      ]
     },
     "metadata": {},
     "output_type": "display_data"
    },
    {
     "data": {
      "text/html": [
       "<pre>Number of examples          : 25491633</pre>"
      ],
      "text/plain": [
       "Number of examples          : 25491633"
      ]
     },
     "metadata": {},
     "output_type": "display_data"
    },
    {
     "data": {
      "text/html": [
       "<pre>Number of features          : 10</pre>"
      ],
      "text/plain": [
       "Number of features          : 10"
      ]
     },
     "metadata": {},
     "output_type": "display_data"
    },
    {
     "data": {
      "text/html": [
       "<pre>Number of unpacked features : 10</pre>"
      ],
      "text/plain": [
       "Number of unpacked features : 10"
      ]
     },
     "metadata": {},
     "output_type": "display_data"
    },
    {
     "data": {
      "text/html": [
       "<pre>Number of coefficients    : 11</pre>"
      ],
      "text/plain": [
       "Number of coefficients    : 11"
      ]
     },
     "metadata": {},
     "output_type": "display_data"
    },
    {
     "data": {
      "text/html": [
       "<pre>Starting Newton Method</pre>"
      ],
      "text/plain": [
       "Starting Newton Method"
      ]
     },
     "metadata": {},
     "output_type": "display_data"
    },
    {
     "data": {
      "text/html": [
       "<pre>--------------------------------------------------------</pre>"
      ],
      "text/plain": [
       "--------------------------------------------------------"
      ]
     },
     "metadata": {},
     "output_type": "display_data"
    },
    {
     "data": {
      "text/html": [
       "<pre>+-----------+----------+--------------+--------------------+----------------------+---------------+-----------------+</pre>"
      ],
      "text/plain": [
       "+-----------+----------+--------------+--------------------+----------------------+---------------+-----------------+"
      ]
     },
     "metadata": {},
     "output_type": "display_data"
    },
    {
     "data": {
      "text/html": [
       "<pre>| Iteration | Passes   | Elapsed Time | Training-max_error | Validation-max_error | Training-rmse | Validation-rmse |</pre>"
      ],
      "text/plain": [
       "| Iteration | Passes   | Elapsed Time | Training-max_error | Validation-max_error | Training-rmse | Validation-rmse |"
      ]
     },
     "metadata": {},
     "output_type": "display_data"
    },
    {
     "data": {
      "text/html": [
       "<pre>+-----------+----------+--------------+--------------------+----------------------+---------------+-----------------+</pre>"
      ],
      "text/plain": [
       "+-----------+----------+--------------+--------------------+----------------------+---------------+-----------------+"
      ]
     },
     "metadata": {},
     "output_type": "display_data"
    },
    {
     "data": {
      "text/html": [
       "<pre>| 1         | 2        | 5.857644     | 2.528101           | 2.522954             | 0.380843      | 0.381417        |</pre>"
      ],
      "text/plain": [
       "| 1         | 2        | 5.857644     | 2.528101           | 2.522954             | 0.380843      | 0.381417        |"
      ]
     },
     "metadata": {},
     "output_type": "display_data"
    },
    {
     "data": {
      "text/html": [
       "<pre>+-----------+----------+--------------+--------------------+----------------------+---------------+-----------------+</pre>"
      ],
      "text/plain": [
       "+-----------+----------+--------------+--------------------+----------------------+---------------+-----------------+"
      ]
     },
     "metadata": {},
     "output_type": "display_data"
    },
    {
     "data": {
      "text/html": [
       "<pre>SUCCESS: Optimal solution found.</pre>"
      ],
      "text/plain": [
       "SUCCESS: Optimal solution found."
      ]
     },
     "metadata": {},
     "output_type": "display_data"
    },
    {
     "data": {
      "text/html": [
       "<pre></pre>"
      ],
      "text/plain": []
     },
     "metadata": {},
     "output_type": "display_data"
    },
    {
     "name": "stdout",
     "output_type": "stream",
     "text": [
      "Wall time: 2min 18s\n"
     ]
    }
   ],
   "source": [
    "%time model = graphlab.linear_regression.create(train, target = 'is_delayed', features = custom_airline_features)"
   ]
  },
  {
   "cell_type": "code",
   "execution_count": 72,
   "metadata": {},
   "outputs": [
    {
     "name": "stdout",
     "output_type": "stream",
     "text": [
      "+---------------+-------+--------------------+-------------------+\n",
      "|      name     | index |       value        |       stderr      |\n",
      "+---------------+-------+--------------------+-------------------+\n",
      "|   DayOfWeek   |  None |  0.00112888981078  | 3.78746451684e-05 |\n",
      "|    DepTime    |  None | 0.000799119061006  | 6.29639266067e-07 |\n",
      "|   DayofMonth  |  None | 0.000660258637362  | 8.57949481577e-06 |\n",
      "| UniqueCarrier |  None | 0.000565958993793  | 8.02785513679e-06 |\n",
      "|   CRSArrTime  |  None | 4.95917574517e-05  | 3.68145813696e-07 |\n",
      "|   FlightNum   |  None | 2.88970167198e-06  | 4.02726510174e-08 |\n",
      "|    TailNum    |  None | -1.9592011493e-08  | 1.93787402877e-08 |\n",
      "|    ArrTime    |  None | -6.09670073353e-05 | 3.03444379758e-07 |\n",
      "|   CRSDepTime  |  None | -0.000625952085893 | 6.40909534241e-07 |\n",
      "|     Month     |  None | -0.00148475651716  | 2.22636269218e-05 |\n",
      "+---------------+-------+--------------------+-------------------+\n",
      "[10 rows x 4 columns]\n",
      "\n"
     ]
    }
   ],
   "source": [
    "print model.get('coefficients').topk('value')"
   ]
  },
  {
   "cell_type": "code",
   "execution_count": 73,
   "metadata": {},
   "outputs": [
    {
     "name": "stdout",
     "output_type": "stream",
     "text": [
      "+---------------+-------+--------------------+-------------------+\n",
      "|      name     | index |       value        |       stderr      |\n",
      "+---------------+-------+--------------------+-------------------+\n",
      "|  (intercept)  |  None |  -0.0415920000331  | 0.000405282639296 |\n",
      "|     Month     |  None | -0.00148475651716  | 2.22636269218e-05 |\n",
      "|   CRSDepTime  |  None | -0.000625952085893 | 6.40909534241e-07 |\n",
      "|    ArrTime    |  None | -6.09670073353e-05 | 3.03444379758e-07 |\n",
      "|    TailNum    |  None | -1.9592011493e-08  | 1.93787402877e-08 |\n",
      "|   FlightNum   |  None | 2.88970167198e-06  | 4.02726510174e-08 |\n",
      "|   CRSArrTime  |  None | 4.95917574517e-05  | 3.68145813696e-07 |\n",
      "| UniqueCarrier |  None | 0.000565958993793  | 8.02785513679e-06 |\n",
      "|   DayofMonth  |  None | 0.000660258637362  | 8.57949481577e-06 |\n",
      "|    DepTime    |  None | 0.000799119061006  | 6.29639266067e-07 |\n",
      "+---------------+-------+--------------------+-------------------+\n",
      "[10 rows x 4 columns]\n",
      "\n"
     ]
    }
   ],
   "source": [
    "print model.get('coefficients').topk('value',reverse=True)"
   ]
  },
  {
   "cell_type": "code",
   "execution_count": 74,
   "metadata": {},
   "outputs": [
    {
     "name": "stdout",
     "output_type": "stream",
     "text": [
      "Number of features: 10\n"
     ]
    }
   ],
   "source": [
    "# Number of feature columns\n",
    "print \"Number of features: %s\"   % model['num_features']"
   ]
  },
  {
   "cell_type": "code",
   "execution_count": 75,
   "metadata": {},
   "outputs": [
    {
     "name": "stdout",
     "output_type": "stream",
     "text": [
      "Number of coefficients in the model : 11\n"
     ]
    }
   ],
   "source": [
    "# Number of coefficients in the model\n",
    "print \"Number of coefficients in the model : %s\" % model['num_coefficients']"
   ]
  },
  {
   "cell_type": "code",
   "execution_count": 76,
   "metadata": {},
   "outputs": [
    {
     "name": "stdout",
     "output_type": "stream",
     "text": [
      "Number of unpacked features : 10 \n"
     ]
    }
   ],
   "source": [
    "# Number of features (including expanded lists and dictionaries)\n",
    "print \"Number of unpacked features : %s \" % model['num_unpacked_features']"
   ]
  },
  {
   "cell_type": "code",
   "execution_count": 78,
   "metadata": {
    "collapsed": true
   },
   "outputs": [],
   "source": [
    "# Save predictions to an SArray\n",
    "predictions = model.predict(test)"
   ]
  },
  {
   "cell_type": "code",
   "execution_count": 79,
   "metadata": {
    "collapsed": true
   },
   "outputs": [],
   "source": [
    "#Evaluatte the model and save the results into a dictionary\n",
    "results = model.evaluate(test)"
   ]
  },
  {
   "cell_type": "code",
   "execution_count": 80,
   "metadata": {},
   "outputs": [
    {
     "name": "stdout",
     "output_type": "stream",
     "text": [
      "{'max_error': 2.52661610587084, 'rmse': 0.38050752172443986}\n"
     ]
    }
   ],
   "source": [
    "print results"
   ]
  },
  {
   "cell_type": "markdown",
   "metadata": {},
   "source": [
    "<div style=\"color:red\">\n",
    "<h3><b>Discuss these results &uarr;</b></h3>\n",
    "</div>"
   ]
  },
  {
   "cell_type": "markdown",
   "metadata": {},
   "source": [
    "##  Approach 2: Logistic Regression Modeling\n",
    "\n",
    "### NOTE:   https://turi.com/learn/userguide/supervised-learning/logistic-regression.html\n",
    "\n",
    "Austin use this as an guide in the write up.  I will add more tommorrow.   This is a place holder for now.\n",
    "\n",
    "We start by using a simple yet powerful Logistic Regression model to try and predict the actual flight times will be delayed or not."
   ]
  },
  {
   "cell_type": "code",
   "execution_count": 81,
   "metadata": {},
   "outputs": [
    {
     "name": "stdout",
     "output_type": "stream",
     "text": [
      "PROGRESS: Creating a validation set from 5 percent of training data. This may take a while.\n",
      "          You can set ``validation_set=None`` to disable validation tracking.\n",
      "\n"
     ]
    },
    {
     "data": {
      "text/html": [
       "<pre>Logistic regression:</pre>"
      ],
      "text/plain": [
       "Logistic regression:"
      ]
     },
     "metadata": {},
     "output_type": "display_data"
    },
    {
     "data": {
      "text/html": [
       "<pre>--------------------------------------------------------</pre>"
      ],
      "text/plain": [
       "--------------------------------------------------------"
      ]
     },
     "metadata": {},
     "output_type": "display_data"
    },
    {
     "data": {
      "text/html": [
       "<pre>Number of examples          : 25491229</pre>"
      ],
      "text/plain": [
       "Number of examples          : 25491229"
      ]
     },
     "metadata": {},
     "output_type": "display_data"
    },
    {
     "data": {
      "text/html": [
       "<pre>Number of classes           : 2</pre>"
      ],
      "text/plain": [
       "Number of classes           : 2"
      ]
     },
     "metadata": {},
     "output_type": "display_data"
    },
    {
     "data": {
      "text/html": [
       "<pre>Number of feature columns   : 10</pre>"
      ],
      "text/plain": [
       "Number of feature columns   : 10"
      ]
     },
     "metadata": {},
     "output_type": "display_data"
    },
    {
     "data": {
      "text/html": [
       "<pre>Number of unpacked features : 10</pre>"
      ],
      "text/plain": [
       "Number of unpacked features : 10"
      ]
     },
     "metadata": {},
     "output_type": "display_data"
    },
    {
     "data": {
      "text/html": [
       "<pre>Number of coefficients    : 11</pre>"
      ],
      "text/plain": [
       "Number of coefficients    : 11"
      ]
     },
     "metadata": {},
     "output_type": "display_data"
    },
    {
     "data": {
      "text/html": [
       "<pre>Starting Newton Method</pre>"
      ],
      "text/plain": [
       "Starting Newton Method"
      ]
     },
     "metadata": {},
     "output_type": "display_data"
    },
    {
     "data": {
      "text/html": [
       "<pre>--------------------------------------------------------</pre>"
      ],
      "text/plain": [
       "--------------------------------------------------------"
      ]
     },
     "metadata": {},
     "output_type": "display_data"
    },
    {
     "data": {
      "text/html": [
       "<pre>+-----------+----------+--------------+-------------------+---------------------+</pre>"
      ],
      "text/plain": [
       "+-----------+----------+--------------+-------------------+---------------------+"
      ]
     },
     "metadata": {},
     "output_type": "display_data"
    },
    {
     "data": {
      "text/html": [
       "<pre>| Iteration | Passes   | Elapsed Time | Training-accuracy | Validation-accuracy |</pre>"
      ],
      "text/plain": [
       "| Iteration | Passes   | Elapsed Time | Training-accuracy | Validation-accuracy |"
      ]
     },
     "metadata": {},
     "output_type": "display_data"
    },
    {
     "data": {
      "text/html": [
       "<pre>+-----------+----------+--------------+-------------------+---------------------+</pre>"
      ],
      "text/plain": [
       "+-----------+----------+--------------+-------------------+---------------------+"
      ]
     },
     "metadata": {},
     "output_type": "display_data"
    },
    {
     "data": {
      "text/html": [
       "<pre>| 1         | 2        | 15.678346    | 0.809119          | 0.809121            |</pre>"
      ],
      "text/plain": [
       "| 1         | 2        | 15.678346    | 0.809119          | 0.809121            |"
      ]
     },
     "metadata": {},
     "output_type": "display_data"
    },
    {
     "data": {
      "text/html": [
       "<pre>| 2         | 3        | 26.353811    | 0.863133          | 0.862873            |</pre>"
      ],
      "text/plain": [
       "| 2         | 3        | 26.353811    | 0.863133          | 0.862873            |"
      ]
     },
     "metadata": {},
     "output_type": "display_data"
    },
    {
     "data": {
      "text/html": [
       "<pre>| 3         | 4        | 36.842288    | 0.891624          | 0.891522            |</pre>"
      ],
      "text/plain": [
       "| 3         | 4        | 36.842288    | 0.891624          | 0.891522            |"
      ]
     },
     "metadata": {},
     "output_type": "display_data"
    },
    {
     "data": {
      "text/html": [
       "<pre>| 4         | 5        | 48.379932    | 0.898516          | 0.898301            |</pre>"
      ],
      "text/plain": [
       "| 4         | 5        | 48.379932    | 0.898516          | 0.898301            |"
      ]
     },
     "metadata": {},
     "output_type": "display_data"
    },
    {
     "data": {
      "text/html": [
       "<pre>| 5         | 6        | 58.919184    | 0.898906          | 0.898698            |</pre>"
      ],
      "text/plain": [
       "| 5         | 6        | 58.919184    | 0.898906          | 0.898698            |"
      ]
     },
     "metadata": {},
     "output_type": "display_data"
    },
    {
     "data": {
      "text/html": [
       "<pre>| 6         | 7        | 69.388760    | 0.898908          | 0.898700            |</pre>"
      ],
      "text/plain": [
       "| 6         | 7        | 69.388760    | 0.898908          | 0.898700            |"
      ]
     },
     "metadata": {},
     "output_type": "display_data"
    },
    {
     "name": "stdout",
     "output_type": "stream",
     "text": [
      "Wall time: 1min 41s\n"
     ]
    },
    {
     "data": {
      "text/html": [
       "<pre>+-----------+----------+--------------+-------------------+---------------------+</pre>"
      ],
      "text/plain": [
       "+-----------+----------+--------------+-------------------+---------------------+"
      ]
     },
     "metadata": {},
     "output_type": "display_data"
    },
    {
     "data": {
      "text/html": [
       "<pre>SUCCESS: Optimal solution found.</pre>"
      ],
      "text/plain": [
       "SUCCESS: Optimal solution found."
      ]
     },
     "metadata": {},
     "output_type": "display_data"
    },
    {
     "data": {
      "text/html": [
       "<pre></pre>"
      ],
      "text/plain": []
     },
     "metadata": {},
     "output_type": "display_data"
    }
   ],
   "source": [
    "%time model = graphlab.logistic_classifier.create(train, target = 'is_delayed', features = custom_airline_features)"
   ]
  },
  {
   "cell_type": "markdown",
   "metadata": {},
   "source": [
    "## Evaluate the Logistic Regression Model"
   ]
  },
  {
   "cell_type": "code",
   "execution_count": 82,
   "metadata": {},
   "outputs": [
    {
     "name": "stdout",
     "output_type": "stream",
     "text": [
      "{'f1_score': 0.663910682314313, 'auc': 0.9567648088104059, 'recall': 0.49755493048156946, 'precision': 0.9973818012849726, 'log_loss': 0.339373096367494, 'roc_curve': Columns:\n",
      "\tthreshold\tfloat\n",
      "\tfpr\tfloat\n",
      "\ttpr\tfloat\n",
      "\tp\tint\n",
      "\tn\tint\n",
      "\n",
      "Rows: 100001\n",
      "\n",
      "Data:\n",
      "+-----------+----------------+----------------+---------+---------+\n",
      "| threshold |      fpr       |      tpr       |    p    |    n    |\n",
      "+-----------+----------------+----------------+---------+---------+\n",
      "|    0.0    |      1.0       |      1.0       | 1345974 | 5359888 |\n",
      "|   1e-05   | 0.999642902986 | 0.988830393455 | 1345974 | 5359888 |\n",
      "|   2e-05   | 0.999642902986 | 0.988827421629 | 1345974 | 5359888 |\n",
      "|   3e-05   | 0.999642902986 | 0.98882519276  | 1345974 | 5359888 |\n",
      "|   4e-05   | 0.999642902986 | 0.988822963891 | 1345974 | 5359888 |\n",
      "|   5e-05   | 0.999642902986 | 0.988822963891 | 1345974 | 5359888 |\n",
      "|   6e-05   | 0.999642902986 | 0.988819992065 | 1345974 | 5359888 |\n",
      "|   7e-05   | 0.999642716415 | 0.988817763196 | 1345974 | 5359888 |\n",
      "|   8e-05   | 0.999642716415 | 0.988815534327 | 1345974 | 5359888 |\n",
      "|   9e-05   | 0.999642716415 | 0.98881479137  | 1345974 | 5359888 |\n",
      "+-----------+----------------+----------------+---------+---------+\n",
      "[100001 rows x 5 columns]\n",
      "Note: Only the head of the SFrame is printed.\n",
      "You can use print_rows(num_rows=m, num_columns=n) to print more rows and columns., 'confusion_matrix': Columns:\n",
      "\ttarget_label\tint\n",
      "\tpredicted_label\tint\n",
      "\tcount\tint\n",
      "\n",
      "Rows: 4\n",
      "\n",
      "Data:\n",
      "+--------------+-----------------+---------+\n",
      "| target_label | predicted_label |  count  |\n",
      "+--------------+-----------------+---------+\n",
      "|      0       |        1        |   1758  |\n",
      "|      1       |        1        |  669696 |\n",
      "|      1       |        0        |  676278 |\n",
      "|      0       |        0        | 5358130 |\n",
      "+--------------+-----------------+---------+\n",
      "[4 rows x 3 columns]\n",
      ", 'accuracy': 0.898889061540485}\n"
     ]
    }
   ],
   "source": [
    "# Evaluate the model and save the results into a dictionary\n",
    "print model.evaluate(test)"
   ]
  },
  {
   "cell_type": "code",
   "execution_count": 83,
   "metadata": {},
   "outputs": [
    {
     "data": {
      "text/html": [
       "<div style=\"max-height:1000px;max-width:1500px;overflow:auto;\"><table frame=\"box\" rules=\"cols\">\n",
       "    <tr>\n",
       "        <th style=\"padding-left: 1em; padding-right: 1em; text-align: center\">name</th>\n",
       "        <th style=\"padding-left: 1em; padding-right: 1em; text-align: center\">index</th>\n",
       "        <th style=\"padding-left: 1em; padding-right: 1em; text-align: center\">class</th>\n",
       "        <th style=\"padding-left: 1em; padding-right: 1em; text-align: center\">value</th>\n",
       "        <th style=\"padding-left: 1em; padding-right: 1em; text-align: center\">stderr</th>\n",
       "    </tr>\n",
       "    <tr>\n",
       "        <td style=\"padding-left: 1em; padding-right: 1em; text-align: center; vertical-align: top\">(intercept)</td>\n",
       "        <td style=\"padding-left: 1em; padding-right: 1em; text-align: center; vertical-align: top\">None</td>\n",
       "        <td style=\"padding-left: 1em; padding-right: 1em; text-align: center; vertical-align: top\">1</td>\n",
       "        <td style=\"padding-left: 1em; padding-right: 1em; text-align: center; vertical-align: top\">-3.20339550318</td>\n",
       "        <td style=\"padding-left: 1em; padding-right: 1em; text-align: center; vertical-align: top\">0.00326865759365</td>\n",
       "    </tr>\n",
       "    <tr>\n",
       "        <td style=\"padding-left: 1em; padding-right: 1em; text-align: center; vertical-align: top\">Month</td>\n",
       "        <td style=\"padding-left: 1em; padding-right: 1em; text-align: center; vertical-align: top\">None</td>\n",
       "        <td style=\"padding-left: 1em; padding-right: 1em; text-align: center; vertical-align: top\">1</td>\n",
       "        <td style=\"padding-left: 1em; padding-right: 1em; text-align: center; vertical-align: top\">-0.00767687949441</td>\n",
       "        <td style=\"padding-left: 1em; padding-right: 1em; text-align: center; vertical-align: top\">0.000170328694882</td>\n",
       "    </tr>\n",
       "    <tr>\n",
       "        <td style=\"padding-left: 1em; padding-right: 1em; text-align: center; vertical-align: top\">DayofMonth</td>\n",
       "        <td style=\"padding-left: 1em; padding-right: 1em; text-align: center; vertical-align: top\">None</td>\n",
       "        <td style=\"padding-left: 1em; padding-right: 1em; text-align: center; vertical-align: top\">1</td>\n",
       "        <td style=\"padding-left: 1em; padding-right: 1em; text-align: center; vertical-align: top\">0.00330861640912</td>\n",
       "        <td style=\"padding-left: 1em; padding-right: 1em; text-align: center; vertical-align: top\">6.60649583003e-05</td>\n",
       "    </tr>\n",
       "    <tr>\n",
       "        <td style=\"padding-left: 1em; padding-right: 1em; text-align: center; vertical-align: top\">DayOfWeek</td>\n",
       "        <td style=\"padding-left: 1em; padding-right: 1em; text-align: center; vertical-align: top\">None</td>\n",
       "        <td style=\"padding-left: 1em; padding-right: 1em; text-align: center; vertical-align: top\">1</td>\n",
       "        <td style=\"padding-left: 1em; padding-right: 1em; text-align: center; vertical-align: top\">0.00643665379704</td>\n",
       "        <td style=\"padding-left: 1em; padding-right: 1em; text-align: center; vertical-align: top\">0.000290866980591</td>\n",
       "    </tr>\n",
       "    <tr>\n",
       "        <td style=\"padding-left: 1em; padding-right: 1em; text-align: center; vertical-align: top\">DepTime</td>\n",
       "        <td style=\"padding-left: 1em; padding-right: 1em; text-align: center; vertical-align: top\">None</td>\n",
       "        <td style=\"padding-left: 1em; padding-right: 1em; text-align: center; vertical-align: top\">1</td>\n",
       "        <td style=\"padding-left: 1em; padding-right: 1em; text-align: center; vertical-align: top\">0.0246941668579</td>\n",
       "        <td style=\"padding-left: 1em; padding-right: 1em; text-align: center; vertical-align: top\">1.44759873417e-05</td>\n",
       "    </tr>\n",
       "    <tr>\n",
       "        <td style=\"padding-left: 1em; padding-right: 1em; text-align: center; vertical-align: top\">CRSDepTime</td>\n",
       "        <td style=\"padding-left: 1em; padding-right: 1em; text-align: center; vertical-align: top\">None</td>\n",
       "        <td style=\"padding-left: 1em; padding-right: 1em; text-align: center; vertical-align: top\">1</td>\n",
       "        <td style=\"padding-left: 1em; padding-right: 1em; text-align: center; vertical-align: top\">-0.0239628520927</td>\n",
       "        <td style=\"padding-left: 1em; padding-right: 1em; text-align: center; vertical-align: top\">1.46165924854e-05</td>\n",
       "    </tr>\n",
       "    <tr>\n",
       "        <td style=\"padding-left: 1em; padding-right: 1em; text-align: center; vertical-align: top\">ArrTime</td>\n",
       "        <td style=\"padding-left: 1em; padding-right: 1em; text-align: center; vertical-align: top\">None</td>\n",
       "        <td style=\"padding-left: 1em; padding-right: 1em; text-align: center; vertical-align: top\">1</td>\n",
       "        <td style=\"padding-left: 1em; padding-right: 1em; text-align: center; vertical-align: top\">-1.49558418681e-06</td>\n",
       "        <td style=\"padding-left: 1em; padding-right: 1em; text-align: center; vertical-align: top\">2.38279893282e-06</td>\n",
       "    </tr>\n",
       "    <tr>\n",
       "        <td style=\"padding-left: 1em; padding-right: 1em; text-align: center; vertical-align: top\">CRSArrTime</td>\n",
       "        <td style=\"padding-left: 1em; padding-right: 1em; text-align: center; vertical-align: top\">None</td>\n",
       "        <td style=\"padding-left: 1em; padding-right: 1em; text-align: center; vertical-align: top\">1</td>\n",
       "        <td style=\"padding-left: 1em; padding-right: 1em; text-align: center; vertical-align: top\">0.000106316680141</td>\n",
       "        <td style=\"padding-left: 1em; padding-right: 1em; text-align: center; vertical-align: top\">2.79159740634e-06</td>\n",
       "    </tr>\n",
       "    <tr>\n",
       "        <td style=\"padding-left: 1em; padding-right: 1em; text-align: center; vertical-align: top\">UniqueCarrier</td>\n",
       "        <td style=\"padding-left: 1em; padding-right: 1em; text-align: center; vertical-align: top\">None</td>\n",
       "        <td style=\"padding-left: 1em; padding-right: 1em; text-align: center; vertical-align: top\">1</td>\n",
       "        <td style=\"padding-left: 1em; padding-right: 1em; text-align: center; vertical-align: top\">0.00307879915123</td>\n",
       "        <td style=\"padding-left: 1em; padding-right: 1em; text-align: center; vertical-align: top\">6.16274451957e-05</td>\n",
       "    </tr>\n",
       "    <tr>\n",
       "        <td style=\"padding-left: 1em; padding-right: 1em; text-align: center; vertical-align: top\">FlightNum</td>\n",
       "        <td style=\"padding-left: 1em; padding-right: 1em; text-align: center; vertical-align: top\">None</td>\n",
       "        <td style=\"padding-left: 1em; padding-right: 1em; text-align: center; vertical-align: top\">1</td>\n",
       "        <td style=\"padding-left: 1em; padding-right: 1em; text-align: center; vertical-align: top\">1.0072278144e-05</td>\n",
       "        <td style=\"padding-left: 1em; padding-right: 1em; text-align: center; vertical-align: top\">3.08077610523e-07</td>\n",
       "    </tr>\n",
       "</table>\n",
       "[11 rows x 5 columns]<br/>Note: Only the head of the SFrame is printed.<br/>You can use print_rows(num_rows=m, num_columns=n) to print more rows and columns.\n",
       "</div>"
      ],
      "text/plain": [
       "Columns:\n",
       "\tname\tstr\n",
       "\tindex\tstr\n",
       "\tclass\tint\n",
       "\tvalue\tfloat\n",
       "\tstderr\tfloat\n",
       "\n",
       "Rows: 11\n",
       "\n",
       "Data:\n",
       "+---------------+-------+-------+--------------------+-------------------+\n",
       "|      name     | index | class |       value        |       stderr      |\n",
       "+---------------+-------+-------+--------------------+-------------------+\n",
       "|  (intercept)  |  None |   1   |   -3.20339550318   |  0.00326865759365 |\n",
       "|     Month     |  None |   1   | -0.00767687949441  | 0.000170328694882 |\n",
       "|   DayofMonth  |  None |   1   |  0.00330861640912  | 6.60649583003e-05 |\n",
       "|   DayOfWeek   |  None |   1   |  0.00643665379704  | 0.000290866980591 |\n",
       "|    DepTime    |  None |   1   |  0.0246941668579   | 1.44759873417e-05 |\n",
       "|   CRSDepTime  |  None |   1   |  -0.0239628520927  | 1.46165924854e-05 |\n",
       "|    ArrTime    |  None |   1   | -1.49558418681e-06 | 2.38279893282e-06 |\n",
       "|   CRSArrTime  |  None |   1   | 0.000106316680141  | 2.79159740634e-06 |\n",
       "| UniqueCarrier |  None |   1   |  0.00307879915123  | 6.16274451957e-05 |\n",
       "|   FlightNum   |  None |   1   |  1.0072278144e-05  | 3.08077610523e-07 |\n",
       "+---------------+-------+-------+--------------------+-------------------+\n",
       "[11 rows x 5 columns]\n",
       "Note: Only the head of the SFrame is printed.\n",
       "You can use print_rows(num_rows=m, num_columns=n) to print more rows and columns."
      ]
     },
     "execution_count": 83,
     "metadata": {},
     "output_type": "execute_result"
    }
   ],
   "source": [
    "model.get('coefficients')   # get the weights"
   ]
  },
  {
   "cell_type": "markdown",
   "metadata": {},
   "source": [
    "### Making Predictions\n",
    "\n",
    "Predictions using a GraphLab Create classifier is done by suing the classify() method.  The classify() method provides a one-stop shop for all that you need from a classifier.\n",
    "\n",
    "    - A class prediction\n",
    "    - Probability/Confidence associated with that class prediction.\n",
    "\n",
    "In the following example, the first prediction was class 0 with a 84.5% probability."
   ]
  },
  {
   "cell_type": "code",
   "execution_count": 84,
   "metadata": {},
   "outputs": [
    {
     "name": "stdout",
     "output_type": "stream",
     "text": [
      "+-------+----------------+\n",
      "| class |  probability   |\n",
      "+-------+----------------+\n",
      "|   0   | 0.844730608912 |\n",
      "|   0   | 0.928220771797 |\n",
      "|   0   | 0.927374259688 |\n",
      "|   0   | 0.927672774909 |\n",
      "|   0   | 0.963834207836 |\n",
      "|   0   | 0.960816172997 |\n",
      "|   0   | 0.894976931714 |\n",
      "|   0   | 0.903081132374 |\n",
      "|   0   | 0.90741645003  |\n",
      "|   0   | 0.902842377616 |\n",
      "+-------+----------------+\n",
      "[6705862 rows x 2 columns]\n",
      "Note: Only the head of the SFrame is printed.\n",
      "You can use print_rows(num_rows=m, num_columns=n) to print more rows and columns.\n"
     ]
    }
   ],
   "source": [
    "# Save predictions (probability estimates) to an SArray\n",
    "predictions = model.classify(test)\n",
    "print predictions"
   ]
  },
  {
   "cell_type": "markdown",
   "metadata": {},
   "source": [
    "<div style=\"color:red\">\n",
    "<h3><b>Discuss these results &uarr;</b></h3>\n",
    "</div>"
   ]
  },
  {
   "cell_type": "markdown",
   "metadata": {},
   "source": [
    "# GraphLab Create's Logistic Regression model can return predictions for any of these types:"
   ]
  },
  {
   "cell_type": "code",
   "execution_count": 85,
   "metadata": {
    "collapsed": true
   },
   "outputs": [],
   "source": [
    "class_predictions = model.predict(test, output_type = \"class\")  # Class"
   ]
  },
  {
   "cell_type": "markdown",
   "metadata": {},
   "source": [
    "# Evaluating Results\n",
    "\n",
    "We can also evaluate our predictions by comparing them to known ratings. The results are evaluated using two metrics:\n",
    "\n",
    "* Classification Accuracy: Fraction of test set examples with correct class label predictions.\n",
    "* Confusion Matrix: Cross- tabulation of predicted and actual class labels.\n",
    "\n",
    "The accuracy of the model is 89.89%.   The confusion matrix is listed below."
   ]
  },
  {
   "cell_type": "code",
   "execution_count": 86,
   "metadata": {},
   "outputs": [
    {
     "name": "stdout",
     "output_type": "stream",
     "text": [
      "Accuracy         : 0.89888906154 \n",
      "Confusion Matrix : \n",
      "+--------------+-----------------+---------+\n",
      "| target_label | predicted_label |  count  |\n",
      "+--------------+-----------------+---------+\n",
      "|      0       |        1        |   1758  |\n",
      "|      1       |        1        |  669696 |\n",
      "|      1       |        0        |  676278 |\n",
      "|      0       |        0        | 5358130 |\n",
      "+--------------+-----------------+---------+\n",
      "[4 rows x 3 columns]\n",
      " \n"
     ]
    }
   ],
   "source": [
    "result = model.evaluate(test)\n",
    "print \"Accuracy         : %s \" % result['accuracy']\n",
    "print \"Confusion Matrix : \\n%s \" % result['confusion_matrix']"
   ]
  },
  {
   "cell_type": "markdown",
   "metadata": {},
   "source": [
    "<div style=\"color:red\">\n",
    "<h3><b>Discuss these results &uarr;</b></h3>\n",
    "</div>"
   ]
  },
  {
   "cell_type": "markdown",
   "metadata": {},
   "source": [
    "<h1>Non linear regression: Traditional Matrix Factorization</h1>\n",
    "\n",
    "Our task is to predict if there is flight delay before the flight is delayed, which is affected by the airport load, weather, plane type, carrier and many other parameters.  Let us try regular matrix factorization.\n",
    "\n",
    "The factorization recommender took approximately 15 minutes to execute.  The final results are listed below:\n",
    "\n",
    "- Training RMSE 0.189621495987\n",
    "- Validation RMSE 0.19030777841\n",
    "\n",
    "## Reference \n",
    "\n",
    "- https://github.com/turi-code/userguide/blob/master/recommender/choosing-a-model.md\n",
    "\n",
    "- https://turi.com/products/create/docs/generated/graphlab.recommender.factorization_recommender.create.html?highlight=factorization_recommender"
   ]
  },
  {
   "cell_type": "markdown",
   "metadata": {},
   "source": [
    "<div style=\"color:red\">\n",
    "<h3><b>Discuss this section</b></h3>\n",
    "</div>"
   ]
  },
  {
   "cell_type": "code",
   "execution_count": 87,
   "metadata": {
    "scrolled": false
   },
   "outputs": [
    {
     "data": {
      "text/html": [
       "<pre>Recsys training: model = factorization_recommender</pre>"
      ],
      "text/plain": [
       "Recsys training: model = factorization_recommender"
      ]
     },
     "metadata": {},
     "output_type": "display_data"
    },
    {
     "data": {
      "text/html": [
       "<pre>Preparing data set.</pre>"
      ],
      "text/plain": [
       "Preparing data set."
      ]
     },
     "metadata": {},
     "output_type": "display_data"
    },
    {
     "data": {
      "text/html": [
       "<pre>    Data has 26834353 observations with 8109 users and 323 items.</pre>"
      ],
      "text/plain": [
       "    Data has 26834353 observations with 8109 users and 323 items."
      ]
     },
     "metadata": {},
     "output_type": "display_data"
    },
    {
     "data": {
      "text/html": [
       "<pre>    Data prepared in: 208.773s</pre>"
      ],
      "text/plain": [
       "    Data prepared in: 208.773s"
      ]
     },
     "metadata": {},
     "output_type": "display_data"
    },
    {
     "data": {
      "text/html": [
       "<pre>Training factorization_recommender for recommendations.</pre>"
      ],
      "text/plain": [
       "Training factorization_recommender for recommendations."
      ]
     },
     "metadata": {},
     "output_type": "display_data"
    },
    {
     "data": {
      "text/html": [
       "<pre>+--------------------------------+--------------------------------------------------+----------+</pre>"
      ],
      "text/plain": [
       "+--------------------------------+--------------------------------------------------+----------+"
      ]
     },
     "metadata": {},
     "output_type": "display_data"
    },
    {
     "data": {
      "text/html": [
       "<pre>| Parameter                      | Description                                      | Value    |</pre>"
      ],
      "text/plain": [
       "| Parameter                      | Description                                      | Value    |"
      ]
     },
     "metadata": {},
     "output_type": "display_data"
    },
    {
     "data": {
      "text/html": [
       "<pre>+--------------------------------+--------------------------------------------------+----------+</pre>"
      ],
      "text/plain": [
       "+--------------------------------+--------------------------------------------------+----------+"
      ]
     },
     "metadata": {},
     "output_type": "display_data"
    },
    {
     "data": {
      "text/html": [
       "<pre>| num_factors                    | Factor Dimension                                 | 8        |</pre>"
      ],
      "text/plain": [
       "| num_factors                    | Factor Dimension                                 | 8        |"
      ]
     },
     "metadata": {},
     "output_type": "display_data"
    },
    {
     "data": {
      "text/html": [
       "<pre>| regularization                 | L2 Regularization on Factors                     | 1e-008   |</pre>"
      ],
      "text/plain": [
       "| regularization                 | L2 Regularization on Factors                     | 1e-008   |"
      ]
     },
     "metadata": {},
     "output_type": "display_data"
    },
    {
     "data": {
      "text/html": [
       "<pre>| solver                         | Solver used for training                         | sgd      |</pre>"
      ],
      "text/plain": [
       "| solver                         | Solver used for training                         | sgd      |"
      ]
     },
     "metadata": {},
     "output_type": "display_data"
    },
    {
     "data": {
      "text/html": [
       "<pre>| linear_regularization          | L2 Regularization on Linear Coefficients         | 1e-010   |</pre>"
      ],
      "text/plain": [
       "| linear_regularization          | L2 Regularization on Linear Coefficients         | 1e-010   |"
      ]
     },
     "metadata": {},
     "output_type": "display_data"
    },
    {
     "data": {
      "text/html": [
       "<pre>| max_iterations                 | Maximum Number of Iterations                     | 50       |</pre>"
      ],
      "text/plain": [
       "| max_iterations                 | Maximum Number of Iterations                     | 50       |"
      ]
     },
     "metadata": {},
     "output_type": "display_data"
    },
    {
     "data": {
      "text/html": [
       "<pre>+--------------------------------+--------------------------------------------------+----------+</pre>"
      ],
      "text/plain": [
       "+--------------------------------+--------------------------------------------------+----------+"
      ]
     },
     "metadata": {},
     "output_type": "display_data"
    },
    {
     "data": {
      "text/html": [
       "<pre>  Optimizing model using SGD; tuning step size.</pre>"
      ],
      "text/plain": [
       "  Optimizing model using SGD; tuning step size."
      ]
     },
     "metadata": {},
     "output_type": "display_data"
    },
    {
     "data": {
      "text/html": [
       "<pre>  Using 3354294 / 26834353 points for tuning the step size.</pre>"
      ],
      "text/plain": [
       "  Using 3354294 / 26834353 points for tuning the step size."
      ]
     },
     "metadata": {},
     "output_type": "display_data"
    },
    {
     "data": {
      "text/html": [
       "<pre>+---------+-------------------+------------------------------------------+</pre>"
      ],
      "text/plain": [
       "+---------+-------------------+------------------------------------------+"
      ]
     },
     "metadata": {},
     "output_type": "display_data"
    },
    {
     "data": {
      "text/html": [
       "<pre>| Attempt | Initial Step Size | Estimated Objective Value                |</pre>"
      ],
      "text/plain": [
       "| Attempt | Initial Step Size | Estimated Objective Value                |"
      ]
     },
     "metadata": {},
     "output_type": "display_data"
    },
    {
     "data": {
      "text/html": [
       "<pre>+---------+-------------------+------------------------------------------+</pre>"
      ],
      "text/plain": [
       "+---------+-------------------+------------------------------------------+"
      ]
     },
     "metadata": {},
     "output_type": "display_data"
    },
    {
     "data": {
      "text/html": [
       "<pre>| 0       | 1.72414           | Not Viable                               |</pre>"
      ],
      "text/plain": [
       "| 0       | 1.72414           | Not Viable                               |"
      ]
     },
     "metadata": {},
     "output_type": "display_data"
    },
    {
     "data": {
      "text/html": [
       "<pre>| 1       | 0.431034          | Not Viable                               |</pre>"
      ],
      "text/plain": [
       "| 1       | 0.431034          | Not Viable                               |"
      ]
     },
     "metadata": {},
     "output_type": "display_data"
    },
    {
     "data": {
      "text/html": [
       "<pre>| 2       | 0.107759          | Not Viable                               |</pre>"
      ],
      "text/plain": [
       "| 2       | 0.107759          | Not Viable                               |"
      ]
     },
     "metadata": {},
     "output_type": "display_data"
    },
    {
     "data": {
      "text/html": [
       "<pre>| 3       | 0.0269397         | Not Viable                               |</pre>"
      ],
      "text/plain": [
       "| 3       | 0.0269397         | Not Viable                               |"
      ]
     },
     "metadata": {},
     "output_type": "display_data"
    },
    {
     "data": {
      "text/html": [
       "<pre>| 4       | 0.00673491        | 0.0418396                                |</pre>"
      ],
      "text/plain": [
       "| 4       | 0.00673491        | 0.0418396                                |"
      ]
     },
     "metadata": {},
     "output_type": "display_data"
    },
    {
     "data": {
      "text/html": [
       "<pre>| 5       | 0.00336746        | 0.0383567                                |</pre>"
      ],
      "text/plain": [
       "| 5       | 0.00336746        | 0.0383567                                |"
      ]
     },
     "metadata": {},
     "output_type": "display_data"
    },
    {
     "data": {
      "text/html": [
       "<pre>| 6       | 0.00168373        | 0.038702                                 |</pre>"
      ],
      "text/plain": [
       "| 6       | 0.00168373        | 0.038702                                 |"
      ]
     },
     "metadata": {},
     "output_type": "display_data"
    },
    {
     "data": {
      "text/html": [
       "<pre>| 7       | 0.000841864       | 0.040125                                 |</pre>"
      ],
      "text/plain": [
       "| 7       | 0.000841864       | 0.040125                                 |"
      ]
     },
     "metadata": {},
     "output_type": "display_data"
    },
    {
     "data": {
      "text/html": [
       "<pre>| 8       | 0.000420932       | 0.0399501                                |</pre>"
      ],
      "text/plain": [
       "| 8       | 0.000420932       | 0.0399501                                |"
      ]
     },
     "metadata": {},
     "output_type": "display_data"
    },
    {
     "data": {
      "text/html": [
       "<pre>+---------+-------------------+------------------------------------------+</pre>"
      ],
      "text/plain": [
       "+---------+-------------------+------------------------------------------+"
      ]
     },
     "metadata": {},
     "output_type": "display_data"
    },
    {
     "data": {
      "text/html": [
       "<pre>| Final   | 0.00336746        | 0.0383567                                |</pre>"
      ],
      "text/plain": [
       "| Final   | 0.00336746        | 0.0383567                                |"
      ]
     },
     "metadata": {},
     "output_type": "display_data"
    },
    {
     "data": {
      "text/html": [
       "<pre>+---------+-------------------+------------------------------------------+</pre>"
      ],
      "text/plain": [
       "+---------+-------------------+------------------------------------------+"
      ]
     },
     "metadata": {},
     "output_type": "display_data"
    },
    {
     "data": {
      "text/html": [
       "<pre>Starting Optimization.</pre>"
      ],
      "text/plain": [
       "Starting Optimization."
      ]
     },
     "metadata": {},
     "output_type": "display_data"
    },
    {
     "data": {
      "text/html": [
       "<pre>+---------+--------------+-------------------+-----------------------+-------------+</pre>"
      ],
      "text/plain": [
       "+---------+--------------+-------------------+-----------------------+-------------+"
      ]
     },
     "metadata": {},
     "output_type": "display_data"
    },
    {
     "data": {
      "text/html": [
       "<pre>| Iter.   | Elapsed Time | Approx. Objective | Approx. Training RMSE | Step Size   |</pre>"
      ],
      "text/plain": [
       "| Iter.   | Elapsed Time | Approx. Objective | Approx. Training RMSE | Step Size   |"
      ]
     },
     "metadata": {},
     "output_type": "display_data"
    },
    {
     "data": {
      "text/html": [
       "<pre>+---------+--------------+-------------------+-----------------------+-------------+</pre>"
      ],
      "text/plain": [
       "+---------+--------------+-------------------+-----------------------+-------------+"
      ]
     },
     "metadata": {},
     "output_type": "display_data"
    },
    {
     "data": {
      "text/html": [
       "<pre>| Initial | 2.331ms      | 0.160387          | 0.400483              |             |</pre>"
      ],
      "text/plain": [
       "| Initial | 2.331ms      | 0.160387          | 0.400483              |             |"
      ]
     },
     "metadata": {},
     "output_type": "display_data"
    },
    {
     "data": {
      "text/html": [
       "<pre>+---------+--------------+-------------------+-----------------------+-------------+</pre>"
      ],
      "text/plain": [
       "+---------+--------------+-------------------+-----------------------+-------------+"
      ]
     },
     "metadata": {},
     "output_type": "display_data"
    },
    {
     "data": {
      "text/html": [
       "<pre>| 1       | 11.73s       | 0.0559272         | 0.236484              | 0.00336746  |</pre>"
      ],
      "text/plain": [
       "| 1       | 11.73s       | 0.0559272         | 0.236484              | 0.00336746  |"
      ]
     },
     "metadata": {},
     "output_type": "display_data"
    },
    {
     "data": {
      "text/html": [
       "<pre>| 2       | 23.08s       | 0.0492428         | 0.221905              | 0.0020023   |</pre>"
      ],
      "text/plain": [
       "| 2       | 23.08s       | 0.0492428         | 0.221905              | 0.0020023   |"
      ]
     },
     "metadata": {},
     "output_type": "display_data"
    },
    {
     "data": {
      "text/html": [
       "<pre>| 3       | 34.40s       | 0.0450217         | 0.212183              | 0.00147727  |</pre>"
      ],
      "text/plain": [
       "| 3       | 34.40s       | 0.0450217         | 0.212183              | 0.00147727  |"
      ]
     },
     "metadata": {},
     "output_type": "display_data"
    },
    {
     "data": {
      "text/html": [
       "<pre>| 4       | 45.65s       | 0.041021          | 0.202536              | 0.00119058  |</pre>"
      ],
      "text/plain": [
       "| 4       | 45.65s       | 0.041021          | 0.202536              | 0.00119058  |"
      ]
     },
     "metadata": {},
     "output_type": "display_data"
    },
    {
     "data": {
      "text/html": [
       "<pre>| 5       | 56.69s       | 0.0402751         | 0.200686              | 0.0010071   |</pre>"
      ],
      "text/plain": [
       "| 5       | 56.69s       | 0.0402751         | 0.200686              | 0.0010071   |"
      ]
     },
     "metadata": {},
     "output_type": "display_data"
    },
    {
     "data": {
      "text/html": [
       "<pre>| 6       | 1m 7s        | 0.0395518         | 0.198876              | 0.000878392 |</pre>"
      ],
      "text/plain": [
       "| 6       | 1m 7s        | 0.0395518         | 0.198876              | 0.000878392 |"
      ]
     },
     "metadata": {},
     "output_type": "display_data"
    },
    {
     "data": {
      "text/html": [
       "<pre>| 7       | 1m 19s       | 0.0391375         | 0.197832              | 0.000782489 |</pre>"
      ],
      "text/plain": [
       "| 7       | 1m 19s       | 0.0391375         | 0.197832              | 0.000782489 |"
      ]
     },
     "metadata": {},
     "output_type": "display_data"
    },
    {
     "data": {
      "text/html": [
       "<pre>| 8       | 1m 30s       | 0.038806          | 0.196992              | 0.000707921 |</pre>"
      ],
      "text/plain": [
       "| 8       | 1m 30s       | 0.038806          | 0.196992              | 0.000707921 |"
      ]
     },
     "metadata": {},
     "output_type": "display_data"
    },
    {
     "data": {
      "text/html": [
       "<pre>| 9       | 1m 41s       | 0.0384953         | 0.196202              | 0.000648067 |</pre>"
      ],
      "text/plain": [
       "| 9       | 1m 41s       | 0.0384953         | 0.196202              | 0.000648067 |"
      ]
     },
     "metadata": {},
     "output_type": "display_data"
    },
    {
     "data": {
      "text/html": [
       "<pre>| 10      | 1m 53s       | 0.0382457         | 0.195565              | 0.000598828 |</pre>"
      ],
      "text/plain": [
       "| 10      | 1m 53s       | 0.0382457         | 0.195565              | 0.000598828 |"
      ]
     },
     "metadata": {},
     "output_type": "display_data"
    },
    {
     "data": {
      "text/html": [
       "<pre>| 11      | 2m 4s        | 0.0380436         | 0.195047              | 0.000557516 |</pre>"
      ],
      "text/plain": [
       "| 11      | 2m 4s        | 0.0380436         | 0.195047              | 0.000557516 |"
      ]
     },
     "metadata": {},
     "output_type": "display_data"
    },
    {
     "data": {
      "text/html": [
       "<pre>| 12      | 2m 15s       | 0.0378584         | 0.194572              | 0.000522295 |</pre>"
      ],
      "text/plain": [
       "| 12      | 2m 15s       | 0.0378584         | 0.194572              | 0.000522295 |"
      ]
     },
     "metadata": {},
     "output_type": "display_data"
    },
    {
     "data": {
      "text/html": [
       "<pre>| 13      | 2m 27s       | 0.0377574         | 0.194312              | 0.000491863 |</pre>"
      ],
      "text/plain": [
       "| 13      | 2m 27s       | 0.0377574         | 0.194312              | 0.000491863 |"
      ]
     },
     "metadata": {},
     "output_type": "display_data"
    },
    {
     "data": {
      "text/html": [
       "<pre>| 14      | 2m 38s       | 0.0376832         | 0.194121              | 0.000465271 |</pre>"
      ],
      "text/plain": [
       "| 14      | 2m 38s       | 0.0376832         | 0.194121              | 0.000465271 |"
      ]
     },
     "metadata": {},
     "output_type": "display_data"
    },
    {
     "data": {
      "text/html": [
       "<pre>| 15      | 2m 49s       | 0.0375096         | 0.193673              | 0.000441808 |</pre>"
      ],
      "text/plain": [
       "| 15      | 2m 49s       | 0.0375096         | 0.193673              | 0.000441808 |"
      ]
     },
     "metadata": {},
     "output_type": "display_data"
    },
    {
     "data": {
      "text/html": [
       "<pre>| 16      | 3m 1s        | 0.0374023         | 0.193396              | 0.000420932 |</pre>"
      ],
      "text/plain": [
       "| 16      | 3m 1s        | 0.0374023         | 0.193396              | 0.000420932 |"
      ]
     },
     "metadata": {},
     "output_type": "display_data"
    },
    {
     "data": {
      "text/html": [
       "<pre>| 17      | 3m 13s       | 0.0372997         | 0.193131              | 0.000402222 |</pre>"
      ],
      "text/plain": [
       "| 17      | 3m 13s       | 0.0372997         | 0.193131              | 0.000402222 |"
      ]
     },
     "metadata": {},
     "output_type": "display_data"
    },
    {
     "data": {
      "text/html": [
       "<pre>| 18      | 3m 25s       | 0.0372476         | 0.192996              | 0.000385343 |</pre>"
      ],
      "text/plain": [
       "| 18      | 3m 25s       | 0.0372476         | 0.192996              | 0.000385343 |"
      ]
     },
     "metadata": {},
     "output_type": "display_data"
    },
    {
     "data": {
      "text/html": [
       "<pre>| 19      | 3m 36s       | 0.0371423         | 0.192723              | 0.00037003  |</pre>"
      ],
      "text/plain": [
       "| 19      | 3m 36s       | 0.0371423         | 0.192723              | 0.00037003  |"
      ]
     },
     "metadata": {},
     "output_type": "display_data"
    },
    {
     "data": {
      "text/html": [
       "<pre>| 20      | 3m 48s       | 0.0371636         | 0.192778              | 0.000356065 |</pre>"
      ],
      "text/plain": [
       "| 20      | 3m 48s       | 0.0371636         | 0.192778              | 0.000356065 |"
      ]
     },
     "metadata": {},
     "output_type": "display_data"
    },
    {
     "data": {
      "text/html": [
       "<pre>| 21      | 3m 59s       | 0.0368586         | 0.191985              | 0.000288656 |</pre>"
      ],
      "text/plain": [
       "| 21      | 3m 59s       | 0.0368586         | 0.191985              | 0.000288656 |"
      ]
     },
     "metadata": {},
     "output_type": "display_data"
    },
    {
     "data": {
      "text/html": [
       "<pre>| 22      | 4m 10s       | 0.0366132         | 0.191345              | 0.000234407 |</pre>"
      ],
      "text/plain": [
       "| 22      | 4m 10s       | 0.0366132         | 0.191345              | 0.000234407 |"
      ]
     },
     "metadata": {},
     "output_type": "display_data"
    },
    {
     "data": {
      "text/html": [
       "<pre>| 23      | 4m 22s       | 0.0365134         | 0.191084              | 0.000190649 |</pre>"
      ],
      "text/plain": [
       "| 23      | 4m 22s       | 0.0365134         | 0.191084              | 0.000190649 |"
      ]
     },
     "metadata": {},
     "output_type": "display_data"
    },
    {
     "data": {
      "text/html": [
       "<pre>| 24      | 4m 33s       | 0.0364355         | 0.19088               | 0.000184659 |</pre>"
      ],
      "text/plain": [
       "| 24      | 4m 33s       | 0.0364355         | 0.19088               | 0.000184659 |"
      ]
     },
     "metadata": {},
     "output_type": "display_data"
    },
    {
     "data": {
      "text/html": [
       "<pre>| 25      | 4m 45s       | 0.0364395         | 0.190891              | 0.000179091 |</pre>"
      ],
      "text/plain": [
       "| 25      | 4m 45s       | 0.0364395         | 0.190891              | 0.000179091 |"
      ]
     },
     "metadata": {},
     "output_type": "display_data"
    },
    {
     "data": {
      "text/html": [
       "<pre>| 26      | 4m 56s       | 0.0363246         | 0.190589              | 0.000146232 |</pre>"
      ],
      "text/plain": [
       "| 26      | 4m 56s       | 0.0363246         | 0.190589              | 0.000146232 |"
      ]
     },
     "metadata": {},
     "output_type": "display_data"
    },
    {
     "data": {
      "text/html": [
       "<pre>| 27      | 5m 7s        | 0.0362403         | 0.190368              | 0.000119534 |</pre>"
      ],
      "text/plain": [
       "| 27      | 5m 7s        | 0.0362403         | 0.190368              | 0.000119534 |"
      ]
     },
     "metadata": {},
     "output_type": "display_data"
    },
    {
     "data": {
      "text/html": [
       "<pre>| 28      | 5m 18s       | 0.0361175         | 0.190045              |             |</pre>"
      ],
      "text/plain": [
       "| 28      | 5m 18s       | 0.0361175         | 0.190045              |             |"
      ]
     },
     "metadata": {},
     "output_type": "display_data"
    },
    {
     "data": {
      "text/html": [
       "<pre>| 29      | 5m 29s       | 0.0361422         | 0.19011               |             |</pre>"
      ],
      "text/plain": [
       "| 29      | 5m 29s       | 0.0361422         | 0.19011               |             |"
      ]
     },
     "metadata": {},
     "output_type": "display_data"
    },
    {
     "data": {
      "text/html": [
       "<pre>| 30      | 5m 41s       | 0.0360913         | 0.189976              |             |</pre>"
      ],
      "text/plain": [
       "| 30      | 5m 41s       | 0.0360913         | 0.189976              |             |"
      ]
     },
     "metadata": {},
     "output_type": "display_data"
    },
    {
     "data": {
      "text/html": [
       "<pre>| 31      | 5m 53s       | 0.0360255         | 0.189803              |             |</pre>"
      ],
      "text/plain": [
       "| 31      | 5m 53s       | 0.0360255         | 0.189803              |             |"
      ]
     },
     "metadata": {},
     "output_type": "display_data"
    },
    {
     "data": {
      "text/html": [
       "<pre>| 32      | 6m 4s        | 0.0359949         | 0.189722              |             |</pre>"
      ],
      "text/plain": [
       "| 32      | 6m 4s        | 0.0359949         | 0.189722              |             |"
      ]
     },
     "metadata": {},
     "output_type": "display_data"
    },
    {
     "data": {
      "text/html": [
       "<pre>| 33      | 6m 15s       | 0.0359809         | 0.189685              |             |</pre>"
      ],
      "text/plain": [
       "| 33      | 6m 15s       | 0.0359809         | 0.189685              |             |"
      ]
     },
     "metadata": {},
     "output_type": "display_data"
    },
    {
     "data": {
      "text/html": [
       "<pre>| 34      | 6m 27s       | 0.0359646         | 0.189642              |             |</pre>"
      ],
      "text/plain": [
       "| 34      | 6m 27s       | 0.0359646         | 0.189642              |             |"
      ]
     },
     "metadata": {},
     "output_type": "display_data"
    },
    {
     "data": {
      "text/html": [
       "<pre>| 35      | 6m 39s       | 0.0359828         | 0.18969               |             |</pre>"
      ],
      "text/plain": [
       "| 35      | 6m 39s       | 0.0359828         | 0.18969               |             |"
      ]
     },
     "metadata": {},
     "output_type": "display_data"
    },
    {
     "data": {
      "text/html": [
       "<pre>| 36      | 6m 51s       | 0.0359413         | 0.189581              |             |</pre>"
      ],
      "text/plain": [
       "| 36      | 6m 51s       | 0.0359413         | 0.189581              |             |"
      ]
     },
     "metadata": {},
     "output_type": "display_data"
    },
    {
     "data": {
      "text/html": [
       "<pre>| 37      | 7m 4s        | 0.0359401         | 0.189578              |             |</pre>"
      ],
      "text/plain": [
       "| 37      | 7m 4s        | 0.0359401         | 0.189578              |             |"
      ]
     },
     "metadata": {},
     "output_type": "display_data"
    },
    {
     "data": {
      "text/html": [
       "<pre>| 38      | 7m 16s       | 0.0359068         | 0.18949               |             |</pre>"
      ],
      "text/plain": [
       "| 38      | 7m 16s       | 0.0359068         | 0.18949               |             |"
      ]
     },
     "metadata": {},
     "output_type": "display_data"
    },
    {
     "data": {
      "text/html": [
       "<pre>| 39      | 7m 29s       | 0.0359021         | 0.189478              | 2.6972e-005 |</pre>"
      ],
      "text/plain": [
       "| 39      | 7m 29s       | 0.0359021         | 0.189478              | 2.6972e-005 |"
      ]
     },
     "metadata": {},
     "output_type": "display_data"
    },
    {
     "data": {
      "text/html": [
       "<pre>| 40      | 7m 43s       | 0.0359198         | 0.189524              |             |</pre>"
      ],
      "text/plain": [
       "| 40      | 7m 43s       | 0.0359198         | 0.189524              |             |"
      ]
     },
     "metadata": {},
     "output_type": "display_data"
    },
    {
     "data": {
      "text/html": [
       "<pre>| 41      | 7m 55s       | 0.035907          | 0.18949               |             |</pre>"
      ],
      "text/plain": [
       "| 41      | 7m 55s       | 0.035907          | 0.18949               |             |"
      ]
     },
     "metadata": {},
     "output_type": "display_data"
    },
    {
     "data": {
      "text/html": [
       "<pre>| 42      | 8m 8s        | 0.0358948         | 0.189458              | 1.8041e-005 |</pre>"
      ],
      "text/plain": [
       "| 42      | 8m 8s        | 0.0358948         | 0.189458              | 1.8041e-005 |"
      ]
     },
     "metadata": {},
     "output_type": "display_data"
    },
    {
     "data": {
      "text/html": [
       "<pre>| 43      | 8m 21s       | 0.0358741         | 0.189404              |             |</pre>"
      ],
      "text/plain": [
       "| 43      | 8m 21s       | 0.0358741         | 0.189404              |             |"
      ]
     },
     "metadata": {},
     "output_type": "display_data"
    },
    {
     "data": {
      "text/html": [
       "<pre>| 44      | 8m 32s       | 0.0358858         | 0.189434              |             |</pre>"
      ],
      "text/plain": [
       "| 44      | 8m 32s       | 0.0358858         | 0.189434              |             |"
      ]
     },
     "metadata": {},
     "output_type": "display_data"
    },
    {
     "data": {
      "text/html": [
       "<pre>| 45      | 8m 45s       | 0.0358887         | 0.189442              |             |</pre>"
      ],
      "text/plain": [
       "| 45      | 8m 45s       | 0.0358887         | 0.189442              |             |"
      ]
     },
     "metadata": {},
     "output_type": "display_data"
    },
    {
     "data": {
      "text/html": [
       "<pre>| 46      | 8m 56s       | 0.0358634         | 0.189375              |             |</pre>"
      ],
      "text/plain": [
       "| 46      | 8m 56s       | 0.0358634         | 0.189375              |             |"
      ]
     },
     "metadata": {},
     "output_type": "display_data"
    },
    {
     "data": {
      "text/html": [
       "<pre>| 47      | 9m 8s        | 0.0358841         | 0.18943               |             |</pre>"
      ],
      "text/plain": [
       "| 47      | 9m 8s        | 0.0358841         | 0.18943               |             |"
      ]
     },
     "metadata": {},
     "output_type": "display_data"
    },
    {
     "data": {
      "text/html": [
       "<pre>| 48      | 9m 19s       | 0.0358863         | 0.189436              |             |</pre>"
      ],
      "text/plain": [
       "| 48      | 9m 19s       | 0.0358863         | 0.189436              |             |"
      ]
     },
     "metadata": {},
     "output_type": "display_data"
    },
    {
     "data": {
      "text/html": [
       "<pre>| 49      | 9m 31s       | 0.0358851         | 0.189433              |             |</pre>"
      ],
      "text/plain": [
       "| 49      | 9m 31s       | 0.0358851         | 0.189433              |             |"
      ]
     },
     "metadata": {},
     "output_type": "display_data"
    },
    {
     "data": {
      "text/html": [
       "<pre>| 50      | 9m 42s       | 0.0358868         | 0.189437              |             |</pre>"
      ],
      "text/plain": [
       "| 50      | 9m 42s       | 0.0358868         | 0.189437              |             |"
      ]
     },
     "metadata": {},
     "output_type": "display_data"
    },
    {
     "data": {
      "text/html": [
       "<pre>+---------+--------------+-------------------+-----------------------+-------------+</pre>"
      ],
      "text/plain": [
       "+---------+--------------+-------------------+-----------------------+-------------+"
      ]
     },
     "metadata": {},
     "output_type": "display_data"
    },
    {
     "data": {
      "text/html": [
       "<pre>Optimization Complete: Convergence on objective within bounds.</pre>"
      ],
      "text/plain": [
       "Optimization Complete: Convergence on objective within bounds."
      ]
     },
     "metadata": {},
     "output_type": "display_data"
    },
    {
     "data": {
      "text/html": [
       "<pre>Computing final objective value and training RMSE.</pre>"
      ],
      "text/plain": [
       "Computing final objective value and training RMSE."
      ]
     },
     "metadata": {},
     "output_type": "display_data"
    },
    {
     "data": {
      "text/html": [
       "<pre>       Final objective value: 0.0359567</pre>"
      ],
      "text/plain": [
       "       Final objective value: 0.0359567"
      ]
     },
     "metadata": {},
     "output_type": "display_data"
    },
    {
     "data": {
      "text/html": [
       "<pre>       Final training RMSE: 0.189621</pre>"
      ],
      "text/plain": [
       "       Final training RMSE: 0.189621"
      ]
     },
     "metadata": {},
     "output_type": "display_data"
    },
    {
     "name": "stdout",
     "output_type": "stream",
     "text": [
      "Wall time: 14min 22s\n",
      "Training RMSE 0.189621495987\n",
      "Validation RMSE 0.19030777841\n"
     ]
    }
   ],
   "source": [
    "# Warning, this could take some time to run!!!!\n",
    "#   14 minutes and 22 seconds\n",
    "# Train a matrix factorization model with default parameters\n",
    "%time model = graphlab.recommender.factorization_recommender.create(train, user_id=\"FlightNum\", item_id=\"Dest\", target=\"is_delayed\", side_data_factorization=False)\n",
    "\n",
    "# check out the results of training and validation\n",
    "print 'Training RMSE', model.get('training_rmse')\n",
    "print 'Validation RMSE', graphlab.evaluation.rmse(test['is_delayed'], model.predict(test))"
   ]
  },
  {
   "cell_type": "markdown",
   "metadata": {},
   "source": [
    "# Let's remove the potential bootlenecks which could cause delays"
   ]
  },
  {
   "cell_type": "markdown",
   "metadata": {},
   "source": [
    "<div style=\"color:red\">\n",
    "<h3><b>Discuss why these are bottlenecks </b></h3>\n",
    "</div>\n",
    "\n",
    "\n",
    "## NOTE:  \n",
    "### We executed the Boosted decision trees model two times, (1) by not removing the potential bottlenecks from the train and test data set before executing the Boosted decision tree model, and (2) removing the potential bottlenecksf from the train and test data set and executing the Boosted decision tree model.   Here we consider these factors to be bottlenecks because may cause a delay to the flight.  We executed the tests w/o removing the potential bottlenecks so we could later compare.\n",
    "\n",
    "Potential bottlenecks\n",
    "- AirTime,\n",
    "- ArrDelay\n",
    "- DepDelay\n",
    "- ArrTime"
   ]
  },
  {
   "cell_type": "markdown",
   "metadata": {},
   "source": [
    "## Non Linear regression: Boosted decision trees\n",
    "\n",
    "## Execute the Boosted Trees Regression Model with the Train and Test Data Set Not Modified"
   ]
  },
  {
   "cell_type": "markdown",
   "metadata": {},
   "source": [
    "## Do exercise without removing the columns from the train and test data\n",
    "\n",
    "\n",
    "It took almost 5 hours to complete the boosted trees regression model.    \n",
    "\n",
    "Below are the results of the model.\n",
    "\n",
    "- Training RMSE 9.18903822367e-07\n",
    "- Validation RMSE 9.18951323831e-07\n",
    "\n",
    "\n",
    "# Reference:   \n",
    "\n",
    "-  https://turi.com/products/create/docs/generated/graphlab.boosted_trees_regression.BoostedTreesRegression.html?highlight=boosted_trees_regression\n",
    "- avesbiodiv.mncn.csic.es/estadistica/bt1.pdf"
   ]
  },
  {
   "cell_type": "code",
   "execution_count": 26,
   "metadata": {},
   "outputs": [
    {
     "name": "stdout",
     "output_type": "stream",
     "text": [
      "PROGRESS: Creating a validation set from 5 percent of training data. This may take a while.\n",
      "          You can set ``validation_set=None`` to disable validation tracking.\n",
      "\n"
     ]
    },
    {
     "data": {
      "text/html": [
       "<pre>WARNING: Detected extremely low variance for feature(s) 'Cancelled', 'Diverted' because all entries are nearly the same.\n",
       "Proceeding with model training using all features. If the model does not provide results of adequate quality, exclude the above mentioned feature(s) from the input dataset.</pre>"
      ],
      "text/plain": [
       "WARNING: Detected extremely low variance for feature(s) 'Cancelled', 'Diverted' because all entries are nearly the same.\n",
       "Proceeding with model training using all features. If the model does not provide results of adequate quality, exclude the above mentioned feature(s) from the input dataset."
      ]
     },
     "metadata": {},
     "output_type": "display_data"
    },
    {
     "data": {
      "text/html": [
       "<pre>External memory mode: 12 batches</pre>"
      ],
      "text/plain": [
       "External memory mode: 12 batches"
      ]
     },
     "metadata": {},
     "output_type": "display_data"
    },
    {
     "data": {
      "text/html": [
       "<pre>Boosted trees regression:</pre>"
      ],
      "text/plain": [
       "Boosted trees regression:"
      ]
     },
     "metadata": {},
     "output_type": "display_data"
    },
    {
     "data": {
      "text/html": [
       "<pre>--------------------------------------------------------</pre>"
      ],
      "text/plain": [
       "--------------------------------------------------------"
      ]
     },
     "metadata": {},
     "output_type": "display_data"
    },
    {
     "data": {
      "text/html": [
       "<pre>Number of examples          : 25489731</pre>"
      ],
      "text/plain": [
       "Number of examples          : 25489731"
      ]
     },
     "metadata": {},
     "output_type": "display_data"
    },
    {
     "data": {
      "text/html": [
       "<pre>Number of features          : 29</pre>"
      ],
      "text/plain": [
       "Number of features          : 29"
      ]
     },
     "metadata": {},
     "output_type": "display_data"
    },
    {
     "data": {
      "text/html": [
       "<pre>Number of unpacked features : 29</pre>"
      ],
      "text/plain": [
       "Number of unpacked features : 29"
      ]
     },
     "metadata": {},
     "output_type": "display_data"
    },
    {
     "data": {
      "text/html": [
       "<pre>Create disk column page 1/12</pre>"
      ],
      "text/plain": [
       "Create disk column page 1/12"
      ]
     },
     "metadata": {},
     "output_type": "display_data"
    },
    {
     "data": {
      "text/html": [
       "<pre>Create disk column page 2/12</pre>"
      ],
      "text/plain": [
       "Create disk column page 2/12"
      ]
     },
     "metadata": {},
     "output_type": "display_data"
    },
    {
     "data": {
      "text/html": [
       "<pre>Create disk column page 3/12</pre>"
      ],
      "text/plain": [
       "Create disk column page 3/12"
      ]
     },
     "metadata": {},
     "output_type": "display_data"
    },
    {
     "data": {
      "text/html": [
       "<pre>Create disk column page 4/12</pre>"
      ],
      "text/plain": [
       "Create disk column page 4/12"
      ]
     },
     "metadata": {},
     "output_type": "display_data"
    },
    {
     "data": {
      "text/html": [
       "<pre>Create disk column page 5/12</pre>"
      ],
      "text/plain": [
       "Create disk column page 5/12"
      ]
     },
     "metadata": {},
     "output_type": "display_data"
    },
    {
     "data": {
      "text/html": [
       "<pre>Create disk column page 6/12</pre>"
      ],
      "text/plain": [
       "Create disk column page 6/12"
      ]
     },
     "metadata": {},
     "output_type": "display_data"
    },
    {
     "data": {
      "text/html": [
       "<pre>Create disk column page 7/12</pre>"
      ],
      "text/plain": [
       "Create disk column page 7/12"
      ]
     },
     "metadata": {},
     "output_type": "display_data"
    },
    {
     "data": {
      "text/html": [
       "<pre>Create disk column page 8/12</pre>"
      ],
      "text/plain": [
       "Create disk column page 8/12"
      ]
     },
     "metadata": {},
     "output_type": "display_data"
    },
    {
     "data": {
      "text/html": [
       "<pre>Create disk column page 9/12</pre>"
      ],
      "text/plain": [
       "Create disk column page 9/12"
      ]
     },
     "metadata": {},
     "output_type": "display_data"
    },
    {
     "data": {
      "text/html": [
       "<pre>Create disk column page 10/12</pre>"
      ],
      "text/plain": [
       "Create disk column page 10/12"
      ]
     },
     "metadata": {},
     "output_type": "display_data"
    },
    {
     "data": {
      "text/html": [
       "<pre>Create disk column page 11/12</pre>"
      ],
      "text/plain": [
       "Create disk column page 11/12"
      ]
     },
     "metadata": {},
     "output_type": "display_data"
    },
    {
     "data": {
      "text/html": [
       "<pre>Create disk column page 12/12</pre>"
      ],
      "text/plain": [
       "Create disk column page 12/12"
      ]
     },
     "metadata": {},
     "output_type": "display_data"
    },
    {
     "data": {
      "text/html": [
       "<pre>+-----------+--------------+--------------------+----------------------+---------------+-----------------+</pre>"
      ],
      "text/plain": [
       "+-----------+--------------+--------------------+----------------------+---------------+-----------------+"
      ]
     },
     "metadata": {},
     "output_type": "display_data"
    },
    {
     "data": {
      "text/html": [
       "<pre>| Iteration | Elapsed Time | Training-max_error | Validation-max_error | Training-rmse | Validation-rmse |</pre>"
      ],
      "text/plain": [
       "| Iteration | Elapsed Time | Training-max_error | Validation-max_error | Training-rmse | Validation-rmse |"
      ]
     },
     "metadata": {},
     "output_type": "display_data"
    },
    {
     "data": {
      "text/html": [
       "<pre>+-----------+--------------+--------------------+----------------------+---------------+-----------------+</pre>"
      ],
      "text/plain": [
       "+-----------+--------------+--------------------+----------------------+---------------+-----------------+"
      ]
     },
     "metadata": {},
     "output_type": "display_data"
    },
    {
     "data": {
      "text/html": [
       "<pre>| 1         | 544.172953   | 0.350001           | 0.350001             | 0.350000      | 0.350000        |</pre>"
      ],
      "text/plain": [
       "| 1         | 544.172953   | 0.350001           | 0.350001             | 0.350000      | 0.350000        |"
      ]
     },
     "metadata": {},
     "output_type": "display_data"
    },
    {
     "data": {
      "text/html": [
       "<pre>| 2         | 986.777862   | 0.245001           | 0.245001             | 0.245000      | 0.245000        |</pre>"
      ],
      "text/plain": [
       "| 2         | 986.777862   | 0.245001           | 0.245001             | 0.245000      | 0.245000        |"
      ]
     },
     "metadata": {},
     "output_type": "display_data"
    },
    {
     "data": {
      "text/html": [
       "<pre>| 3         | 1377.270101  | 0.171501           | 0.171501             | 0.171500      | 0.171500        |</pre>"
      ],
      "text/plain": [
       "| 3         | 1377.270101  | 0.171501           | 0.171501             | 0.171500      | 0.171500        |"
      ]
     },
     "metadata": {},
     "output_type": "display_data"
    },
    {
     "data": {
      "text/html": [
       "<pre>| 4         | 1841.256218  | 0.120051           | 0.120051             | 0.120050      | 0.120050        |</pre>"
      ],
      "text/plain": [
       "| 4         | 1841.256218  | 0.120051           | 0.120051             | 0.120050      | 0.120050        |"
      ]
     },
     "metadata": {},
     "output_type": "display_data"
    },
    {
     "data": {
      "text/html": [
       "<pre>| 5         | 2331.310660  | 0.084036           | 0.084036             | 0.084035      | 0.084035        |</pre>"
      ],
      "text/plain": [
       "| 5         | 2331.310660  | 0.084036           | 0.084036             | 0.084035      | 0.084035        |"
      ]
     },
     "metadata": {},
     "output_type": "display_data"
    },
    {
     "data": {
      "text/html": [
       "<pre>| 6         | 2772.949614  | 0.058825           | 0.058825             | 0.058825      | 0.058825        |</pre>"
      ],
      "text/plain": [
       "| 6         | 2772.949614  | 0.058825           | 0.058825             | 0.058825      | 0.058825        |"
      ]
     },
     "metadata": {},
     "output_type": "display_data"
    },
    {
     "data": {
      "text/html": [
       "<pre>| 7         | 3232.190999  | 0.041178           | 0.041178             | 0.041177      | 0.041177        |</pre>"
      ],
      "text/plain": [
       "| 7         | 3232.190999  | 0.041178           | 0.041178             | 0.041177      | 0.041177        |"
      ]
     },
     "metadata": {},
     "output_type": "display_data"
    },
    {
     "data": {
      "text/html": [
       "<pre>| 8         | 3815.548178  | 0.028825           | 0.028825             | 0.028824      | 0.028824        |</pre>"
      ],
      "text/plain": [
       "| 8         | 3815.548178  | 0.028825           | 0.028825             | 0.028824      | 0.028824        |"
      ]
     },
     "metadata": {},
     "output_type": "display_data"
    },
    {
     "data": {
      "text/html": [
       "<pre>| 9         | 4233.998061  | 0.020177           | 0.020177             | 0.020177      | 0.020177        |</pre>"
      ],
      "text/plain": [
       "| 9         | 4233.998061  | 0.020177           | 0.020177             | 0.020177      | 0.020177        |"
      ]
     },
     "metadata": {},
     "output_type": "display_data"
    },
    {
     "data": {
      "text/html": [
       "<pre>| 10        | 4622.289908  | 0.014124           | 0.014124             | 0.014124      | 0.014124        |</pre>"
      ],
      "text/plain": [
       "| 10        | 4622.289908  | 0.014124           | 0.014124             | 0.014124      | 0.014124        |"
      ]
     },
     "metadata": {},
     "output_type": "display_data"
    },
    {
     "data": {
      "text/html": [
       "<pre>| 11        | 5007.753095  | 0.009887           | 0.009887             | 0.009887      | 0.009887        |</pre>"
      ],
      "text/plain": [
       "| 11        | 5007.753095  | 0.009887           | 0.009887             | 0.009887      | 0.009887        |"
      ]
     },
     "metadata": {},
     "output_type": "display_data"
    },
    {
     "data": {
      "text/html": [
       "<pre>| 12        | 5309.271228  | 0.006921           | 0.006921             | 0.006921      | 0.006921        |</pre>"
      ],
      "text/plain": [
       "| 12        | 5309.271228  | 0.006921           | 0.006921             | 0.006921      | 0.006921        |"
      ]
     },
     "metadata": {},
     "output_type": "display_data"
    },
    {
     "data": {
      "text/html": [
       "<pre>| 13        | 5586.894787  | 0.004845           | 0.004845             | 0.004844      | 0.004844        |</pre>"
      ],
      "text/plain": [
       "| 13        | 5586.894787  | 0.004845           | 0.004845             | 0.004844      | 0.004844        |"
      ]
     },
     "metadata": {},
     "output_type": "display_data"
    },
    {
     "data": {
      "text/html": [
       "<pre>| 14        | 5855.022762  | 0.003391           | 0.003391             | 0.003391      | 0.003391        |</pre>"
      ],
      "text/plain": [
       "| 14        | 5855.022762  | 0.003391           | 0.003391             | 0.003391      | 0.003391        |"
      ]
     },
     "metadata": {},
     "output_type": "display_data"
    },
    {
     "data": {
      "text/html": [
       "<pre>| 15        | 6116.579651  | 0.002374           | 0.002374             | 0.002374      | 0.002374        |</pre>"
      ],
      "text/plain": [
       "| 15        | 6116.579651  | 0.002374           | 0.002374             | 0.002374      | 0.002374        |"
      ]
     },
     "metadata": {},
     "output_type": "display_data"
    },
    {
     "data": {
      "text/html": [
       "<pre>| 16        | 6494.468240  | 0.001662           | 0.001662             | 0.001662      | 0.001662        |</pre>"
      ],
      "text/plain": [
       "| 16        | 6494.468240  | 0.001662           | 0.001662             | 0.001662      | 0.001662        |"
      ]
     },
     "metadata": {},
     "output_type": "display_data"
    },
    {
     "data": {
      "text/html": [
       "<pre>| 17        | 6807.629953  | 0.001163           | 0.001163             | 0.001163      | 0.001163        |</pre>"
      ],
      "text/plain": [
       "| 17        | 6807.629953  | 0.001163           | 0.001163             | 0.001163      | 0.001163        |"
      ]
     },
     "metadata": {},
     "output_type": "display_data"
    },
    {
     "data": {
      "text/html": [
       "<pre>| 18        | 7266.165769  | 0.000814           | 0.000814             | 0.000814      | 0.000814        |</pre>"
      ],
      "text/plain": [
       "| 18        | 7266.165769  | 0.000814           | 0.000814             | 0.000814      | 0.000814        |"
      ]
     },
     "metadata": {},
     "output_type": "display_data"
    },
    {
     "data": {
      "text/html": [
       "<pre>| 19        | 7617.719212  | 0.000570           | 0.000570             | 0.000570      | 0.000570        |</pre>"
      ],
      "text/plain": [
       "| 19        | 7617.719212  | 0.000570           | 0.000570             | 0.000570      | 0.000570        |"
      ]
     },
     "metadata": {},
     "output_type": "display_data"
    },
    {
     "data": {
      "text/html": [
       "<pre>| 20        | 8027.684189  | 0.000399           | 0.000399             | 0.000399      | 0.000399        |</pre>"
      ],
      "text/plain": [
       "| 20        | 8027.684189  | 0.000399           | 0.000399             | 0.000399      | 0.000399        |"
      ]
     },
     "metadata": {},
     "output_type": "display_data"
    },
    {
     "data": {
      "text/html": [
       "<pre>| 21        | 8475.542272  | 0.000279           | 0.000279             | 0.000279      | 0.000279        |</pre>"
      ],
      "text/plain": [
       "| 21        | 8475.542272  | 0.000279           | 0.000279             | 0.000279      | 0.000279        |"
      ]
     },
     "metadata": {},
     "output_type": "display_data"
    },
    {
     "data": {
      "text/html": [
       "<pre>| 22        | 8892.554001  | 0.000196           | 0.000196             | 0.000196      | 0.000196        |</pre>"
      ],
      "text/plain": [
       "| 22        | 8892.554001  | 0.000196           | 0.000196             | 0.000196      | 0.000196        |"
      ]
     },
     "metadata": {},
     "output_type": "display_data"
    },
    {
     "data": {
      "text/html": [
       "<pre>| 23        | 9282.747907  | 0.000137           | 0.000137             | 0.000137      | 0.000137        |</pre>"
      ],
      "text/plain": [
       "| 23        | 9282.747907  | 0.000137           | 0.000137             | 0.000137      | 0.000137        |"
      ]
     },
     "metadata": {},
     "output_type": "display_data"
    },
    {
     "data": {
      "text/html": [
       "<pre>| 24        | 9675.306787  | 0.000096           | 0.000096             | 0.000096      | 0.000096        |</pre>"
      ],
      "text/plain": [
       "| 24        | 9675.306787  | 0.000096           | 0.000096             | 0.000096      | 0.000096        |"
      ]
     },
     "metadata": {},
     "output_type": "display_data"
    },
    {
     "data": {
      "text/html": [
       "<pre>| 25        | 10091.975444 | 0.000067           | 0.000067             | 0.000067      | 0.000067        |</pre>"
      ],
      "text/plain": [
       "| 25        | 10091.975444 | 0.000067           | 0.000067             | 0.000067      | 0.000067        |"
      ]
     },
     "metadata": {},
     "output_type": "display_data"
    },
    {
     "data": {
      "text/html": [
       "<pre>| 26        | 10452.627785 | 0.000047           | 0.000047             | 0.000047      | 0.000047        |</pre>"
      ],
      "text/plain": [
       "| 26        | 10452.627785 | 0.000047           | 0.000047             | 0.000047      | 0.000047        |"
      ]
     },
     "metadata": {},
     "output_type": "display_data"
    },
    {
     "data": {
      "text/html": [
       "<pre>| 27        | 10759.924601 | 0.000033           | 0.000033             | 0.000033      | 0.000033        |</pre>"
      ],
      "text/plain": [
       "| 27        | 10759.924601 | 0.000033           | 0.000033             | 0.000033      | 0.000033        |"
      ]
     },
     "metadata": {},
     "output_type": "display_data"
    },
    {
     "data": {
      "text/html": [
       "<pre>| 28        | 11088.635176 | 0.000023           | 0.000023             | 0.000023      | 0.000023        |</pre>"
      ],
      "text/plain": [
       "| 28        | 11088.635176 | 0.000023           | 0.000023             | 0.000023      | 0.000023        |"
      ]
     },
     "metadata": {},
     "output_type": "display_data"
    },
    {
     "data": {
      "text/html": [
       "<pre>| 29        | 11421.944914 | 0.000016           | 0.000016             | 0.000016      | 0.000016        |</pre>"
      ],
      "text/plain": [
       "| 29        | 11421.944914 | 0.000016           | 0.000016             | 0.000016      | 0.000016        |"
      ]
     },
     "metadata": {},
     "output_type": "display_data"
    },
    {
     "data": {
      "text/html": [
       "<pre>| 30        | 11744.317014 | 0.000011           | 0.000011             | 0.000011      | 0.000011        |</pre>"
      ],
      "text/plain": [
       "| 30        | 11744.317014 | 0.000011           | 0.000011             | 0.000011      | 0.000011        |"
      ]
     },
     "metadata": {},
     "output_type": "display_data"
    },
    {
     "data": {
      "text/html": [
       "<pre>| 31        | 12129.293390 | 0.000008           | 0.000008             | 0.000008      | 0.000008        |</pre>"
      ],
      "text/plain": [
       "| 31        | 12129.293390 | 0.000008           | 0.000008             | 0.000008      | 0.000008        |"
      ]
     },
     "metadata": {},
     "output_type": "display_data"
    },
    {
     "data": {
      "text/html": [
       "<pre>| 32        | 12489.329008 | 0.000006           | 0.000006             | 0.000006      | 0.000006        |</pre>"
      ],
      "text/plain": [
       "| 32        | 12489.329008 | 0.000006           | 0.000006             | 0.000006      | 0.000006        |"
      ]
     },
     "metadata": {},
     "output_type": "display_data"
    },
    {
     "data": {
      "text/html": [
       "<pre>| 33        | 12870.649793 | 0.000004           | 0.000004             | 0.000004      | 0.000004        |</pre>"
      ],
      "text/plain": [
       "| 33        | 12870.649793 | 0.000004           | 0.000004             | 0.000004      | 0.000004        |"
      ]
     },
     "metadata": {},
     "output_type": "display_data"
    },
    {
     "data": {
      "text/html": [
       "<pre>| 34        | 13275.267517 | 0.000005           | 0.000005             | 0.000003      | 0.000003        |</pre>"
      ],
      "text/plain": [
       "| 34        | 13275.267517 | 0.000005           | 0.000005             | 0.000003      | 0.000003        |"
      ]
     },
     "metadata": {},
     "output_type": "display_data"
    },
    {
     "data": {
      "text/html": [
       "<pre>| 35        | 13654.838998 | 0.000006           | 0.000006             | 0.000002      | 0.000002        |</pre>"
      ],
      "text/plain": [
       "| 35        | 13654.838998 | 0.000006           | 0.000006             | 0.000002      | 0.000002        |"
      ]
     },
     "metadata": {},
     "output_type": "display_data"
    },
    {
     "data": {
      "text/html": [
       "<pre>| 36        | 13912.103811 | 0.000006           | 0.000006             | 0.000002      | 0.000002        |</pre>"
      ],
      "text/plain": [
       "| 36        | 13912.103811 | 0.000006           | 0.000006             | 0.000002      | 0.000002        |"
      ]
     },
     "metadata": {},
     "output_type": "display_data"
    },
    {
     "data": {
      "text/html": [
       "<pre>| 37        | 14158.881629 | 0.000006           | 0.000006             | 0.000001      | 0.000001        |</pre>"
      ],
      "text/plain": [
       "| 37        | 14158.881629 | 0.000006           | 0.000006             | 0.000001      | 0.000001        |"
      ]
     },
     "metadata": {},
     "output_type": "display_data"
    },
    {
     "data": {
      "text/html": [
       "<pre>| 38        | 14410.378715 | 0.000006           | 0.000006             | 0.000001      | 0.000001        |</pre>"
      ],
      "text/plain": [
       "| 38        | 14410.378715 | 0.000006           | 0.000006             | 0.000001      | 0.000001        |"
      ]
     },
     "metadata": {},
     "output_type": "display_data"
    },
    {
     "data": {
      "text/html": [
       "<pre>| 39        | 14601.335130 | 0.000006           | 0.000006             | 0.000001      | 0.000001        |</pre>"
      ],
      "text/plain": [
       "| 39        | 14601.335130 | 0.000006           | 0.000006             | 0.000001      | 0.000001        |"
      ]
     },
     "metadata": {},
     "output_type": "display_data"
    },
    {
     "data": {
      "text/html": [
       "<pre>| 40        | 14797.067488 | 0.000006           | 0.000006             | 0.000001      | 0.000001        |</pre>"
      ],
      "text/plain": [
       "| 40        | 14797.067488 | 0.000006           | 0.000006             | 0.000001      | 0.000001        |"
      ]
     },
     "metadata": {},
     "output_type": "display_data"
    },
    {
     "data": {
      "text/html": [
       "<pre>| 41        | 14986.274159 | 0.000006           | 0.000006             | 0.000001      | 0.000001        |</pre>"
      ],
      "text/plain": [
       "| 41        | 14986.274159 | 0.000006           | 0.000006             | 0.000001      | 0.000001        |"
      ]
     },
     "metadata": {},
     "output_type": "display_data"
    },
    {
     "data": {
      "text/html": [
       "<pre>| 42        | 15175.587148 | 0.000006           | 0.000006             | 0.000001      | 0.000001        |</pre>"
      ],
      "text/plain": [
       "| 42        | 15175.587148 | 0.000006           | 0.000006             | 0.000001      | 0.000001        |"
      ]
     },
     "metadata": {},
     "output_type": "display_data"
    },
    {
     "data": {
      "text/html": [
       "<pre>| 43        | 15361.648129 | 0.000006           | 0.000006             | 0.000001      | 0.000001        |</pre>"
      ],
      "text/plain": [
       "| 43        | 15361.648129 | 0.000006           | 0.000006             | 0.000001      | 0.000001        |"
      ]
     },
     "metadata": {},
     "output_type": "display_data"
    },
    {
     "data": {
      "text/html": [
       "<pre>| 44        | 15547.434043 | 0.000006           | 0.000006             | 0.000001      | 0.000001        |</pre>"
      ],
      "text/plain": [
       "| 44        | 15547.434043 | 0.000006           | 0.000006             | 0.000001      | 0.000001        |"
      ]
     },
     "metadata": {},
     "output_type": "display_data"
    },
    {
     "data": {
      "text/html": [
       "<pre>| 45        | 15732.160416 | 0.000006           | 0.000006             | 0.000001      | 0.000001        |</pre>"
      ],
      "text/plain": [
       "| 45        | 15732.160416 | 0.000006           | 0.000006             | 0.000001      | 0.000001        |"
      ]
     },
     "metadata": {},
     "output_type": "display_data"
    },
    {
     "data": {
      "text/html": [
       "<pre>| 46        | 15919.659856 | 0.000006           | 0.000006             | 0.000001      | 0.000001        |</pre>"
      ],
      "text/plain": [
       "| 46        | 15919.659856 | 0.000006           | 0.000006             | 0.000001      | 0.000001        |"
      ]
     },
     "metadata": {},
     "output_type": "display_data"
    },
    {
     "data": {
      "text/html": [
       "<pre>| 47        | 16109.476085 | 0.000006           | 0.000006             | 0.000001      | 0.000001        |</pre>"
      ],
      "text/plain": [
       "| 47        | 16109.476085 | 0.000006           | 0.000006             | 0.000001      | 0.000001        |"
      ]
     },
     "metadata": {},
     "output_type": "display_data"
    },
    {
     "data": {
      "text/html": [
       "<pre>| 48        | 16297.549888 | 0.000006           | 0.000006             | 0.000001      | 0.000001        |</pre>"
      ],
      "text/plain": [
       "| 48        | 16297.549888 | 0.000006           | 0.000006             | 0.000001      | 0.000001        |"
      ]
     },
     "metadata": {},
     "output_type": "display_data"
    },
    {
     "data": {
      "text/html": [
       "<pre>| 49        | 16485.971184 | 0.000006           | 0.000006             | 0.000001      | 0.000001        |</pre>"
      ],
      "text/plain": [
       "| 49        | 16485.971184 | 0.000006           | 0.000006             | 0.000001      | 0.000001        |"
      ]
     },
     "metadata": {},
     "output_type": "display_data"
    },
    {
     "data": {
      "text/html": [
       "<pre>| 50        | 16668.092470 | 0.000006           | 0.000006             | 0.000001      | 0.000001        |</pre>"
      ],
      "text/plain": [
       "| 50        | 16668.092470 | 0.000006           | 0.000006             | 0.000001      | 0.000001        |"
      ]
     },
     "metadata": {},
     "output_type": "display_data"
    },
    {
     "data": {
      "text/html": [
       "<pre>+-----------+--------------+--------------------+----------------------+---------------+-----------------+</pre>"
      ],
      "text/plain": [
       "+-----------+--------------+--------------------+----------------------+---------------+-----------------+"
      ]
     },
     "metadata": {},
     "output_type": "display_data"
    },
    {
     "name": "stdout",
     "output_type": "stream",
     "text": [
      "Wall time: 4h 45min 17s\n",
      "Training RMSE 9.18903822367e-07\n",
      "Validation RMSE 9.18951323831e-07\n"
     ]
    }
   ],
   "source": [
    "# This could take some time to run  ==> It took me 4 hours, 45 minutes and 49 seconds to \n",
    "# execute this section of code on a Windows 10 64 Bit HP Envy.\n",
    "#\n",
    "# DO YOU REALLY WANT TO RE-EXECUTE THIS CODE\n",
    "#\n",
    "# Train a matrix factorization model with default parameters\n",
    "%time model = graphlab.boosted_trees_regression.create(train, target=\"is_delayed\", max_iterations=50)\n",
    "\n",
    "# check out the results of training and validation\n",
    "print 'Training RMSE', model.get('training_rmse')\n",
    "print 'Validation RMSE', graphlab.evaluation.rmse(test['is_delayed'], model.predict(test))"
   ]
  },
  {
   "cell_type": "markdown",
   "metadata": {},
   "source": [
    "## Feature Importance Analysis\n",
    "\n",
    "The important features are dominated by DepDelay and WeatherDelay."
   ]
  },
  {
   "cell_type": "code",
   "execution_count": 28,
   "metadata": {},
   "outputs": [
    {
     "name": "stdout",
     "output_type": "stream",
     "text": [
      "+--------------+-------+-------+\n",
      "|     name     | index | count |\n",
      "+--------------+-------+-------+\n",
      "|   DepDelay   |  None |  104  |\n",
      "| WeatherDelay |   3   |   0   |\n",
      "| WeatherDelay |   56  |   0   |\n",
      "| WeatherDelay |  102  |   0   |\n",
      "| WeatherDelay |   88  |   0   |\n",
      "| WeatherDelay |   39  |   0   |\n",
      "| WeatherDelay |   9   |   0   |\n",
      "| WeatherDelay |   61  |   0   |\n",
      "| WeatherDelay |  181  |   0   |\n",
      "| WeatherDelay |   2   |   0   |\n",
      "+--------------+-------+-------+\n",
      "[7544 rows x 3 columns]\n",
      "Note: Only the head of the SFrame is printed.\n",
      "You can use print_rows(num_rows=m, num_columns=n) to print more rows and columns.\n"
     ]
    }
   ],
   "source": [
    "print model.get_feature_importance()"
   ]
  },
  {
   "cell_type": "markdown",
   "metadata": {
    "collapsed": true
   },
   "source": [
    "## Let's remove the potential bootlenecks which could cause delays"
   ]
  },
  {
   "cell_type": "code",
   "execution_count": 24,
   "metadata": {},
   "outputs": [
    {
     "data": {
      "text/html": [
       "<div style=\"max-height:1000px;max-width:1500px;overflow:auto;\"><table frame=\"box\" rules=\"cols\">\n",
       "    <tr>\n",
       "        <th style=\"padding-left: 1em; padding-right: 1em; text-align: center\">Year</th>\n",
       "        <th style=\"padding-left: 1em; padding-right: 1em; text-align: center\">Month</th>\n",
       "        <th style=\"padding-left: 1em; padding-right: 1em; text-align: center\">DayofMonth</th>\n",
       "        <th style=\"padding-left: 1em; padding-right: 1em; text-align: center\">DayOfWeek</th>\n",
       "        <th style=\"padding-left: 1em; padding-right: 1em; text-align: center\">DepTime</th>\n",
       "        <th style=\"padding-left: 1em; padding-right: 1em; text-align: center\">CRSDepTime</th>\n",
       "        <th style=\"padding-left: 1em; padding-right: 1em; text-align: center\">CRSArrTime</th>\n",
       "        <th style=\"padding-left: 1em; padding-right: 1em; text-align: center\">UniqueCarrier</th>\n",
       "        <th style=\"padding-left: 1em; padding-right: 1em; text-align: center\">FlightNum</th>\n",
       "        <th style=\"padding-left: 1em; padding-right: 1em; text-align: center\">TailNum</th>\n",
       "        <th style=\"padding-left: 1em; padding-right: 1em; text-align: center\">ActualElapsedTime</th>\n",
       "    </tr>\n",
       "    <tr>\n",
       "        <td style=\"padding-left: 1em; padding-right: 1em; text-align: center; vertical-align: top\">2003</td>\n",
       "        <td style=\"padding-left: 1em; padding-right: 1em; text-align: center; vertical-align: top\">6</td>\n",
       "        <td style=\"padding-left: 1em; padding-right: 1em; text-align: center; vertical-align: top\">29</td>\n",
       "        <td style=\"padding-left: 1em; padding-right: 1em; text-align: center; vertical-align: top\">7</td>\n",
       "        <td style=\"padding-left: 1em; padding-right: 1em; text-align: center; vertical-align: top\">1756</td>\n",
       "        <td style=\"padding-left: 1em; padding-right: 1em; text-align: center; vertical-align: top\">1725</td>\n",
       "        <td style=\"padding-left: 1em; padding-right: 1em; text-align: center; vertical-align: top\">1838</td>\n",
       "        <td style=\"padding-left: 1em; padding-right: 1em; text-align: center; vertical-align: top\">28</td>\n",
       "        <td style=\"padding-left: 1em; padding-right: 1em; text-align: center; vertical-align: top\">781</td>\n",
       "        <td style=\"padding-left: 1em; padding-right: 1em; text-align: center; vertical-align: top\">13444</td>\n",
       "        <td style=\"padding-left: 1em; padding-right: 1em; text-align: center; vertical-align: top\">128</td>\n",
       "    </tr>\n",
       "    <tr>\n",
       "        <td style=\"padding-left: 1em; padding-right: 1em; text-align: center; vertical-align: top\">2003</td>\n",
       "        <td style=\"padding-left: 1em; padding-right: 1em; text-align: center; vertical-align: top\">6</td>\n",
       "        <td style=\"padding-left: 1em; padding-right: 1em; text-align: center; vertical-align: top\">1</td>\n",
       "        <td style=\"padding-left: 1em; padding-right: 1em; text-align: center; vertical-align: top\">7</td>\n",
       "        <td style=\"padding-left: 1em; padding-right: 1em; text-align: center; vertical-align: top\">736</td>\n",
       "        <td style=\"padding-left: 1em; padding-right: 1em; text-align: center; vertical-align: top\">740</td>\n",
       "        <td style=\"padding-left: 1em; padding-right: 1em; text-align: center; vertical-align: top\">1001</td>\n",
       "        <td style=\"padding-left: 1em; padding-right: 1em; text-align: center; vertical-align: top\">28</td>\n",
       "        <td style=\"padding-left: 1em; padding-right: 1em; text-align: center; vertical-align: top\">782</td>\n",
       "        <td style=\"padding-left: 1em; padding-right: 1em; text-align: center; vertical-align: top\">259</td>\n",
       "        <td style=\"padding-left: 1em; padding-right: 1em; text-align: center; vertical-align: top\">148</td>\n",
       "    </tr>\n",
       "    <tr>\n",
       "        <td style=\"padding-left: 1em; padding-right: 1em; text-align: center; vertical-align: top\">2003</td>\n",
       "        <td style=\"padding-left: 1em; padding-right: 1em; text-align: center; vertical-align: top\">6</td>\n",
       "        <td style=\"padding-left: 1em; padding-right: 1em; text-align: center; vertical-align: top\">2</td>\n",
       "        <td style=\"padding-left: 1em; padding-right: 1em; text-align: center; vertical-align: top\">1</td>\n",
       "        <td style=\"padding-left: 1em; padding-right: 1em; text-align: center; vertical-align: top\">736</td>\n",
       "        <td style=\"padding-left: 1em; padding-right: 1em; text-align: center; vertical-align: top\">740</td>\n",
       "        <td style=\"padding-left: 1em; padding-right: 1em; text-align: center; vertical-align: top\">1001</td>\n",
       "        <td style=\"padding-left: 1em; padding-right: 1em; text-align: center; vertical-align: top\">28</td>\n",
       "        <td style=\"padding-left: 1em; padding-right: 1em; text-align: center; vertical-align: top\">782</td>\n",
       "        <td style=\"padding-left: 1em; padding-right: 1em; text-align: center; vertical-align: top\">7997</td>\n",
       "        <td style=\"padding-left: 1em; padding-right: 1em; text-align: center; vertical-align: top\">159</td>\n",
       "    </tr>\n",
       "    <tr>\n",
       "        <td style=\"padding-left: 1em; padding-right: 1em; text-align: center; vertical-align: top\">2003</td>\n",
       "        <td style=\"padding-left: 1em; padding-right: 1em; text-align: center; vertical-align: top\">6</td>\n",
       "        <td style=\"padding-left: 1em; padding-right: 1em; text-align: center; vertical-align: top\">5</td>\n",
       "        <td style=\"padding-left: 1em; padding-right: 1em; text-align: center; vertical-align: top\">4</td>\n",
       "        <td style=\"padding-left: 1em; padding-right: 1em; text-align: center; vertical-align: top\">734</td>\n",
       "        <td style=\"padding-left: 1em; padding-right: 1em; text-align: center; vertical-align: top\">740</td>\n",
       "        <td style=\"padding-left: 1em; padding-right: 1em; text-align: center; vertical-align: top\">1001</td>\n",
       "        <td style=\"padding-left: 1em; padding-right: 1em; text-align: center; vertical-align: top\">28</td>\n",
       "        <td style=\"padding-left: 1em; padding-right: 1em; text-align: center; vertical-align: top\">782</td>\n",
       "        <td style=\"padding-left: 1em; padding-right: 1em; text-align: center; vertical-align: top\">10881</td>\n",
       "        <td style=\"padding-left: 1em; padding-right: 1em; text-align: center; vertical-align: top\">134</td>\n",
       "    </tr>\n",
       "    <tr>\n",
       "        <td style=\"padding-left: 1em; padding-right: 1em; text-align: center; vertical-align: top\">2003</td>\n",
       "        <td style=\"padding-left: 1em; padding-right: 1em; text-align: center; vertical-align: top\">6</td>\n",
       "        <td style=\"padding-left: 1em; padding-right: 1em; text-align: center; vertical-align: top\">7</td>\n",
       "        <td style=\"padding-left: 1em; padding-right: 1em; text-align: center; vertical-align: top\">6</td>\n",
       "        <td style=\"padding-left: 1em; padding-right: 1em; text-align: center; vertical-align: top\">730</td>\n",
       "        <td style=\"padding-left: 1em; padding-right: 1em; text-align: center; vertical-align: top\">740</td>\n",
       "        <td style=\"padding-left: 1em; padding-right: 1em; text-align: center; vertical-align: top\">1001</td>\n",
       "        <td style=\"padding-left: 1em; padding-right: 1em; text-align: center; vertical-align: top\">28</td>\n",
       "        <td style=\"padding-left: 1em; padding-right: 1em; text-align: center; vertical-align: top\">782</td>\n",
       "        <td style=\"padding-left: 1em; padding-right: 1em; text-align: center; vertical-align: top\">7295</td>\n",
       "        <td style=\"padding-left: 1em; padding-right: 1em; text-align: center; vertical-align: top\">130</td>\n",
       "    </tr>\n",
       "    <tr>\n",
       "        <td style=\"padding-left: 1em; padding-right: 1em; text-align: center; vertical-align: top\">2003</td>\n",
       "        <td style=\"padding-left: 1em; padding-right: 1em; text-align: center; vertical-align: top\">6</td>\n",
       "        <td style=\"padding-left: 1em; padding-right: 1em; text-align: center; vertical-align: top\">9</td>\n",
       "        <td style=\"padding-left: 1em; padding-right: 1em; text-align: center; vertical-align: top\">1</td>\n",
       "        <td style=\"padding-left: 1em; padding-right: 1em; text-align: center; vertical-align: top\">737</td>\n",
       "        <td style=\"padding-left: 1em; padding-right: 1em; text-align: center; vertical-align: top\">740</td>\n",
       "        <td style=\"padding-left: 1em; padding-right: 1em; text-align: center; vertical-align: top\">1001</td>\n",
       "        <td style=\"padding-left: 1em; padding-right: 1em; text-align: center; vertical-align: top\">28</td>\n",
       "        <td style=\"padding-left: 1em; padding-right: 1em; text-align: center; vertical-align: top\">782</td>\n",
       "        <td style=\"padding-left: 1em; padding-right: 1em; text-align: center; vertical-align: top\">435</td>\n",
       "        <td style=\"padding-left: 1em; padding-right: 1em; text-align: center; vertical-align: top\">132</td>\n",
       "    </tr>\n",
       "    <tr>\n",
       "        <td style=\"padding-left: 1em; padding-right: 1em; text-align: center; vertical-align: top\">2003</td>\n",
       "        <td style=\"padding-left: 1em; padding-right: 1em; text-align: center; vertical-align: top\">6</td>\n",
       "        <td style=\"padding-left: 1em; padding-right: 1em; text-align: center; vertical-align: top\">11</td>\n",
       "        <td style=\"padding-left: 1em; padding-right: 1em; text-align: center; vertical-align: top\">3</td>\n",
       "        <td style=\"padding-left: 1em; padding-right: 1em; text-align: center; vertical-align: top\">736</td>\n",
       "        <td style=\"padding-left: 1em; padding-right: 1em; text-align: center; vertical-align: top\">740</td>\n",
       "        <td style=\"padding-left: 1em; padding-right: 1em; text-align: center; vertical-align: top\">1001</td>\n",
       "        <td style=\"padding-left: 1em; padding-right: 1em; text-align: center; vertical-align: top\">28</td>\n",
       "        <td style=\"padding-left: 1em; padding-right: 1em; text-align: center; vertical-align: top\">782</td>\n",
       "        <td style=\"padding-left: 1em; padding-right: 1em; text-align: center; vertical-align: top\">12555</td>\n",
       "        <td style=\"padding-left: 1em; padding-right: 1em; text-align: center; vertical-align: top\">140</td>\n",
       "    </tr>\n",
       "    <tr>\n",
       "        <td style=\"padding-left: 1em; padding-right: 1em; text-align: center; vertical-align: top\">2003</td>\n",
       "        <td style=\"padding-left: 1em; padding-right: 1em; text-align: center; vertical-align: top\">6</td>\n",
       "        <td style=\"padding-left: 1em; padding-right: 1em; text-align: center; vertical-align: top\">4</td>\n",
       "        <td style=\"padding-left: 1em; padding-right: 1em; text-align: center; vertical-align: top\">3</td>\n",
       "        <td style=\"padding-left: 1em; padding-right: 1em; text-align: center; vertical-align: top\">1054</td>\n",
       "        <td style=\"padding-left: 1em; padding-right: 1em; text-align: center; vertical-align: top\">1100</td>\n",
       "        <td style=\"padding-left: 1em; padding-right: 1em; text-align: center; vertical-align: top\">1346</td>\n",
       "        <td style=\"padding-left: 1em; padding-right: 1em; text-align: center; vertical-align: top\">28</td>\n",
       "        <td style=\"padding-left: 1em; padding-right: 1em; text-align: center; vertical-align: top\">782</td>\n",
       "        <td style=\"padding-left: 1em; padding-right: 1em; text-align: center; vertical-align: top\">10986</td>\n",
       "        <td style=\"padding-left: 1em; padding-right: 1em; text-align: center; vertical-align: top\">97</td>\n",
       "    </tr>\n",
       "    <tr>\n",
       "        <td style=\"padding-left: 1em; padding-right: 1em; text-align: center; vertical-align: top\">2003</td>\n",
       "        <td style=\"padding-left: 1em; padding-right: 1em; text-align: center; vertical-align: top\">6</td>\n",
       "        <td style=\"padding-left: 1em; padding-right: 1em; text-align: center; vertical-align: top\">13</td>\n",
       "        <td style=\"padding-left: 1em; padding-right: 1em; text-align: center; vertical-align: top\">5</td>\n",
       "        <td style=\"padding-left: 1em; padding-right: 1em; text-align: center; vertical-align: top\">1056</td>\n",
       "        <td style=\"padding-left: 1em; padding-right: 1em; text-align: center; vertical-align: top\">1055</td>\n",
       "        <td style=\"padding-left: 1em; padding-right: 1em; text-align: center; vertical-align: top\">1343</td>\n",
       "        <td style=\"padding-left: 1em; padding-right: 1em; text-align: center; vertical-align: top\">28</td>\n",
       "        <td style=\"padding-left: 1em; padding-right: 1em; text-align: center; vertical-align: top\">782</td>\n",
       "        <td style=\"padding-left: 1em; padding-right: 1em; text-align: center; vertical-align: top\">10192</td>\n",
       "        <td style=\"padding-left: 1em; padding-right: 1em; text-align: center; vertical-align: top\">131</td>\n",
       "    </tr>\n",
       "    <tr>\n",
       "        <td style=\"padding-left: 1em; padding-right: 1em; text-align: center; vertical-align: top\">2003</td>\n",
       "        <td style=\"padding-left: 1em; padding-right: 1em; text-align: center; vertical-align: top\">6</td>\n",
       "        <td style=\"padding-left: 1em; padding-right: 1em; text-align: center; vertical-align: top\">17</td>\n",
       "        <td style=\"padding-left: 1em; padding-right: 1em; text-align: center; vertical-align: top\">2</td>\n",
       "        <td style=\"padding-left: 1em; padding-right: 1em; text-align: center; vertical-align: top\">1052</td>\n",
       "        <td style=\"padding-left: 1em; padding-right: 1em; text-align: center; vertical-align: top\">1055</td>\n",
       "        <td style=\"padding-left: 1em; padding-right: 1em; text-align: center; vertical-align: top\">1343</td>\n",
       "        <td style=\"padding-left: 1em; padding-right: 1em; text-align: center; vertical-align: top\">28</td>\n",
       "        <td style=\"padding-left: 1em; padding-right: 1em; text-align: center; vertical-align: top\">782</td>\n",
       "        <td style=\"padding-left: 1em; padding-right: 1em; text-align: center; vertical-align: top\">4464</td>\n",
       "        <td style=\"padding-left: 1em; padding-right: 1em; text-align: center; vertical-align: top\">122</td>\n",
       "    </tr>\n",
       "</table>\n",
       "<table frame=\"box\" rules=\"cols\">\n",
       "    <tr>\n",
       "        <th style=\"padding-left: 1em; padding-right: 1em; text-align: center\">CRSElapsedTime</th>\n",
       "        <th style=\"padding-left: 1em; padding-right: 1em; text-align: center\">Origin</th>\n",
       "        <th style=\"padding-left: 1em; padding-right: 1em; text-align: center\">Dest</th>\n",
       "        <th style=\"padding-left: 1em; padding-right: 1em; text-align: center\">Distance</th>\n",
       "        <th style=\"padding-left: 1em; padding-right: 1em; text-align: center\">TaxiIn</th>\n",
       "        <th style=\"padding-left: 1em; padding-right: 1em; text-align: center\">TaxiOut</th>\n",
       "        <th style=\"padding-left: 1em; padding-right: 1em; text-align: center\">Cancelled</th>\n",
       "        <th style=\"padding-left: 1em; padding-right: 1em; text-align: center\">CancellationCode</th>\n",
       "        <th style=\"padding-left: 1em; padding-right: 1em; text-align: center\">Diverted</th>\n",
       "        <th style=\"padding-left: 1em; padding-right: 1em; text-align: center\">CarrierDelay</th>\n",
       "    </tr>\n",
       "    <tr>\n",
       "        <td style=\"padding-left: 1em; padding-right: 1em; text-align: center; vertical-align: top\">133</td>\n",
       "        <td style=\"padding-left: 1em; padding-right: 1em; text-align: center; vertical-align: top\">207</td>\n",
       "        <td style=\"padding-left: 1em; padding-right: 1em; text-align: center; vertical-align: top\">33</td>\n",
       "        <td style=\"padding-left: 1em; padding-right: 1em; text-align: center; vertical-align: top\">862</td>\n",
       "        <td style=\"padding-left: 1em; padding-right: 1em; text-align: center; vertical-align: top\">8</td>\n",
       "        <td style=\"padding-left: 1em; padding-right: 1em; text-align: center; vertical-align: top\">17</td>\n",
       "        <td style=\"padding-left: 1em; padding-right: 1em; text-align: center; vertical-align: top\">0</td>\n",
       "        <td style=\"padding-left: 1em; padding-right: 1em; text-align: center; vertical-align: top\">4</td>\n",
       "        <td style=\"padding-left: 1em; padding-right: 1em; text-align: center; vertical-align: top\">0</td>\n",
       "        <td style=\"padding-left: 1em; padding-right: 1em; text-align: center; vertical-align: top\">0</td>\n",
       "    </tr>\n",
       "    <tr>\n",
       "        <td style=\"padding-left: 1em; padding-right: 1em; text-align: center; vertical-align: top\">141</td>\n",
       "        <td style=\"padding-left: 1em; padding-right: 1em; text-align: center; vertical-align: top\">20</td>\n",
       "        <td style=\"padding-left: 1em; padding-right: 1em; text-align: center; vertical-align: top\">114</td>\n",
       "        <td style=\"padding-left: 1em; padding-right: 1em; text-align: center; vertical-align: top\">925</td>\n",
       "        <td style=\"padding-left: 1em; padding-right: 1em; text-align: center; vertical-align: top\">7</td>\n",
       "        <td style=\"padding-left: 1em; padding-right: 1em; text-align: center; vertical-align: top\">15</td>\n",
       "        <td style=\"padding-left: 1em; padding-right: 1em; text-align: center; vertical-align: top\">0</td>\n",
       "        <td style=\"padding-left: 1em; padding-right: 1em; text-align: center; vertical-align: top\">4</td>\n",
       "        <td style=\"padding-left: 1em; padding-right: 1em; text-align: center; vertical-align: top\">0</td>\n",
       "        <td style=\"padding-left: 1em; padding-right: 1em; text-align: center; vertical-align: top\">0</td>\n",
       "    </tr>\n",
       "    <tr>\n",
       "        <td style=\"padding-left: 1em; padding-right: 1em; text-align: center; vertical-align: top\">141</td>\n",
       "        <td style=\"padding-left: 1em; padding-right: 1em; text-align: center; vertical-align: top\">20</td>\n",
       "        <td style=\"padding-left: 1em; padding-right: 1em; text-align: center; vertical-align: top\">114</td>\n",
       "        <td style=\"padding-left: 1em; padding-right: 1em; text-align: center; vertical-align: top\">925</td>\n",
       "        <td style=\"padding-left: 1em; padding-right: 1em; text-align: center; vertical-align: top\">9</td>\n",
       "        <td style=\"padding-left: 1em; padding-right: 1em; text-align: center; vertical-align: top\">17</td>\n",
       "        <td style=\"padding-left: 1em; padding-right: 1em; text-align: center; vertical-align: top\">0</td>\n",
       "        <td style=\"padding-left: 1em; padding-right: 1em; text-align: center; vertical-align: top\">4</td>\n",
       "        <td style=\"padding-left: 1em; padding-right: 1em; text-align: center; vertical-align: top\">0</td>\n",
       "        <td style=\"padding-left: 1em; padding-right: 1em; text-align: center; vertical-align: top\">0</td>\n",
       "    </tr>\n",
       "    <tr>\n",
       "        <td style=\"padding-left: 1em; padding-right: 1em; text-align: center; vertical-align: top\">141</td>\n",
       "        <td style=\"padding-left: 1em; padding-right: 1em; text-align: center; vertical-align: top\">20</td>\n",
       "        <td style=\"padding-left: 1em; padding-right: 1em; text-align: center; vertical-align: top\">114</td>\n",
       "        <td style=\"padding-left: 1em; padding-right: 1em; text-align: center; vertical-align: top\">925</td>\n",
       "        <td style=\"padding-left: 1em; padding-right: 1em; text-align: center; vertical-align: top\">4</td>\n",
       "        <td style=\"padding-left: 1em; padding-right: 1em; text-align: center; vertical-align: top\">15</td>\n",
       "        <td style=\"padding-left: 1em; padding-right: 1em; text-align: center; vertical-align: top\">0</td>\n",
       "        <td style=\"padding-left: 1em; padding-right: 1em; text-align: center; vertical-align: top\">4</td>\n",
       "        <td style=\"padding-left: 1em; padding-right: 1em; text-align: center; vertical-align: top\">0</td>\n",
       "        <td style=\"padding-left: 1em; padding-right: 1em; text-align: center; vertical-align: top\">0</td>\n",
       "    </tr>\n",
       "    <tr>\n",
       "        <td style=\"padding-left: 1em; padding-right: 1em; text-align: center; vertical-align: top\">141</td>\n",
       "        <td style=\"padding-left: 1em; padding-right: 1em; text-align: center; vertical-align: top\">20</td>\n",
       "        <td style=\"padding-left: 1em; padding-right: 1em; text-align: center; vertical-align: top\">114</td>\n",
       "        <td style=\"padding-left: 1em; padding-right: 1em; text-align: center; vertical-align: top\">925</td>\n",
       "        <td style=\"padding-left: 1em; padding-right: 1em; text-align: center; vertical-align: top\">6</td>\n",
       "        <td style=\"padding-left: 1em; padding-right: 1em; text-align: center; vertical-align: top\">11</td>\n",
       "        <td style=\"padding-left: 1em; padding-right: 1em; text-align: center; vertical-align: top\">0</td>\n",
       "        <td style=\"padding-left: 1em; padding-right: 1em; text-align: center; vertical-align: top\">4</td>\n",
       "        <td style=\"padding-left: 1em; padding-right: 1em; text-align: center; vertical-align: top\">0</td>\n",
       "        <td style=\"padding-left: 1em; padding-right: 1em; text-align: center; vertical-align: top\">0</td>\n",
       "    </tr>\n",
       "    <tr>\n",
       "        <td style=\"padding-left: 1em; padding-right: 1em; text-align: center; vertical-align: top\">141</td>\n",
       "        <td style=\"padding-left: 1em; padding-right: 1em; text-align: center; vertical-align: top\">20</td>\n",
       "        <td style=\"padding-left: 1em; padding-right: 1em; text-align: center; vertical-align: top\">114</td>\n",
       "        <td style=\"padding-left: 1em; padding-right: 1em; text-align: center; vertical-align: top\">925</td>\n",
       "        <td style=\"padding-left: 1em; padding-right: 1em; text-align: center; vertical-align: top\">4</td>\n",
       "        <td style=\"padding-left: 1em; padding-right: 1em; text-align: center; vertical-align: top\">9</td>\n",
       "        <td style=\"padding-left: 1em; padding-right: 1em; text-align: center; vertical-align: top\">0</td>\n",
       "        <td style=\"padding-left: 1em; padding-right: 1em; text-align: center; vertical-align: top\">4</td>\n",
       "        <td style=\"padding-left: 1em; padding-right: 1em; text-align: center; vertical-align: top\">0</td>\n",
       "        <td style=\"padding-left: 1em; padding-right: 1em; text-align: center; vertical-align: top\">0</td>\n",
       "    </tr>\n",
       "    <tr>\n",
       "        <td style=\"padding-left: 1em; padding-right: 1em; text-align: center; vertical-align: top\">141</td>\n",
       "        <td style=\"padding-left: 1em; padding-right: 1em; text-align: center; vertical-align: top\">20</td>\n",
       "        <td style=\"padding-left: 1em; padding-right: 1em; text-align: center; vertical-align: top\">114</td>\n",
       "        <td style=\"padding-left: 1em; padding-right: 1em; text-align: center; vertical-align: top\">925</td>\n",
       "        <td style=\"padding-left: 1em; padding-right: 1em; text-align: center; vertical-align: top\">7</td>\n",
       "        <td style=\"padding-left: 1em; padding-right: 1em; text-align: center; vertical-align: top\">12</td>\n",
       "        <td style=\"padding-left: 1em; padding-right: 1em; text-align: center; vertical-align: top\">0</td>\n",
       "        <td style=\"padding-left: 1em; padding-right: 1em; text-align: center; vertical-align: top\">4</td>\n",
       "        <td style=\"padding-left: 1em; padding-right: 1em; text-align: center; vertical-align: top\">0</td>\n",
       "        <td style=\"padding-left: 1em; padding-right: 1em; text-align: center; vertical-align: top\">0</td>\n",
       "    </tr>\n",
       "    <tr>\n",
       "        <td style=\"padding-left: 1em; padding-right: 1em; text-align: center; vertical-align: top\">106</td>\n",
       "        <td style=\"padding-left: 1em; padding-right: 1em; text-align: center; vertical-align: top\">112</td>\n",
       "        <td style=\"padding-left: 1em; padding-right: 1em; text-align: center; vertical-align: top\">15</td>\n",
       "        <td style=\"padding-left: 1em; padding-right: 1em; text-align: center; vertical-align: top\">622</td>\n",
       "        <td style=\"padding-left: 1em; padding-right: 1em; text-align: center; vertical-align: top\">3</td>\n",
       "        <td style=\"padding-left: 1em; padding-right: 1em; text-align: center; vertical-align: top\">12</td>\n",
       "        <td style=\"padding-left: 1em; padding-right: 1em; text-align: center; vertical-align: top\">0</td>\n",
       "        <td style=\"padding-left: 1em; padding-right: 1em; text-align: center; vertical-align: top\">4</td>\n",
       "        <td style=\"padding-left: 1em; padding-right: 1em; text-align: center; vertical-align: top\">0</td>\n",
       "        <td style=\"padding-left: 1em; padding-right: 1em; text-align: center; vertical-align: top\">0</td>\n",
       "    </tr>\n",
       "    <tr>\n",
       "        <td style=\"padding-left: 1em; padding-right: 1em; text-align: center; vertical-align: top\">108</td>\n",
       "        <td style=\"padding-left: 1em; padding-right: 1em; text-align: center; vertical-align: top\">112</td>\n",
       "        <td style=\"padding-left: 1em; padding-right: 1em; text-align: center; vertical-align: top\">15</td>\n",
       "        <td style=\"padding-left: 1em; padding-right: 1em; text-align: center; vertical-align: top\">622</td>\n",
       "        <td style=\"padding-left: 1em; padding-right: 1em; text-align: center; vertical-align: top\">3</td>\n",
       "        <td style=\"padding-left: 1em; padding-right: 1em; text-align: center; vertical-align: top\">42</td>\n",
       "        <td style=\"padding-left: 1em; padding-right: 1em; text-align: center; vertical-align: top\">0</td>\n",
       "        <td style=\"padding-left: 1em; padding-right: 1em; text-align: center; vertical-align: top\">4</td>\n",
       "        <td style=\"padding-left: 1em; padding-right: 1em; text-align: center; vertical-align: top\">0</td>\n",
       "        <td style=\"padding-left: 1em; padding-right: 1em; text-align: center; vertical-align: top\">0</td>\n",
       "    </tr>\n",
       "    <tr>\n",
       "        <td style=\"padding-left: 1em; padding-right: 1em; text-align: center; vertical-align: top\">108</td>\n",
       "        <td style=\"padding-left: 1em; padding-right: 1em; text-align: center; vertical-align: top\">112</td>\n",
       "        <td style=\"padding-left: 1em; padding-right: 1em; text-align: center; vertical-align: top\">15</td>\n",
       "        <td style=\"padding-left: 1em; padding-right: 1em; text-align: center; vertical-align: top\">622</td>\n",
       "        <td style=\"padding-left: 1em; padding-right: 1em; text-align: center; vertical-align: top\">4</td>\n",
       "        <td style=\"padding-left: 1em; padding-right: 1em; text-align: center; vertical-align: top\">27</td>\n",
       "        <td style=\"padding-left: 1em; padding-right: 1em; text-align: center; vertical-align: top\">0</td>\n",
       "        <td style=\"padding-left: 1em; padding-right: 1em; text-align: center; vertical-align: top\">4</td>\n",
       "        <td style=\"padding-left: 1em; padding-right: 1em; text-align: center; vertical-align: top\">0</td>\n",
       "        <td style=\"padding-left: 1em; padding-right: 1em; text-align: center; vertical-align: top\">0</td>\n",
       "    </tr>\n",
       "</table>\n",
       "<table frame=\"box\" rules=\"cols\">\n",
       "    <tr>\n",
       "        <th style=\"padding-left: 1em; padding-right: 1em; text-align: center\">WeatherDelay</th>\n",
       "        <th style=\"padding-left: 1em; padding-right: 1em; text-align: center\">NASDelay</th>\n",
       "        <th style=\"padding-left: 1em; padding-right: 1em; text-align: center\">SecurityDelay</th>\n",
       "        <th style=\"padding-left: 1em; padding-right: 1em; text-align: center\">LateAircraftDelay</th>\n",
       "        <th style=\"padding-left: 1em; padding-right: 1em; text-align: center\">is_delayed</th>\n",
       "    </tr>\n",
       "    <tr>\n",
       "        <td style=\"padding-left: 1em; padding-right: 1em; text-align: center; vertical-align: top\">26</td>\n",
       "        <td style=\"padding-left: 1em; padding-right: 1em; text-align: center; vertical-align: top\">0</td>\n",
       "        <td style=\"padding-left: 1em; padding-right: 1em; text-align: center; vertical-align: top\">0</td>\n",
       "        <td style=\"padding-left: 1em; padding-right: 1em; text-align: center; vertical-align: top\">0</td>\n",
       "        <td style=\"padding-left: 1em; padding-right: 1em; text-align: center; vertical-align: top\">1</td>\n",
       "    </tr>\n",
       "    <tr>\n",
       "        <td style=\"padding-left: 1em; padding-right: 1em; text-align: center; vertical-align: top\">0</td>\n",
       "        <td style=\"padding-left: 1em; padding-right: 1em; text-align: center; vertical-align: top\">0</td>\n",
       "        <td style=\"padding-left: 1em; padding-right: 1em; text-align: center; vertical-align: top\">0</td>\n",
       "        <td style=\"padding-left: 1em; padding-right: 1em; text-align: center; vertical-align: top\">0</td>\n",
       "        <td style=\"padding-left: 1em; padding-right: 1em; text-align: center; vertical-align: top\">0</td>\n",
       "    </tr>\n",
       "    <tr>\n",
       "        <td style=\"padding-left: 1em; padding-right: 1em; text-align: center; vertical-align: top\">0</td>\n",
       "        <td style=\"padding-left: 1em; padding-right: 1em; text-align: center; vertical-align: top\">0</td>\n",
       "        <td style=\"padding-left: 1em; padding-right: 1em; text-align: center; vertical-align: top\">0</td>\n",
       "        <td style=\"padding-left: 1em; padding-right: 1em; text-align: center; vertical-align: top\">0</td>\n",
       "        <td style=\"padding-left: 1em; padding-right: 1em; text-align: center; vertical-align: top\">0</td>\n",
       "    </tr>\n",
       "    <tr>\n",
       "        <td style=\"padding-left: 1em; padding-right: 1em; text-align: center; vertical-align: top\">0</td>\n",
       "        <td style=\"padding-left: 1em; padding-right: 1em; text-align: center; vertical-align: top\">0</td>\n",
       "        <td style=\"padding-left: 1em; padding-right: 1em; text-align: center; vertical-align: top\">0</td>\n",
       "        <td style=\"padding-left: 1em; padding-right: 1em; text-align: center; vertical-align: top\">0</td>\n",
       "        <td style=\"padding-left: 1em; padding-right: 1em; text-align: center; vertical-align: top\">0</td>\n",
       "    </tr>\n",
       "    <tr>\n",
       "        <td style=\"padding-left: 1em; padding-right: 1em; text-align: center; vertical-align: top\">0</td>\n",
       "        <td style=\"padding-left: 1em; padding-right: 1em; text-align: center; vertical-align: top\">0</td>\n",
       "        <td style=\"padding-left: 1em; padding-right: 1em; text-align: center; vertical-align: top\">0</td>\n",
       "        <td style=\"padding-left: 1em; padding-right: 1em; text-align: center; vertical-align: top\">0</td>\n",
       "        <td style=\"padding-left: 1em; padding-right: 1em; text-align: center; vertical-align: top\">0</td>\n",
       "    </tr>\n",
       "    <tr>\n",
       "        <td style=\"padding-left: 1em; padding-right: 1em; text-align: center; vertical-align: top\">0</td>\n",
       "        <td style=\"padding-left: 1em; padding-right: 1em; text-align: center; vertical-align: top\">0</td>\n",
       "        <td style=\"padding-left: 1em; padding-right: 1em; text-align: center; vertical-align: top\">0</td>\n",
       "        <td style=\"padding-left: 1em; padding-right: 1em; text-align: center; vertical-align: top\">0</td>\n",
       "        <td style=\"padding-left: 1em; padding-right: 1em; text-align: center; vertical-align: top\">0</td>\n",
       "    </tr>\n",
       "    <tr>\n",
       "        <td style=\"padding-left: 1em; padding-right: 1em; text-align: center; vertical-align: top\">0</td>\n",
       "        <td style=\"padding-left: 1em; padding-right: 1em; text-align: center; vertical-align: top\">0</td>\n",
       "        <td style=\"padding-left: 1em; padding-right: 1em; text-align: center; vertical-align: top\">0</td>\n",
       "        <td style=\"padding-left: 1em; padding-right: 1em; text-align: center; vertical-align: top\">0</td>\n",
       "        <td style=\"padding-left: 1em; padding-right: 1em; text-align: center; vertical-align: top\">0</td>\n",
       "    </tr>\n",
       "    <tr>\n",
       "        <td style=\"padding-left: 1em; padding-right: 1em; text-align: center; vertical-align: top\">0</td>\n",
       "        <td style=\"padding-left: 1em; padding-right: 1em; text-align: center; vertical-align: top\">0</td>\n",
       "        <td style=\"padding-left: 1em; padding-right: 1em; text-align: center; vertical-align: top\">0</td>\n",
       "        <td style=\"padding-left: 1em; padding-right: 1em; text-align: center; vertical-align: top\">0</td>\n",
       "        <td style=\"padding-left: 1em; padding-right: 1em; text-align: center; vertical-align: top\">0</td>\n",
       "    </tr>\n",
       "    <tr>\n",
       "        <td style=\"padding-left: 1em; padding-right: 1em; text-align: center; vertical-align: top\">0</td>\n",
       "        <td style=\"padding-left: 1em; padding-right: 1em; text-align: center; vertical-align: top\">23</td>\n",
       "        <td style=\"padding-left: 1em; padding-right: 1em; text-align: center; vertical-align: top\">0</td>\n",
       "        <td style=\"padding-left: 1em; padding-right: 1em; text-align: center; vertical-align: top\">1</td>\n",
       "        <td style=\"padding-left: 1em; padding-right: 1em; text-align: center; vertical-align: top\">1</td>\n",
       "    </tr>\n",
       "    <tr>\n",
       "        <td style=\"padding-left: 1em; padding-right: 1em; text-align: center; vertical-align: top\">0</td>\n",
       "        <td style=\"padding-left: 1em; padding-right: 1em; text-align: center; vertical-align: top\">0</td>\n",
       "        <td style=\"padding-left: 1em; padding-right: 1em; text-align: center; vertical-align: top\">0</td>\n",
       "        <td style=\"padding-left: 1em; padding-right: 1em; text-align: center; vertical-align: top\">0</td>\n",
       "        <td style=\"padding-left: 1em; padding-right: 1em; text-align: center; vertical-align: top\">0</td>\n",
       "    </tr>\n",
       "</table>\n",
       "[? rows x 26 columns]<br/>Note: Only the head of the SFrame is printed. This SFrame is lazily evaluated.<br/>You can use sf.materialize() to force materialization.\n",
       "</div>"
      ],
      "text/plain": [
       "Columns:\n",
       "\tYear\tint\n",
       "\tMonth\tint\n",
       "\tDayofMonth\tint\n",
       "\tDayOfWeek\tint\n",
       "\tDepTime\tint\n",
       "\tCRSDepTime\tint\n",
       "\tCRSArrTime\tint\n",
       "\tUniqueCarrier\tint\n",
       "\tFlightNum\tint\n",
       "\tTailNum\tint\n",
       "\tActualElapsedTime\tint\n",
       "\tCRSElapsedTime\tint\n",
       "\tOrigin\tint\n",
       "\tDest\tint\n",
       "\tDistance\tint\n",
       "\tTaxiIn\tstr\n",
       "\tTaxiOut\tstr\n",
       "\tCancelled\tint\n",
       "\tCancellationCode\tint\n",
       "\tDiverted\tint\n",
       "\tCarrierDelay\tstr\n",
       "\tWeatherDelay\tstr\n",
       "\tNASDelay\tstr\n",
       "\tSecurityDelay\tstr\n",
       "\tLateAircraftDelay\tstr\n",
       "\tis_delayed\tint\n",
       "\n",
       "Rows: Unknown\n",
       "\n",
       "Data:\n",
       "+------+-------+------------+-----------+---------+------------+------------+---------------+\n",
       "| Year | Month | DayofMonth | DayOfWeek | DepTime | CRSDepTime | CRSArrTime | UniqueCarrier |\n",
       "+------+-------+------------+-----------+---------+------------+------------+---------------+\n",
       "| 2003 |   6   |     29     |     7     |   1756  |    1725    |    1838    |       28      |\n",
       "| 2003 |   6   |     1      |     7     |   736   |    740     |    1001    |       28      |\n",
       "| 2003 |   6   |     2      |     1     |   736   |    740     |    1001    |       28      |\n",
       "| 2003 |   6   |     5      |     4     |   734   |    740     |    1001    |       28      |\n",
       "| 2003 |   6   |     7      |     6     |   730   |    740     |    1001    |       28      |\n",
       "| 2003 |   6   |     9      |     1     |   737   |    740     |    1001    |       28      |\n",
       "| 2003 |   6   |     11     |     3     |   736   |    740     |    1001    |       28      |\n",
       "| 2003 |   6   |     4      |     3     |   1054  |    1100    |    1346    |       28      |\n",
       "| 2003 |   6   |     13     |     5     |   1056  |    1055    |    1343    |       28      |\n",
       "| 2003 |   6   |     17     |     2     |   1052  |    1055    |    1343    |       28      |\n",
       "+------+-------+------------+-----------+---------+------------+------------+---------------+\n",
       "+-----------+---------+-------------------+----------------+--------+------+----------+\n",
       "| FlightNum | TailNum | ActualElapsedTime | CRSElapsedTime | Origin | Dest | Distance |\n",
       "+-----------+---------+-------------------+----------------+--------+------+----------+\n",
       "|    781    |  13444  |        128        |      133       |  207   |  33  |   862    |\n",
       "|    782    |   259   |        148        |      141       |   20   | 114  |   925    |\n",
       "|    782    |   7997  |        159        |      141       |   20   | 114  |   925    |\n",
       "|    782    |  10881  |        134        |      141       |   20   | 114  |   925    |\n",
       "|    782    |   7295  |        130        |      141       |   20   | 114  |   925    |\n",
       "|    782    |   435   |        132        |      141       |   20   | 114  |   925    |\n",
       "|    782    |  12555  |        140        |      141       |   20   | 114  |   925    |\n",
       "|    782    |  10986  |         97        |      106       |  112   |  15  |   622    |\n",
       "|    782    |  10192  |        131        |      108       |  112   |  15  |   622    |\n",
       "|    782    |   4464  |        122        |      108       |  112   |  15  |   622    |\n",
       "+-----------+---------+-------------------+----------------+--------+------+----------+\n",
       "+--------+---------+-----------+------------------+----------+-----+\n",
       "| TaxiIn | TaxiOut | Cancelled | CancellationCode | Diverted | ... |\n",
       "+--------+---------+-----------+------------------+----------+-----+\n",
       "|   8    |    17   |     0     |        4         |    0     | ... |\n",
       "|   7    |    15   |     0     |        4         |    0     | ... |\n",
       "|   9    |    17   |     0     |        4         |    0     | ... |\n",
       "|   4    |    15   |     0     |        4         |    0     | ... |\n",
       "|   6    |    11   |     0     |        4         |    0     | ... |\n",
       "|   4    |    9    |     0     |        4         |    0     | ... |\n",
       "|   7    |    12   |     0     |        4         |    0     | ... |\n",
       "|   3    |    12   |     0     |        4         |    0     | ... |\n",
       "|   3    |    42   |     0     |        4         |    0     | ... |\n",
       "|   4    |    27   |     0     |        4         |    0     | ... |\n",
       "+--------+---------+-----------+------------------+----------+-----+\n",
       "[? rows x 26 columns]\n",
       "Note: Only the head of the SFrame is printed. This SFrame is lazily evaluated.\n",
       "You can use sf.materialize() to force materialization."
      ]
     },
     "execution_count": 24,
     "metadata": {},
     "output_type": "execute_result"
    }
   ],
   "source": [
    "train.remove_columns(['AirTime','ArrDelay','DepDelay','ArrTime'])\n",
    "test.remove_columns(['AirTime','ArrDelay','DepDelay','ArrTime'])"
   ]
  },
  {
   "cell_type": "markdown",
   "metadata": {},
   "source": [
    "## Re-Execute the Boosted Trees Regression Model With the Updated Train and Test Data Set\n",
    "\n",
    "\n",
    "Now, this time execute the boosted tress regression with the bottlenecks removed.  We should compare with the execution of the boosted trees regression with ane without potential bootlenecks results.\n",
    "\n",
    "Again, this model took approximately 4 hours to complete.\n",
    "\n",
    "The results of this model is listed below:\n",
    "- Training RMSE 0.0168041735888\n",
    "- Validation RMSE 0.0171184349095"
   ]
  },
  {
   "cell_type": "markdown",
   "metadata": {},
   "source": [
    "<div style=\"color:red\">\n",
    "<h3><b>What is duplicated here? &uarr;</b></h3>\n",
    "</div>"
   ]
  },
  {
   "cell_type": "code",
   "execution_count": 25,
   "metadata": {},
   "outputs": [
    {
     "name": "stdout",
     "output_type": "stream",
     "text": [
      "PROGRESS: Creating a validation set from 5 percent of training data. This may take a while.\n",
      "          You can set ``validation_set=None`` to disable validation tracking.\n",
      "\n"
     ]
    },
    {
     "data": {
      "text/html": [
       "<pre>WARNING: Detected extremely low variance for feature(s) 'Cancelled', 'Diverted' because all entries are nearly the same.\n",
       "Proceeding with model training using all features. If the model does not provide results of adequate quality, exclude the above mentioned feature(s) from the input dataset.</pre>"
      ],
      "text/plain": [
       "WARNING: Detected extremely low variance for feature(s) 'Cancelled', 'Diverted' because all entries are nearly the same.\n",
       "Proceeding with model training using all features. If the model does not provide results of adequate quality, exclude the above mentioned feature(s) from the input dataset."
      ]
     },
     "metadata": {},
     "output_type": "display_data"
    },
    {
     "data": {
      "text/html": [
       "<pre>External memory mode: 10 batches</pre>"
      ],
      "text/plain": [
       "External memory mode: 10 batches"
      ]
     },
     "metadata": {},
     "output_type": "display_data"
    },
    {
     "data": {
      "text/html": [
       "<pre>Boosted trees regression:</pre>"
      ],
      "text/plain": [
       "Boosted trees regression:"
      ]
     },
     "metadata": {},
     "output_type": "display_data"
    },
    {
     "data": {
      "text/html": [
       "<pre>--------------------------------------------------------</pre>"
      ],
      "text/plain": [
       "--------------------------------------------------------"
      ]
     },
     "metadata": {},
     "output_type": "display_data"
    },
    {
     "data": {
      "text/html": [
       "<pre>Number of examples          : 25489826</pre>"
      ],
      "text/plain": [
       "Number of examples          : 25489826"
      ]
     },
     "metadata": {},
     "output_type": "display_data"
    },
    {
     "data": {
      "text/html": [
       "<pre>Number of features          : 25</pre>"
      ],
      "text/plain": [
       "Number of features          : 25"
      ]
     },
     "metadata": {},
     "output_type": "display_data"
    },
    {
     "data": {
      "text/html": [
       "<pre>Number of unpacked features : 25</pre>"
      ],
      "text/plain": [
       "Number of unpacked features : 25"
      ]
     },
     "metadata": {},
     "output_type": "display_data"
    },
    {
     "data": {
      "text/html": [
       "<pre>Create disk column page 1/10</pre>"
      ],
      "text/plain": [
       "Create disk column page 1/10"
      ]
     },
     "metadata": {},
     "output_type": "display_data"
    },
    {
     "data": {
      "text/html": [
       "<pre>Create disk column page 2/10</pre>"
      ],
      "text/plain": [
       "Create disk column page 2/10"
      ]
     },
     "metadata": {},
     "output_type": "display_data"
    },
    {
     "data": {
      "text/html": [
       "<pre>Create disk column page 3/10</pre>"
      ],
      "text/plain": [
       "Create disk column page 3/10"
      ]
     },
     "metadata": {},
     "output_type": "display_data"
    },
    {
     "data": {
      "text/html": [
       "<pre>Create disk column page 4/10</pre>"
      ],
      "text/plain": [
       "Create disk column page 4/10"
      ]
     },
     "metadata": {},
     "output_type": "display_data"
    },
    {
     "data": {
      "text/html": [
       "<pre>Create disk column page 5/10</pre>"
      ],
      "text/plain": [
       "Create disk column page 5/10"
      ]
     },
     "metadata": {},
     "output_type": "display_data"
    },
    {
     "data": {
      "text/html": [
       "<pre>Create disk column page 6/10</pre>"
      ],
      "text/plain": [
       "Create disk column page 6/10"
      ]
     },
     "metadata": {},
     "output_type": "display_data"
    },
    {
     "data": {
      "text/html": [
       "<pre>Create disk column page 7/10</pre>"
      ],
      "text/plain": [
       "Create disk column page 7/10"
      ]
     },
     "metadata": {},
     "output_type": "display_data"
    },
    {
     "data": {
      "text/html": [
       "<pre>Create disk column page 8/10</pre>"
      ],
      "text/plain": [
       "Create disk column page 8/10"
      ]
     },
     "metadata": {},
     "output_type": "display_data"
    },
    {
     "data": {
      "text/html": [
       "<pre>Create disk column page 9/10</pre>"
      ],
      "text/plain": [
       "Create disk column page 9/10"
      ]
     },
     "metadata": {},
     "output_type": "display_data"
    },
    {
     "data": {
      "text/html": [
       "<pre>Create disk column page 10/10</pre>"
      ],
      "text/plain": [
       "Create disk column page 10/10"
      ]
     },
     "metadata": {},
     "output_type": "display_data"
    },
    {
     "data": {
      "text/html": [
       "<pre>+-----------+--------------+--------------------+----------------------+---------------+-----------------+</pre>"
      ],
      "text/plain": [
       "+-----------+--------------+--------------------+----------------------+---------------+-----------------+"
      ]
     },
     "metadata": {},
     "output_type": "display_data"
    },
    {
     "data": {
      "text/html": [
       "<pre>| Iteration | Elapsed Time | Training-max_error | Validation-max_error | Training-rmse | Validation-rmse |</pre>"
      ],
      "text/plain": [
       "| Iteration | Elapsed Time | Training-max_error | Validation-max_error | Training-rmse | Validation-rmse |"
      ]
     },
     "metadata": {},
     "output_type": "display_data"
    },
    {
     "data": {
      "text/html": [
       "<pre>+-----------+--------------+--------------------+----------------------+---------------+-----------------+</pre>"
      ],
      "text/plain": [
       "+-----------+--------------+--------------------+----------------------+---------------+-----------------+"
      ]
     },
     "metadata": {},
     "output_type": "display_data"
    },
    {
     "data": {
      "text/html": [
       "<pre>| 1         | 504.444801   | 0.649993           | 0.649993             | 0.351911      | 0.351931        |</pre>"
      ],
      "text/plain": [
       "| 1         | 504.444801   | 0.649993           | 0.649993             | 0.351911      | 0.351931        |"
      ]
     },
     "metadata": {},
     "output_type": "display_data"
    },
    {
     "data": {
      "text/html": [
       "<pre>| 2         | 826.306614   | 0.754985           | 0.754909             | 0.248930      | 0.248983        |</pre>"
      ],
      "text/plain": [
       "| 2         | 826.306614   | 0.754985           | 0.754909             | 0.248930      | 0.248983        |"
      ]
     },
     "metadata": {},
     "output_type": "display_data"
    },
    {
     "data": {
      "text/html": [
       "<pre>| 3         | 1079.614063  | 0.828482           | 0.828046             | 0.177438      | 0.177521        |</pre>"
      ],
      "text/plain": [
       "| 3         | 1079.614063  | 0.828482           | 0.828046             | 0.177438      | 0.177521        |"
      ]
     },
     "metadata": {},
     "output_type": "display_data"
    },
    {
     "data": {
      "text/html": [
       "<pre>| 4         | 1336.321525  | 0.879930           | 0.879390             | 0.128277      | 0.128386        |</pre>"
      ],
      "text/plain": [
       "| 4         | 1336.321525  | 0.879930           | 0.879390             | 0.128277      | 0.128386        |"
      ]
     },
     "metadata": {},
     "output_type": "display_data"
    },
    {
     "data": {
      "text/html": [
       "<pre>| 5         | 1597.904056  | 0.915944           | 0.915402             | 0.095126      | 0.095333        |</pre>"
      ],
      "text/plain": [
       "| 5         | 1597.904056  | 0.915944           | 0.915402             | 0.095126      | 0.095333        |"
      ]
     },
     "metadata": {},
     "output_type": "display_data"
    },
    {
     "data": {
      "text/html": [
       "<pre>| 6         | 1868.356094  | 0.941154           | 0.938644             | 0.073032      | 0.073304        |</pre>"
      ],
      "text/plain": [
       "| 6         | 1868.356094  | 0.941154           | 0.938644             | 0.073032      | 0.073304        |"
      ]
     },
     "metadata": {},
     "output_type": "display_data"
    },
    {
     "data": {
      "text/html": [
       "<pre>| 7         | 2116.530824  | 0.958245           | 0.956427             | 0.058554      | 0.058836        |</pre>"
      ],
      "text/plain": [
       "| 7         | 2116.530824  | 0.958245           | 0.956427             | 0.058554      | 0.058836        |"
      ]
     },
     "metadata": {},
     "output_type": "display_data"
    },
    {
     "data": {
      "text/html": [
       "<pre>| 8         | 2372.995499  | 0.970613           | 0.969008             | 0.049821      | 0.050146        |</pre>"
      ],
      "text/plain": [
       "| 8         | 2372.995499  | 0.970613           | 0.969008             | 0.049821      | 0.050146        |"
      ]
     },
     "metadata": {},
     "output_type": "display_data"
    },
    {
     "data": {
      "text/html": [
       "<pre>| 9         | 2636.644824  | 0.979291           | 0.977911             | 0.044296      | 0.044614        |</pre>"
      ],
      "text/plain": [
       "| 9         | 2636.644824  | 0.979291           | 0.977911             | 0.044296      | 0.044614        |"
      ]
     },
     "metadata": {},
     "output_type": "display_data"
    },
    {
     "data": {
      "text/html": [
       "<pre>| 10        | 2923.084097  | 0.985373           | 0.984255             | 0.041085      | 0.041452        |</pre>"
      ],
      "text/plain": [
       "| 10        | 2923.084097  | 0.985373           | 0.984255             | 0.041085      | 0.041452        |"
      ]
     },
     "metadata": {},
     "output_type": "display_data"
    },
    {
     "data": {
      "text/html": [
       "<pre>| 11        | 3203.543648  | 0.989647           | 0.988767             | 0.038920      | 0.039242        |</pre>"
      ],
      "text/plain": [
       "| 11        | 3203.543648  | 0.989647           | 0.988767             | 0.038920      | 0.039242        |"
      ]
     },
     "metadata": {},
     "output_type": "display_data"
    },
    {
     "data": {
      "text/html": [
       "<pre>| 12        | 3499.806971  | 0.992679           | 0.991999             | 0.037450      | 0.037803        |</pre>"
      ],
      "text/plain": [
       "| 12        | 3499.806971  | 0.992679           | 0.991999             | 0.037450      | 0.037803        |"
      ]
     },
     "metadata": {},
     "output_type": "display_data"
    },
    {
     "data": {
      "text/html": [
       "<pre>| 13        | 3762.487883  | 0.994795           | 0.994527             | 0.035959      | 0.036332        |</pre>"
      ],
      "text/plain": [
       "| 13        | 3762.487883  | 0.994795           | 0.994527             | 0.035959      | 0.036332        |"
      ]
     },
     "metadata": {},
     "output_type": "display_data"
    },
    {
     "data": {
      "text/html": [
       "<pre>| 14        | 4028.214847  | 0.996327           | 0.996327             | 0.035055      | 0.035455        |</pre>"
      ],
      "text/plain": [
       "| 14        | 4028.214847  | 0.996327           | 0.996327             | 0.035055      | 0.035455        |"
      ]
     },
     "metadata": {},
     "output_type": "display_data"
    },
    {
     "data": {
      "text/html": [
       "<pre>| 15        | 4299.102215  | 0.997829           | 0.997379             | 0.033848      | 0.034154        |</pre>"
      ],
      "text/plain": [
       "| 15        | 4299.102215  | 0.997829           | 0.997379             | 0.033848      | 0.034154        |"
      ]
     },
     "metadata": {},
     "output_type": "display_data"
    },
    {
     "data": {
      "text/html": [
       "<pre>| 16        | 4571.943044  | 0.998497           | 0.998116             | 0.031882      | 0.031970        |</pre>"
      ],
      "text/plain": [
       "| 16        | 4571.943044  | 0.998497           | 0.998116             | 0.031882      | 0.031970        |"
      ]
     },
     "metadata": {},
     "output_type": "display_data"
    },
    {
     "data": {
      "text/html": [
       "<pre>| 17        | 4849.942645  | 1.003192           | 0.999697             | 0.030718      | 0.030915        |</pre>"
      ],
      "text/plain": [
       "| 17        | 4849.942645  | 1.003192           | 0.999697             | 0.030718      | 0.030915        |"
      ]
     },
     "metadata": {},
     "output_type": "display_data"
    },
    {
     "data": {
      "text/html": [
       "<pre>| 18        | 5118.499663  | 1.004257           | 0.999464             | 0.029650      | 0.029824        |</pre>"
      ],
      "text/plain": [
       "| 18        | 5118.499663  | 1.004257           | 0.999464             | 0.029650      | 0.029824        |"
      ]
     },
     "metadata": {},
     "output_type": "display_data"
    },
    {
     "data": {
      "text/html": [
       "<pre>| 19        | 5423.720894  | 1.004845           | 1.000406             | 0.028933      | 0.029150        |</pre>"
      ],
      "text/plain": [
       "| 19        | 5423.720894  | 1.004845           | 1.000406             | 0.028933      | 0.029150        |"
      ]
     },
     "metadata": {},
     "output_type": "display_data"
    },
    {
     "data": {
      "text/html": [
       "<pre>| 20        | 5722.825618  | 1.003375           | 1.000615             | 0.028420      | 0.028591        |</pre>"
      ],
      "text/plain": [
       "| 20        | 5722.825618  | 1.003375           | 1.000615             | 0.028420      | 0.028591        |"
      ]
     },
     "metadata": {},
     "output_type": "display_data"
    },
    {
     "data": {
      "text/html": [
       "<pre>| 21        | 6234.415576  | 1.003691           | 1.002344             | 0.027914      | 0.028094        |</pre>"
      ],
      "text/plain": [
       "| 21        | 6234.415576  | 1.003691           | 1.002344             | 0.027914      | 0.028094        |"
      ]
     },
     "metadata": {},
     "output_type": "display_data"
    },
    {
     "data": {
      "text/html": [
       "<pre>| 22        | 6659.649027  | 1.003189           | 1.002247             | 0.027199      | 0.027322        |</pre>"
      ],
      "text/plain": [
       "| 22        | 6659.649027  | 1.003189           | 1.002247             | 0.027199      | 0.027322        |"
      ]
     },
     "metadata": {},
     "output_type": "display_data"
    },
    {
     "data": {
      "text/html": [
       "<pre>| 23        | 6970.228453  | 1.069719           | 1.069719             | 0.026784      | 0.026906        |</pre>"
      ],
      "text/plain": [
       "| 23        | 6970.228453  | 1.069719           | 1.069719             | 0.026784      | 0.026906        |"
      ]
     },
     "metadata": {},
     "output_type": "display_data"
    },
    {
     "data": {
      "text/html": [
       "<pre>| 24        | 7217.278252  | 1.069765           | 1.069765             | 0.026169      | 0.026334        |</pre>"
      ],
      "text/plain": [
       "| 24        | 7217.278252  | 1.069765           | 1.069765             | 0.026169      | 0.026334        |"
      ]
     },
     "metadata": {},
     "output_type": "display_data"
    },
    {
     "data": {
      "text/html": [
       "<pre>| 25        | 7453.341542  | 1.069113           | 1.069113             | 0.025708      | 0.025827        |</pre>"
      ],
      "text/plain": [
       "| 25        | 7453.341542  | 1.069113           | 1.069113             | 0.025708      | 0.025827        |"
      ]
     },
     "metadata": {},
     "output_type": "display_data"
    },
    {
     "data": {
      "text/html": [
       "<pre>| 26        | 7733.420950  | 1.069147           | 1.069147             | 0.025428      | 0.025563        |</pre>"
      ],
      "text/plain": [
       "| 26        | 7733.420950  | 1.069147           | 1.069147             | 0.025428      | 0.025563        |"
      ]
     },
     "metadata": {},
     "output_type": "display_data"
    },
    {
     "data": {
      "text/html": [
       "<pre>| 27        | 8059.761486  | 1.068665           | 1.068665             | 0.024534      | 0.024685        |</pre>"
      ],
      "text/plain": [
       "| 27        | 8059.761486  | 1.068665           | 1.068665             | 0.024534      | 0.024685        |"
      ]
     },
     "metadata": {},
     "output_type": "display_data"
    },
    {
     "data": {
      "text/html": [
       "<pre>| 28        | 8322.390672  | 1.068686           | 1.068686             | 0.024201      | 0.024344        |</pre>"
      ],
      "text/plain": [
       "| 28        | 8322.390672  | 1.068686           | 1.068686             | 0.024201      | 0.024344        |"
      ]
     },
     "metadata": {},
     "output_type": "display_data"
    },
    {
     "data": {
      "text/html": [
       "<pre>| 29        | 8595.604041  | 1.068697           | 1.068697             | 0.023825      | 0.023971        |</pre>"
      ],
      "text/plain": [
       "| 29        | 8595.604041  | 1.068697           | 1.068697             | 0.023825      | 0.023971        |"
      ]
     },
     "metadata": {},
     "output_type": "display_data"
    },
    {
     "data": {
      "text/html": [
       "<pre>| 30        | 8862.209733  | 1.068305           | 1.068305             | 0.023421      | 0.023590        |</pre>"
      ],
      "text/plain": [
       "| 30        | 8862.209733  | 1.068305           | 1.068305             | 0.023421      | 0.023590        |"
      ]
     },
     "metadata": {},
     "output_type": "display_data"
    },
    {
     "data": {
      "text/html": [
       "<pre>| 31        | 9114.376125  | 1.091636           | 1.091636             | 0.022910      | 0.023078        |</pre>"
      ],
      "text/plain": [
       "| 31        | 9114.376125  | 1.091636           | 1.091636             | 0.022910      | 0.023078        |"
      ]
     },
     "metadata": {},
     "output_type": "display_data"
    },
    {
     "data": {
      "text/html": [
       "<pre>| 32        | 9347.355274  | 1.091628           | 1.091628             | 0.022525      | 0.022750        |</pre>"
      ],
      "text/plain": [
       "| 32        | 9347.355274  | 1.091628           | 1.091628             | 0.022525      | 0.022750        |"
      ]
     },
     "metadata": {},
     "output_type": "display_data"
    },
    {
     "data": {
      "text/html": [
       "<pre>| 33        | 9576.594561  | 1.091303           | 1.091303             | 0.022231      | 0.022456        |</pre>"
      ],
      "text/plain": [
       "| 33        | 9576.594561  | 1.091303           | 1.091303             | 0.022231      | 0.022456        |"
      ]
     },
     "metadata": {},
     "output_type": "display_data"
    },
    {
     "data": {
      "text/html": [
       "<pre>| 34        | 9808.167814  | 1.091021           | 1.091021             | 0.021923      | 0.022131        |</pre>"
      ],
      "text/plain": [
       "| 34        | 9808.167814  | 1.091021           | 1.091021             | 0.021923      | 0.022131        |"
      ]
     },
     "metadata": {},
     "output_type": "display_data"
    },
    {
     "data": {
      "text/html": [
       "<pre>| 35        | 10040.469525 | 1.128305           | 1.128305             | 0.021530      | 0.021710        |</pre>"
      ],
      "text/plain": [
       "| 35        | 10040.469525 | 1.128305           | 1.128305             | 0.021530      | 0.021710        |"
      ]
     },
     "metadata": {},
     "output_type": "display_data"
    },
    {
     "data": {
      "text/html": [
       "<pre>| 36        | 10276.741054 | 1.128320           | 1.128320             | 0.021125      | 0.021304        |</pre>"
      ],
      "text/plain": [
       "| 36        | 10276.741054 | 1.128320           | 1.128320             | 0.021125      | 0.021304        |"
      ]
     },
     "metadata": {},
     "output_type": "display_data"
    },
    {
     "data": {
      "text/html": [
       "<pre>| 37        | 10519.878347 | 1.128331           | 1.128331             | 0.020868      | 0.021033        |</pre>"
      ],
      "text/plain": [
       "| 37        | 10519.878347 | 1.128331           | 1.128331             | 0.020868      | 0.021033        |"
      ]
     },
     "metadata": {},
     "output_type": "display_data"
    },
    {
     "data": {
      "text/html": [
       "<pre>| 38        | 10768.113209 | 1.128318           | 1.128318             | 0.020408      | 0.020575        |</pre>"
      ],
      "text/plain": [
       "| 38        | 10768.113209 | 1.128318           | 1.128318             | 0.020408      | 0.020575        |"
      ]
     },
     "metadata": {},
     "output_type": "display_data"
    },
    {
     "data": {
      "text/html": [
       "<pre>| 39        | 11019.181915 | 1.128325           | 1.128325             | 0.019945      | 0.020075        |</pre>"
      ],
      "text/plain": [
       "| 39        | 11019.181915 | 1.128325           | 1.128325             | 0.019945      | 0.020075        |"
      ]
     },
     "metadata": {},
     "output_type": "display_data"
    },
    {
     "data": {
      "text/html": [
       "<pre>| 40        | 11257.239047 | 1.128303           | 1.128303             | 0.019701      | 0.019870        |</pre>"
      ],
      "text/plain": [
       "| 40        | 11257.239047 | 1.128303           | 1.128303             | 0.019701      | 0.019870        |"
      ]
     },
     "metadata": {},
     "output_type": "display_data"
    },
    {
     "data": {
      "text/html": [
       "<pre>| 41        | 11485.835796 | 1.128070           | 1.128070             | 0.019425      | 0.019617        |</pre>"
      ],
      "text/plain": [
       "| 41        | 11485.835796 | 1.128070           | 1.128070             | 0.019425      | 0.019617        |"
      ]
     },
     "metadata": {},
     "output_type": "display_data"
    },
    {
     "data": {
      "text/html": [
       "<pre>| 42        | 11712.085694 | 1.137571           | 1.137571             | 0.019186      | 0.019366        |</pre>"
      ],
      "text/plain": [
       "| 42        | 11712.085694 | 1.137571           | 1.137571             | 0.019186      | 0.019366        |"
      ]
     },
     "metadata": {},
     "output_type": "display_data"
    },
    {
     "data": {
      "text/html": [
       "<pre>| 43        | 11950.903974 | 1.137551           | 1.137551             | 0.018906      | 0.019048        |</pre>"
      ],
      "text/plain": [
       "| 43        | 11950.903974 | 1.137551           | 1.137551             | 0.018906      | 0.019048        |"
      ]
     },
     "metadata": {},
     "output_type": "display_data"
    },
    {
     "data": {
      "text/html": [
       "<pre>| 44        | 12183.803163 | 1.137540           | 1.137540             | 0.018637      | 0.018786        |</pre>"
      ],
      "text/plain": [
       "| 44        | 12183.803163 | 1.137540           | 1.137540             | 0.018637      | 0.018786        |"
      ]
     },
     "metadata": {},
     "output_type": "display_data"
    },
    {
     "data": {
      "text/html": [
       "<pre>| 45        | 12415.472726 | 1.139941           | 1.139941             | 0.018172      | 0.018265        |</pre>"
      ],
      "text/plain": [
       "| 45        | 12415.472726 | 1.139941           | 1.139941             | 0.018172      | 0.018265        |"
      ]
     },
     "metadata": {},
     "output_type": "display_data"
    },
    {
     "data": {
      "text/html": [
       "<pre>| 46        | 12647.605853 | 1.139728           | 1.139728             | 0.017911      | 0.017958        |</pre>"
      ],
      "text/plain": [
       "| 46        | 12647.605853 | 1.139728           | 1.139728             | 0.017911      | 0.017958        |"
      ]
     },
     "metadata": {},
     "output_type": "display_data"
    },
    {
     "data": {
      "text/html": [
       "<pre>| 47        | 12884.979756 | 1.139720           | 1.139720             | 0.017680      | 0.017773        |</pre>"
      ],
      "text/plain": [
       "| 47        | 12884.979756 | 1.139720           | 1.139720             | 0.017680      | 0.017773        |"
      ]
     },
     "metadata": {},
     "output_type": "display_data"
    },
    {
     "data": {
      "text/html": [
       "<pre>| 48        | 13128.759806 | 1.139724           | 1.139724             | 0.017558      | 0.017687        |</pre>"
      ],
      "text/plain": [
       "| 48        | 13128.759806 | 1.139724           | 1.139724             | 0.017558      | 0.017687        |"
      ]
     },
     "metadata": {},
     "output_type": "display_data"
    },
    {
     "data": {
      "text/html": [
       "<pre>| 49        | 13363.509183 | 1.139615           | 1.139615             | 0.017068      | 0.017104        |</pre>"
      ],
      "text/plain": [
       "| 49        | 13363.509183 | 1.139615           | 1.139615             | 0.017068      | 0.017104        |"
      ]
     },
     "metadata": {},
     "output_type": "display_data"
    },
    {
     "data": {
      "text/html": [
       "<pre>| 50        | 13584.403915 | 1.139457           | 1.139457             | 0.016804      | 0.016871        |</pre>"
      ],
      "text/plain": [
       "| 50        | 13584.403915 | 1.139457           | 1.139457             | 0.016804      | 0.016871        |"
      ]
     },
     "metadata": {},
     "output_type": "display_data"
    },
    {
     "data": {
      "text/html": [
       "<pre>+-----------+--------------+--------------------+----------------------+---------------+-----------------+</pre>"
      ],
      "text/plain": [
       "+-----------+--------------+--------------------+----------------------+---------------+-----------------+"
      ]
     },
     "metadata": {},
     "output_type": "display_data"
    },
    {
     "name": "stdout",
     "output_type": "stream",
     "text": [
      "Wall time: 3h 50min 55s\n",
      "Training RMSE 0.0168041735888\n",
      "Validation RMSE 0.0171184349095\n"
     ]
    }
   ],
   "source": [
    "# This could take some time to run  ==> It took me 3 hours, 15 minutes and 49 seconds to \n",
    "# execute this section of code on a Windows 10 64 Bit HP Envy.\n",
    "#\n",
    "# DO YOU REALLY WANT TO RE-EXECUTE THIS CODE\n",
    "#\n",
    "# Train a matrix factorization model with default parameters\n",
    "%time model = graphlab.boosted_trees_regression.create(train, target=\"is_delayed\", max_iterations=50)\n",
    "\n",
    "# check out the results of training and validation\n",
    "print 'Training RMSE', model.get('training_rmse')\n",
    "print 'Validation RMSE', graphlab.evaluation.rmse(test['is_delayed'], model.predict(test))"
   ]
  },
  {
   "cell_type": "markdown",
   "metadata": {},
   "source": [
    "# Check which one model is better\n",
    "\n",
    "## Feature Importance Analysis\n",
    "\n",
    "The important features in this model are WeatherDelay, LateAircraftDelay, NASDelay, SecurityDelay."
   ]
  },
  {
   "cell_type": "code",
   "execution_count": 26,
   "metadata": {},
   "outputs": [
    {
     "name": "stdout",
     "output_type": "stream",
     "text": [
      "+-------------------+-------+-------+\n",
      "|        name       | index | count |\n",
      "+-------------------+-------+-------+\n",
      "|    WeatherDelay   |   0   |  233  |\n",
      "| LateAircraftDelay |   0   |  156  |\n",
      "|      NASDelay     |   0   |  156  |\n",
      "|    CarrierDelay   |   0   |  138  |\n",
      "|   SecurityDelay   |   0   |   90  |\n",
      "|      NASDelay     |   5   |   64  |\n",
      "|      NASDelay     |   3   |   53  |\n",
      "|      NASDelay     |   1   |   45  |\n",
      "| LateAircraftDelay |   6   |   42  |\n",
      "| LateAircraftDelay |   10  |   41  |\n",
      "+-------------------+-------+-------+\n",
      "[5578 rows x 3 columns]\n",
      "Note: Only the head of the SFrame is printed.\n",
      "You can use print_rows(num_rows=m, num_columns=n) to print more rows and columns.\n"
     ]
    }
   ],
   "source": [
    "print model.get_feature_importance()"
   ]
  },
  {
   "cell_type": "markdown",
   "metadata": {
    "collapsed": true
   },
   "source": [
    "<div style=\"color:red\">\n",
    "<h3><b>Add conclusion here&uarr;</b></h3>\n",
    "</div>"
   ]
  },
  {
   "cell_type": "markdown",
   "metadata": {},
   "source": [
    "<div style=\"color:red\">\n",
    "<h3><b>Add References and whatnot. Let's tie everything up here</b></h3>\n",
    "</div>"
   ]
  }
 ],
 "metadata": {
  "kernelspec": {
   "display_name": "Python 2",
   "language": "python",
   "name": "python2"
  },
  "language_info": {
   "codemirror_mode": {
    "name": "ipython",
    "version": 2
   },
   "file_extension": ".py",
   "mimetype": "text/x-python",
   "name": "python",
   "nbconvert_exporter": "python",
   "pygments_lexer": "ipython2",
   "version": "2.7.13"
  }
 },
 "nbformat": 4,
 "nbformat_minor": 1
}
