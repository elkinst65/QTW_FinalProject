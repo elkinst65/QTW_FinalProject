{
 "cells": [
  {
   "cell_type": "markdown",
   "metadata": {},
   "source": [
    "# MSDS 7333 - Final Case Study: Signal Frontier Analysis Recreation in R\n",
    "\n",
    "### Investigators\n",
    "- [Matt Baldree](mailto:mbaldree@smu.edu?subject=lab2)\n",
    "- [Ben Brock](bbrock@smu.edu?subject=lab2)\n",
    "- [Tom Elkins](telkins@smu.edu?subject=lab2)\n",
    "- [Austin Kelly](ajkelly@smu.edu?subject=lab2)\n",
    "\n",
    "\n",
    "<div style='margin-left:10%;margin-right:10%;margin-top:15px;background-color:#d3d3d3;padding:5px;'>\n",
    "    <h3>Original Instructions</h3>\n",
    "    <p>Choose either the Signal Frontier Analysis application or Future Contract Rolling application.</p>\n",
    "     <p>Steps:</p>\n",
    "    <ol>\n",
    "        <li>Use different stocks than those shown in examples.</li>\n",
    "        <li>Create IPython Notebook, including code, output, and graphics.</li>\n",
    "        <li>Include an introduction in your notebook to give background on your application.</li>\n",
    "        <li>Be sure to explain calculations and output in the appropriate places.</li>\n",
    "        <li>List outside references if used.</li>\n",
    "        <li>The filename should incliude your first initial and last name and '_case study title'.</li>\n",
    "    </ol> \n",
    "    <p>Report Sections:</p>\n",
    "    <ol>\n",
    "        <li>[Introduction](#introduction) <b>(5 points)</b></li>\n",
    "        <li>[Background](#background) <b>(10 points)</b></li>\n",
    "        <li>[Methods](#methods) <b>(30 points)</b></li>\n",
    "        <li>[Results](#results) <b>(30 points)</b></li>\n",
    "        <li>[Conclusion](#conclusion) <b>(5 points)</b></li>\n",
    "        <li>[Bibliography and Citation](#biblio) <b>(5 points)</b></li>\n",
    "        <li>[Code](#code) <b>(5 points)</b></li>\n",
    "    </ol>\n",
    "     <p>Other Grading Criterium:</p>\n",
    "    <ol>\n",
    "        <li>Grammar and Organization <b>(10 points)</b></li>\n",
    "    </ol>\n",
    "    \n",
    "    <h3>Final Instructions</h3>\n",
    "    <p>2. Redo one of the other case studies. In order for this to count, you need to add something to the case study that you didn't have time/didn't know how to do previously. For example, you can use R to redo a case study if you used Python the first time, and compare the results from the two software packages. </p>\n",
    "</div>"
   ]
  },
  {
   "cell_type": "markdown",
   "metadata": {},
   "source": [
    "## A Note to the Reader\n",
    "For the final project, we decided to recreate Case Study 4 to be computed in R, rather than the inital language Python."
   ]
  },
  {
   "cell_type": "markdown",
   "metadata": {},
   "source": [
    "## Abstract\n",
    "<font size = 1>\n",
    "<div style='margin-left:0%;margin-right:0%;margin-top:10px;background-color:#d3d3d3;padding:10px;'>\n",
    "<h3>Note: The expected audience for this exercise is comprised of people who are not in the field of finance, rather, those who would be reaching out to a contractor to fill the gap.</h3>\n",
    "</div>  \n",
    "</font>\n",
    "\n",
    "### Risk and Return for a Portfolio of Risky Assets\n",
    "\n",
    "When risky assets are combined into a portfolio, the expected portfolio return is a weighted average of the assets' expected returns, where the weights are the percentages of the total portfolio value invested in each asset. When risky assets are combined into a portfolio, the expected portfolio return is a weighted average of the assets' expected returns, where the weights are the percentages of the total portfolio value invested in each asset. Industry has defined the Sharpe Ratio as a standard to measure the risk in a portfolio. This case study, the Signal Frontier Application, creates a portfolio of stocks and determines its Sharpe Ratio given a range of holding and lookback periods.\n",
    "\n",
    "The standard deviation of returns for a portfolio of risky assets depends on the standard deviations of each asset's return ({$\\sigma$}), the proportion of the portfolio in each asset, and on the covariance (or correlation) of returns between each asset pair in the portfolio.\n",
    "\n",
    "<b>In this case, we will measure the performance of the Portfolio Manager by using *Sharpe Ratio* analysis. The Sharpe Ratio of a portfolio is the excess returns per unit of total portfolio risk. Higher Sharpe ratios indicate better risk-adjusted portfolio performance [6].</b> "
   ]
  },
  {
   "cell_type": "markdown",
   "metadata": {},
   "source": [
    "<a id='introduction'></a>\n",
    "## 1 - Introduction\n",
    "<div style='margin-left:10%;margin-right:10%;margin-top:15px;background-color:#d3d3d3;padding:10px;'>\n",
    "<h3>Introduction (<b>5 points total</b>)</h3>\n",
    "</div>"
   ]
  },
  {
   "cell_type": "markdown",
   "metadata": {},
   "source": [
    "How does one measure the performance of a portfolio manager?  What does a typical investor of a financial institution's portfolio manager look like?   The three (3) basic types of investors are (1) a **risk-averse** investor, (2) a **risk-seeking** investor, and (3) a **risk-neutral** investor.   A **risk-averse** investor is one who dislikes risk (i.e., prefers less risk to more risk).  A **risk-seeking** (risk-loving) investor prefers more risk to less and, given equal expected returns, they will choose the more risky investment. Lastly, a **risk-neutral** investor has no preference regarding risk and would be indifferent between two such investments [4]. \n",
    "\n",
    "Moreover, a savvy risk-averse investor may select a very risky portfolio despite being risk averse; a savvy risk-averse investor may hold very risky assets if he/she feels that the extra return he/she expects to earn is adequate compensation for the additional risk[4]. Typical funds managed for these types of clines are shown in Table 1.1.\n",
    "\n",
    "|Investor|Risk Tolerance|Investment Horizon|Liquidity Needs|Income Needs|\n",
    "|:-----|:--------|:----------|:----------|:-----:|\n",
    "|Individual|Depends on individual|Depends on individual|Depends on individual|Depends on individual|\n",
    "|Defined Benefit Pensions|High|Long|Low|Depends on age|\n",
    "|Banks|Low|Short|High|Pay interest|\n",
    "|Endowments|High|Long|Low|Spending level|\n",
    "|Insurance|Low|Long-Life|High|Low|\n",
    "|Insurance|Low|Short-Property & Casaulty|High|Low|\n",
    "|Mutual Funds|Depends on fund|Depends on fund|High|Depends on fund|\n",
    "\n",
    "\n",
    "<a id=\"parameters\"></a>\n",
    "<p style='text-align: center;'>\n",
    "Table 1.1: Characteristics of Different Types of Investors\n",
    "</p>\n",
    "\n",
    "For this case study, our team selected the <b>Signal Frontier Analysis Application</b> for five stocks over a 16 month period, see Table 1.2. In this analysis, the Sharpe Ratio is calculated to determine the risk adjusted returns for the portfolio over a range of holdings and lookback periods. A visualization of this analysis is provided in a heatmap for better intuition. \n",
    "\n",
    "|Company|Company Symbol Value|\n",
    "|:-----|:--------|\n",
    "|Facebook, Inc.|FB|\n",
    "|Netflix, Inc. |NFLX|\n",
    "|Twitter, Inc.|TWTR|\n",
    "|Amazon.com, Inc.|AMZN| \n",
    "|NVIDIA Corporation|NVDA|   \n",
    "\n",
    "<a id=\"parameters\"></a>\n",
    "<p style='text-align: center;'>\n",
    "Table 1.2: List of Stocks in Portfolio for Risk-Seeking Client\n",
    "</p>"
   ]
  },
  {
   "cell_type": "code",
   "execution_count": 1,
   "metadata": {},
   "outputs": [
    {
     "ename": "ImportError",
     "evalue": "cannot import name 'PandasError'",
     "output_type": "error",
     "traceback": [
      "\u001b[0;31m---------------------------------------------------------------------------\u001b[0m",
      "\u001b[0;31mImportError\u001b[0m                               Traceback (most recent call last)",
      "\u001b[0;32m<ipython-input-1-659b32d97eca>\u001b[0m in \u001b[0;36m<module>\u001b[0;34m()\u001b[0m\n\u001b[1;32m      7\u001b[0m \u001b[0;32mfrom\u001b[0m \u001b[0m__future__\u001b[0m \u001b[0;32mimport\u001b[0m \u001b[0mprint_function\u001b[0m\u001b[0;34m\u001b[0m\u001b[0m\n\u001b[1;32m      8\u001b[0m \u001b[0;32mfrom\u001b[0m \u001b[0mpandas\u001b[0m \u001b[0;32mimport\u001b[0m \u001b[0mSeries\u001b[0m\u001b[0;34m,\u001b[0m \u001b[0mDataFrame\u001b[0m\u001b[0;34m\u001b[0m\u001b[0m\n\u001b[0;32m----> 9\u001b[0;31m \u001b[0;32mfrom\u001b[0m \u001b[0mpandas_datareader\u001b[0m \u001b[0;32mimport\u001b[0m \u001b[0mdata\u001b[0m\u001b[0;34m\u001b[0m\u001b[0m\n\u001b[0m\u001b[1;32m     10\u001b[0m \u001b[0;32mfrom\u001b[0m \u001b[0mnumpy\u001b[0m\u001b[0;34m.\u001b[0m\u001b[0mrandom\u001b[0m \u001b[0;32mimport\u001b[0m \u001b[0mrandn\u001b[0m\u001b[0;34m\u001b[0m\u001b[0m\n\u001b[1;32m     11\u001b[0m \u001b[0;34m\u001b[0m\u001b[0m\n",
      "\u001b[0;32m~/anaconda3/lib/python3.6/site-packages/pandas_datareader/data.py\u001b[0m in \u001b[0;36m<module>\u001b[0;34m()\u001b[0m\n\u001b[1;32m      5\u001b[0m \u001b[0;32mimport\u001b[0m \u001b[0mwarnings\u001b[0m\u001b[0;34m\u001b[0m\u001b[0m\n\u001b[1;32m      6\u001b[0m \u001b[0;34m\u001b[0m\u001b[0m\n\u001b[0;32m----> 7\u001b[0;31m \u001b[0;32mfrom\u001b[0m \u001b[0mpandas_datareader\u001b[0m\u001b[0;34m.\u001b[0m\u001b[0mgoogle\u001b[0m\u001b[0;34m.\u001b[0m\u001b[0mdaily\u001b[0m \u001b[0;32mimport\u001b[0m \u001b[0mGoogleDailyReader\u001b[0m\u001b[0;34m\u001b[0m\u001b[0m\n\u001b[0m\u001b[1;32m      8\u001b[0m \u001b[0;32mfrom\u001b[0m \u001b[0mpandas_datareader\u001b[0m\u001b[0;34m.\u001b[0m\u001b[0mgoogle\u001b[0m\u001b[0;34m.\u001b[0m\u001b[0mquotes\u001b[0m \u001b[0;32mimport\u001b[0m \u001b[0m_get_data\u001b[0m \u001b[0;32mas\u001b[0m \u001b[0mget_quote_google\u001b[0m\u001b[0;34m\u001b[0m\u001b[0m\n\u001b[1;32m      9\u001b[0m \u001b[0;34m\u001b[0m\u001b[0m\n",
      "\u001b[0;32m~/anaconda3/lib/python3.6/site-packages/pandas_datareader/google/daily.py\u001b[0m in \u001b[0;36m<module>\u001b[0;34m()\u001b[0m\n\u001b[0;32m----> 1\u001b[0;31m \u001b[0;32mfrom\u001b[0m \u001b[0mpandas_datareader\u001b[0m\u001b[0;34m.\u001b[0m\u001b[0mbase\u001b[0m \u001b[0;32mimport\u001b[0m \u001b[0m_DailyBaseReader\u001b[0m\u001b[0;34m\u001b[0m\u001b[0m\n\u001b[0m\u001b[1;32m      2\u001b[0m \u001b[0;34m\u001b[0m\u001b[0m\n\u001b[1;32m      3\u001b[0m \u001b[0;34m\u001b[0m\u001b[0m\n\u001b[1;32m      4\u001b[0m \u001b[0;32mclass\u001b[0m \u001b[0mGoogleDailyReader\u001b[0m\u001b[0;34m(\u001b[0m\u001b[0m_DailyBaseReader\u001b[0m\u001b[0;34m)\u001b[0m\u001b[0;34m:\u001b[0m\u001b[0;34m\u001b[0m\u001b[0m\n\u001b[1;32m      5\u001b[0m \u001b[0;34m\u001b[0m\u001b[0m\n",
      "\u001b[0;32m~/anaconda3/lib/python3.6/site-packages/pandas_datareader/base.py\u001b[0m in \u001b[0;36m<module>\u001b[0;34m()\u001b[0m\n\u001b[1;32m      9\u001b[0m \u001b[0;32mfrom\u001b[0m \u001b[0mpandas\u001b[0m \u001b[0;32mimport\u001b[0m \u001b[0mto_datetime\u001b[0m\u001b[0;34m\u001b[0m\u001b[0m\n\u001b[1;32m     10\u001b[0m \u001b[0;32mimport\u001b[0m \u001b[0mpandas\u001b[0m\u001b[0;34m.\u001b[0m\u001b[0mcompat\u001b[0m \u001b[0;32mas\u001b[0m \u001b[0mcompat\u001b[0m\u001b[0;34m\u001b[0m\u001b[0m\n\u001b[0;32m---> 11\u001b[0;31m \u001b[0;32mfrom\u001b[0m \u001b[0mpandas\u001b[0m\u001b[0;34m.\u001b[0m\u001b[0mcore\u001b[0m\u001b[0;34m.\u001b[0m\u001b[0mcommon\u001b[0m \u001b[0;32mimport\u001b[0m \u001b[0mPandasError\u001b[0m\u001b[0;34m,\u001b[0m \u001b[0mis_number\u001b[0m\u001b[0;34m\u001b[0m\u001b[0m\n\u001b[0m\u001b[1;32m     12\u001b[0m \u001b[0;32mfrom\u001b[0m \u001b[0mpandas\u001b[0m \u001b[0;32mimport\u001b[0m \u001b[0mPanel\u001b[0m\u001b[0;34m,\u001b[0m \u001b[0mDataFrame\u001b[0m\u001b[0;34m\u001b[0m\u001b[0m\n\u001b[1;32m     13\u001b[0m \u001b[0;32mfrom\u001b[0m \u001b[0mpandas\u001b[0m \u001b[0;32mimport\u001b[0m \u001b[0mread_csv\u001b[0m\u001b[0;34m\u001b[0m\u001b[0m\n",
      "\u001b[0;31mImportError\u001b[0m: cannot import name 'PandasError'"
     ]
    }
   ],
   "source": [
    "# Import the necessary libraries\n",
    "import pandas as pd\n",
    "import numpy as np\n",
    "import matplotlib as mpl\n",
    "import matplotlib.pyplot as plt\n",
    "from __future__ import division\n",
    "from __future__ import print_function\n",
    "from pandas import Series, DataFrame\n",
    "from pandas_datareader import data\n",
    "from numpy.random import randn\n",
    "\n",
    "pd.options.display.max_rows = 12\n",
    "np.set_printoptions(precision=4, suppress=True)\n",
    "plt.rc('figure', figsize=(12, 6))"
   ]
  },
  {
   "cell_type": "code",
   "execution_count": 2,
   "metadata": {},
   "outputs": [
    {
     "name": "stdout",
     "output_type": "stream",
     "text": [
      "pandas 19.2 and pandas-datareader 0.2.1 required.\n",
      "pandas 0.19.2\n",
      "numpy 1.11.3\n",
      "matplotlib 2.0.0\n"
     ]
    }
   ],
   "source": [
    "print('pandas 19.2 and pandas-datareader 0.2.1 required.')\n",
    "print('pandas', pd.__version__)\n",
    "print('numpy', np.__version__)\n",
    "print('matplotlib', mpl.__version__)"
   ]
  },
  {
   "cell_type": "code",
   "execution_count": 3,
   "metadata": {},
   "outputs": [
    {
     "data": {
      "text/plain": [
       "'/Users/mattbaldree/Google Drive/smu/quantifying/QTW_04/QTW_04_Financial'"
      ]
     },
     "execution_count": 3,
     "metadata": {},
     "output_type": "execute_result"
    }
   ],
   "source": [
    "%matplotlib inline\n",
    "%pwd"
   ]
  },
  {
   "cell_type": "markdown",
   "metadata": {},
   "source": [
    "<a id=\"background\"></a>\n",
    "## 2 - Background\n",
    "\n",
    "<div style='margin-left:10%;margin-right:10%;margin-top:15px;background-color:#d3d3d3;padding:10px;'>\n",
    "<h3>Background (<b>10 points total</b>)</h3>\n",
    "</div>"
   ]
  },
  {
   "cell_type": "markdown",
   "metadata": {},
   "source": [
    "\"Mean reversion is the assumption that a stock's price will tend to move to the average price over time.\" [3] This assumption is used to review a list of stocks for their cumulative returns and then compute a portfolio for a particular lookback in time along with days between trading (holding period) to determine the portfolio's Sharpe Ratio. [2] \"The Sharpe Ratio is a measure for calculating risk-adjusted return and is considered the industry standard for such calculations [4].\"  It is defined as the mean portfolio return minus risk-free rate divided by standard deviation of portfolio return; i.e.: \n",
    "\n",
    "<b>Sharpe Ratio =</b>\n",
    "\n",
    "$$\\frac{\\bar{r_p}-r_f}{\\rho_p}$$\n",
    "\n",
    "where: \n",
    "- $\\bar{r_p}$ = Expected portfolio return.\n",
    "- $r_f$ = Risk free rate\n",
    "- $\\rho_p$ = Portfolio standard deviation"
   ]
  },
  {
   "cell_type": "markdown",
   "metadata": {},
   "source": [
    "### Portfolio Management Process\n",
    "\n",
    "Our financial investment firm prides ourselves in being able to serve all types of investors with respect to their needs based on our portfolio managers initial meeting with the investor (client or customer). During this initial meeting, the portfolio manager interviews the potential investor paying close attention to the client's financial goals and personal planning. Planning begins with an analysis of the investor's risk tolerance, return objectives, time horizon, tax exposure, liquidity needs, income needs, and any unique circumstances or investor preferences [6].\n",
    "\n",
    "This analyis results in an investment policy statement (IPS) that (1) details the investor's investment objectives and constraints, (2) specifies an objective benchmark, and should be updated at least every few years as well as any time the investor's objectives or constraints change significantly [6].\n",
    "\n",
    "One of the organic features of our one-to-one client relationships is the execution step of the IPS statement. The execution step requires an analysis of the risk and return characteristics of various asset classes to determine the asset allocation. In top-down analysis, a portfolio manager examines current macroeconomic conditions to identify the asset classes that are most attractive. In bottom-up analysis, portfolio managers seek to identify individual securities that are undervalued [6].\n",
    "Finally, feedback is the final step. Over time, investor circumstances will/can change, risk and return characteristics of asset classes will/can change, and the actual weights of the assets in the portfolio will/can change with asset prices. The portfolio manager must monitor changes, rebalance the portfolio periodically, and evaluate performance relative to the benchmark portfolio identified in the investment policy statement [6]. **The goal is to keep the portfolio within the risk tolerance of the client.**\n",
    "\n",
    "This is the main advantage of our financial institution where we treat each investor as family not just another customer. Our goal is to make sure each investor meets their financial goals regardless of the macro-economic changes."
   ]
  },
  {
   "cell_type": "markdown",
   "metadata": {},
   "source": [
    "<a id=\"methods\"></a>\n",
    "## 3 - Methods\n",
    "\n",
    "<div style='margin-left:10%;margin-right:10%;margin-top:15px;background-color:#d3d3d3;padding:10px;'>\n",
    "<h3>Methods (<b>30 points total</b>)</h3>"
   ]
  },
  {
   "cell_type": "markdown",
   "metadata": {},
   "source": [
    "## Retrieve Stock Data Percent Change \n",
    "\n",
    "This is is based on the input list of Stocks and frequency.  Here, ***freq*** is the Time series variable."
   ]
  },
  {
   "cell_type": "code",
   "execution_count": 4,
   "metadata": {
    "collapsed": true
   },
   "outputs": [],
   "source": [
    "def stock_returns(panel_data, freq):    \n",
    "    '''\n",
    "    Method name: stock_returns\n",
    "    Based on the closing date of the input portfolio list and input frequency, \n",
    "    return the percent change of the stocks based on the specific stock closing\n",
    "    value and input frequency.\n",
    " \n",
    "    arguments parameters\n",
    "    panel_data:  list of stocks in the portfolio\n",
    "    freq:        Business day frequency\n",
    "\n",
    "    return value:\n",
    "    array list of pct_change for stock based on freq\n",
    "    '''\n",
    "\n",
    "    # 'B' = business, \n",
    "    # 'ffill' = propagate last valid observation forward to next valid value\n",
    "    stock_data = panel_data['Close'].asfreq(freq, method='ffill')\n",
    "\n",
    "    # returns\n",
    "    return stock_data.pct_change()"
   ]
  },
  {
   "cell_type": "code",
   "execution_count": 5,
   "metadata": {
    "collapsed": true
   },
   "outputs": [],
   "source": [
    "# parameters\n",
    "stock_names = ['FB', 'NFLX', 'TWTR', 'AMZN', 'NVDA']\n",
    "source = 'google'\n",
    "start = '1/1/2016'\n",
    "end = '5/1/2017'"
   ]
  },
  {
   "cell_type": "code",
   "execution_count": 6,
   "metadata": {
    "scrolled": true
   },
   "outputs": [
    {
     "data": {
      "text/plain": [
       "[Index(['Open', 'High', 'Low', 'Close', 'Volume'], dtype='object'),\n",
       " DatetimeIndex(['2016-01-04', '2016-01-05', '2016-01-06', '2016-01-07',\n",
       "                '2016-01-08', '2016-01-11', '2016-01-12', '2016-01-13',\n",
       "                '2016-01-14', '2016-01-15',\n",
       "                ...\n",
       "                '2017-04-18', '2017-04-19', '2017-04-20', '2017-04-21',\n",
       "                '2017-04-24', '2017-04-25', '2017-04-26', '2017-04-27',\n",
       "                '2017-04-28', '2017-05-01'],\n",
       "               dtype='datetime64[ns]', name='Date', length=334, freq=None),\n",
       " Index(['AMZN', 'FB', 'NFLX', 'NVDA', 'TWTR'], dtype='object')]"
      ]
     },
     "execution_count": 6,
     "metadata": {},
     "output_type": "execute_result"
    }
   ],
   "source": [
    "# retrieve stock data\n",
    "stocks = data.DataReader(stock_names, 'google', start, end)\n",
    "\n",
    "# print out panel axes\n",
    "stocks.axes"
   ]
  },
  {
   "cell_type": "markdown",
   "metadata": {},
   "source": [
    "## Show Cumulative Returns"
   ]
  },
  {
   "cell_type": "code",
   "execution_count": 7,
   "metadata": {
    "scrolled": true
   },
   "outputs": [
    {
     "data": {
      "text/plain": [
       "<matplotlib.axes._subplots.AxesSubplot at 0x1128aaf28>"
      ]
     },
     "execution_count": 7,
     "metadata": {},
     "output_type": "execute_result"
    },
    {
     "data": {
      "image/png": "[encoded data removed]",
      "text/plain": [
       "<matplotlib.figure.Figure at 0x1127340f0>"
      ]
     },
     "metadata": {},
     "output_type": "display_data"
    }
   ],
   "source": [
    "# plot cumulative returns\n",
    "# cumprod = cumulative product over axis\n",
    "((1 + stock_returns(stocks, 'B')).cumprod() - 1).plot()"
   ]
  },
  {
   "cell_type": "markdown",
   "metadata": {},
   "source": [
    "With return percentage on the y-axis, this chart details the evolution of each of the five companies over the 16 month interval. While Nvidia saw a massive increase in returns over that period, Amazon, Facebook and Netflix experienced a relatively stable increase. While the others were on average positive, Twitter was the only company which was reliably negative, showing more and more negative results over the same period. "
   ]
  },
  {
   "cell_type": "markdown",
   "metadata": {},
   "source": [
    "## Calculate Sharpe Ratio for Stock Portfolio"
   ]
  },
  {
   "cell_type": "code",
   "execution_count": 8,
   "metadata": {
    "collapsed": true
   },
   "outputs": [],
   "source": [
    "def calc_mom(price, lookback, lag=1):  \n",
    "    '''\n",
    "    Method name: calc_mom\n",
    "    A transform function to compute mean reversion over a user defined lookback.\n",
    "    This method will standardize and rank the data in descending order.\n",
    " \n",
    "    arguments parameters\n",
    "    price:      price of stock\n",
    "    lookback:   how many previous periods to account for\n",
    "    lag:        relative weight of each of the lagging periods\n",
    "\n",
    "    return value:\n",
    "    array list of standardized data\n",
    "    '''\n",
    "\n",
    "    # shift index by lag periods and determine percent change\n",
    "    mom_ret = price.shift(lag).pct_change(lookback)\n",
    "    # compute numerical data ranks along column in descending order\n",
    "    ranks = mom_ret.rank(axis=1, ascending=False)\n",
    "    # subtract off means \n",
    "    demeaned = ranks.subtract(ranks.mean(axis=1), axis=0)\n",
    "    # divide by standard deviation\n",
    "    return demeaned.divide(demeaned.std(axis=1), axis=0)"
   ]
  },
  {
   "cell_type": "code",
   "execution_count": 9,
   "metadata": {
    "collapsed": true
   },
   "outputs": [],
   "source": [
    "compound = lambda x: (1 + x).prod() - 1\n",
    "daily_sr = lambda x: x.mean() / x.std()\n",
    "\n",
    "\n",
    "def strat_sr(prices, lb, hold):   \n",
    "    '''\n",
    "    Method name: strat_sr\n",
    "    A strategy to return a Sharpe Ratio given stock prices, lookback and \n",
    "    holding period.\n",
    " \n",
    "    arguments parameters\n",
    "    prices:      price of the stock    \n",
    "    lookback:    number of periods to look back to\n",
    "    hold:        how many periods to hold the stock(s) in question\n",
    "\n",
    "    return value:\n",
    "    array list of daily_sr portfolio returns divided by the (252) business day\n",
    "    horizon\n",
    "    '''\n",
    "\n",
    "    # compute protfolio weights; \n",
    "    # e.g., 30 for hold will create a freq = '30B' period\n",
    "    freq = '%dB' % hold\n",
    "    # create new portfolio\n",
    "    port = calc_mom(prices, lb)\n",
    "    # daily returns\n",
    "    daily_rets = prices.pct_change()\n",
    "    \n",
    "    # compute portfolio returns\n",
    "    port = port.shift(1).resample(freq).first()\n",
    "    returns = daily_rets.resample(freq).apply(compound)\n",
    "    port_rets = (port * returns).sum(axis=1)\n",
    "    \n",
    "    # 252 = busines days\n",
    "    return daily_sr(port_rets) * np.sqrt(252 / hold)"
   ]
  },
  {
   "cell_type": "code",
   "execution_count": 10,
   "metadata": {},
   "outputs": [
    {
     "data": {
      "text/plain": [
       "-0.97931554590193715"
      ]
     },
     "execution_count": 10,
     "metadata": {},
     "output_type": "execute_result"
    }
   ],
   "source": [
    "strat_sr(stocks['Close'], 70, 30)"
   ]
  },
  {
   "cell_type": "markdown",
   "metadata": {},
   "source": [
    "As a reminder, the Sharpe Ratio is calculated to determine the risk-adjusted returns for the portfolio in question. For reference, a Sharpe Ratio of 1 is considered good, while a ratio of 3 or above is considered to be excellent. In this portfolio's case, the ratio is nearly -1 which is a characteristic of a **risk-seeking** investor. While the portfolio did see an overall increase in returns, the risk associated with such a gamble could be considered extreme. It is important to keep in mind that this Sharpe Ratio is the result of a lookback period of 70 with a holding period of 30. \n",
    "\n",
    "Let's visualize the different combinations to see if there is a better option for lookback and holding periods."
   ]
  },
  {
   "cell_type": "markdown",
   "metadata": {},
   "source": [
    "## Visualization of Sharpe Ratio"
   ]
  },
  {
   "cell_type": "code",
   "execution_count": 11,
   "metadata": {
    "collapsed": true
   },
   "outputs": [],
   "source": [
    "def heatmap(df, cmap=plt.cm.gray_r):\n",
    "    '''\n",
    "    Method name: heatmap\n",
    "    A strategy to return a Sharpe Ratio given stock prices, lookback and \n",
    "    holding period.\n",
    " \n",
    "    argument parameters\n",
    "    df:          pandas DataFrame\n",
    "    cmap:        color of cmap\n",
    "\n",
    "\n",
    "    return value:\n",
    "    None\n",
    "    '''\n",
    "    \n",
    "    fig = plt.figure()\n",
    "    ax = fig.add_subplot(111)\n",
    "    # imshow - plot numpy array as images\n",
    "    axim = ax.imshow(df.values, cmap=cmap, interpolation='nearest')\n",
    "    ax.set_xlabel(df.columns.name)\n",
    "    ax.set_xticks(np.arange(len(df.columns)))\n",
    "    ax.set_xticklabels(list(df.columns))\n",
    "    ax.set_ylabel(df.index.name)\n",
    "    ax.set_yticks(np.arange(len(df.index)))\n",
    "    ax.set_yticklabels(list(df.index))\n",
    "    plt.colorbar(axim)"
   ]
  },
  {
   "cell_type": "code",
   "execution_count": 12,
   "metadata": {},
   "outputs": [
    {
     "data": {
      "image/png": "[encoded data removed]",
      "text/plain": [
       "<matplotlib.figure.Figure at 0x116614a58>"
      ]
     },
     "metadata": {},
     "output_type": "display_data"
    }
   ],
   "source": [
    "# evaluate strategy Sharpe Ratio function of a grid of parameters\n",
    "from collections import defaultdict\n",
    "\n",
    "lookbacks = range(20, 90, 5)\n",
    "holdings = range(20, 90, 5)\n",
    "dd = defaultdict(dict)\n",
    "for lb in lookbacks:\n",
    "    for hold in holdings:\n",
    "        dd[lb][hold] = strat_sr(stocks['Close'], lb, hold)\n",
    "        \n",
    "ddf = DataFrame(dd)\n",
    "ddf.index.name = 'Holding Period'\n",
    "ddf.columns.name = 'Lookback Period'\n",
    "\n",
    "heatmap(ddf)"
   ]
  },
  {
   "cell_type": "markdown",
   "metadata": {},
   "source": [
    "The Heatmap for this portfolio of stocks over a range of holding and lookback periods show the portfolio has higher performance for holding between 60-70 and a lookback between 20-50. Lighter color is a better ratio."
   ]
  },
  {
   "cell_type": "markdown",
   "metadata": {},
   "source": [
    "<a id=\"results\"></a>\n",
    "## 4 - Results\n",
    "\n",
    "<div style='margin-left:10%;margin-right:10%;margin-top:15px;background-color:#d3d3d3;padding:10px;'>\n",
    "<h3>Results (<b>30 points total</b>)</h3>"
   ]
  },
  {
   "cell_type": "markdown",
   "metadata": {},
   "source": [
    "The data required for this exercise was retrieved from Google. Once this was achieved, the stock_returns method was created to define the parameters, including the closing date of the input portfolio list and frequency. The stock_returns function returns the percentage change of the stocks based on the specific stock closing value as well as the input frequencies. \n",
    "\n",
    "Before the Sharpe Ratio was calculated, a transform function was created to compute the mean reversion over the lookback as defined by the user. With this transformation completed, the ratios were then calculated based on the parameters from the transform function. This new strategy function (strat_sr) returns the Sharpe Ratio by computing each of the portfolio weights, creating a new portfolio, calculates the percent change and portfolio returns. \n",
    "\n",
    "Once the Sharpe Ratio has been calculated, we were able to generate the heatmap to display the results of all the different possible combinations of holding and lookback periods. This was accomplished by generating a grid of lookback and holdings in  increments of 5. From what we noticed, while the resulting Sharpe Ratio was not the most detrimental, there were many other combinations of lookback and holding periods which would have resulted in a more beneficial ratio. This can be seen from the heatmap in the methods section.\n",
    "\n",
    "Of the five stocks selected, Nvidia had the highest overall cumulative return in the 15-month span while Twitter stayed near the bottom with negative overall returns. For a risk-neutral or risk-seeking investor, it would be wise to rebalance the portfolio by subsituting another stock option for Twitter. This will likely minimize overall negative returns for the portfolio. "
   ]
  },
  {
   "cell_type": "markdown",
   "metadata": {},
   "source": [
    "<a id=\"conclusion\"></a>\n",
    "## 5 - Conclusion\n",
    "\n",
    "<div style='margin-left:10%;margin-right:10%;margin-top:15px;background-color:#d3d3d3;padding:10px;'>\n",
    "<h3>Conclusion (<b>5 points total</b>)</h3>"
   ]
  },
  {
   "cell_type": "markdown",
   "metadata": {},
   "source": [
    "There are numerous ways to measure the performance of a financial portfolio. For this case study, Python was used to calculate the Sharpe Ratio to gauge the performance of a portfolio. While Nvidia was the most volatile stock and saw the highest overall returns, Twitter proved to be the worst performing stock out of all five, with overall negative returns.\n",
    "\n",
    "Other measures to consider instead of the more common Sharpe Ratio include: Roy's Safety First Ratio, Sortino Ratio, Treynor Ratio, and the Information Ratio. \"In contrast to the Sharpe, Sortino and Roy's safety-first ratios, the information ratio uses the standard deviation of active returns as a measure of risk instead of the standard deviation of the portfolio [5].\" All of these measures help the investor calculate the excess return per unit risk. While all of these measures are helpful, it is important to remember they are independent of one another and cannot be compared as they are different measures of performance.\n",
    "\n",
    "In summary, all of the above ratios help investors calculate the excess return per unit of risk with slight differences. It is important to standardize returns on a risk-adjusted basis when comparing portfolios to one another.  That is, the Sortino Ratio of one portfolio cannot be compared to the Sharpe Ratio or Information Ratio of another. We want to be able to compare apples to apples and oranges to oranges [5].\n",
    "\n",
    "It is best practice based in Modern portfolio theory to have a portfolio of stocks that is diversified to reduce portfolio risk without reducing the portfolio's expected return.  For example, to have a portfolio of stocks which consist of hi-tech stocks, medical stocks, and food or beverage stocks.  Portfolio diversification works best when financial markets are operating normally, and diversification provides less reduction of risk during market turmoil [6].  Additionally, a diversified portfolio may in turn increase the Sharpe Ratio for the financial portfolio."
   ]
  },
  {
   "cell_type": "markdown",
   "metadata": {},
   "source": [
    "<a id=\"biblio\"></a>\n",
    "## 6 - Bibliography and Citation\n",
    "\n",
    "<div style='margin-left:10%;margin-right:10%;margin-top:15px;background-color:#d3d3d3;padding:10px;'>\n",
    "<h3>Bibliography and Citation (<b>5 points total</b>)</h3>\n",
    "</div>\n",
    "\n",
    "- [1] Mean reversion; Wikipedia; https://en.wikipedia.org/wiki/Mean_reversion_(finance).\n",
    "- [2] Python for Data Analysis, pgs. 342-344.\n",
    "- [3] Sharpe Ratio; Investopedia; http://www.investopedia.com/terms/s/sharperatio.asp.\n",
    "- [4] Investments, 9th Edition, Bode, Kane, Marcus\n",
    "- [5] 5 Ways to Measure Money Managers; http://www.investopedia.com/articles/stocks/11/5-ways-to-measure-money-managers.asp\n",
    "- [6] CFA KAPLAN SCHWESER's Secret Sauce for the CFA Exam"
   ]
  },
  {
   "cell_type": "markdown",
   "metadata": {},
   "source": [
    "<a id=\"code\"></a>\n",
    "## 7 - Code\n",
    "\n",
    "<div style='margin-left:10%;margin-right:10%;margin-top:15px;background-color:#d3d3d3;padding:10px;'>\n",
    "<h3>Code (5 points)</h3>\n",
    "</div>\n",
    "\n",
    "See code in Methods section"
   ]
  }
 ],
 "metadata": {
  "anaconda-cloud": {},
  "kernelspec": {
   "display_name": "Python 3",
   "language": "python",
   "name": "python3"
  },
  "language_info": {
   "codemirror_mode": {
    "name": "ipython",
    "version": 3
   },
   "file_extension": ".py",
   "mimetype": "text/x-python",
   "name": "python",
   "nbconvert_exporter": "python",
   "pygments_lexer": "ipython3",
   "version": "3.6.1"
  }
 },
 "nbformat": 4,
 "nbformat_minor": 2
}
